{
 "cells": [
  {
   "cell_type": "markdown",
   "metadata": {},
   "source": [
    "## ANALSYIS OF TITANIC DATASET"
   ]
  },
  {
   "cell_type": "code",
   "execution_count": 1,
   "metadata": {
    "_cell_guid": "b1076dfc-b9ad-4769-8c92-a6c4dae69d19",
    "_uuid": "8f2839f25d086af736a60e9eeb907d3b93b6e0e5",
    "execution": {
     "iopub.execute_input": "2021-09-27T11:23:31.782458Z",
     "iopub.status.busy": "2021-09-27T11:23:31.782121Z",
     "iopub.status.idle": "2021-09-27T11:23:31.793325Z",
     "shell.execute_reply": "2021-09-27T11:23:31.792496Z",
     "shell.execute_reply.started": "2021-09-27T11:23:31.782426Z"
    }
   },
   "outputs": [
    {
     "name": "stderr",
     "output_type": "stream",
     "text": [
      "C:\\Users\\burak\\AppData\\Roaming\\Python\\Python39\\site-packages\\lofo\\lofo_importance.py:3: TqdmExperimentalWarning: Using `tqdm.autonotebook.tqdm` in notebook mode. Use `tqdm.tqdm` instead to force console mode (e.g. in jupyter console)\n",
      "  from tqdm.autonotebook import tqdm\n"
     ]
    }
   ],
   "source": [
    "import numpy as np # linear algebra\n",
    "import pandas as pd # data processing, CSV file I/O (e.g. pd.read_csv)\n",
    "import matplotlib.pyplot as plt\n",
    "import seaborn as sns\n",
    "from xgboost import XGBClassifier\n",
    "import xgboost as xgb\n",
    "import lightgbm as lgb\n",
    "from lofo import LOFOImportance, Dataset, plot_importance\n",
    "%matplotlib inline\n",
    "from sklearn.metrics import make_scorer, mean_absolute_error, f1_score, accuracy_score, confusion_matrix\n",
    "from sklearn.model_selection import train_test_split, StratifiedKFold, KFold, GridSearchCV, cross_val_score\n",
    "import itertools\n",
    "import optuna"
   ]
  },
  {
   "cell_type": "markdown",
   "metadata": {},
   "source": [
    "**Read 'Training' and 'Test' data files**"
   ]
  },
  {
   "cell_type": "code",
   "execution_count": 2,
   "metadata": {
    "execution": {
     "iopub.execute_input": "2021-09-27T11:23:31.795375Z",
     "iopub.status.busy": "2021-09-27T11:23:31.795123Z",
     "iopub.status.idle": "2021-09-27T11:23:31.833755Z",
     "shell.execute_reply": "2021-09-27T11:23:31.832844Z",
     "shell.execute_reply.started": "2021-09-27T11:23:31.795345Z"
    }
   },
   "outputs": [],
   "source": [
    "train_data = pd.read_csv(\"train.csv\")\n",
    "test_data = pd.read_csv(\"test.csv\")\n",
    "\n",
    "combine = [train_data, test_data]"
   ]
  },
  {
   "cell_type": "markdown",
   "metadata": {},
   "source": [
    "**How data looks**"
   ]
  },
  {
   "cell_type": "code",
   "execution_count": 3,
   "metadata": {
    "execution": {
     "iopub.execute_input": "2021-09-27T11:23:31.835429Z",
     "iopub.status.busy": "2021-09-27T11:23:31.835105Z",
     "iopub.status.idle": "2021-09-27T11:23:31.859103Z",
     "shell.execute_reply": "2021-09-27T11:23:31.858328Z",
     "shell.execute_reply.started": "2021-09-27T11:23:31.835380Z"
    }
   },
   "outputs": [
    {
     "data": {
      "text/html": [
       "<div>\n",
       "<style scoped>\n",
       "    .dataframe tbody tr th:only-of-type {\n",
       "        vertical-align: middle;\n",
       "    }\n",
       "\n",
       "    .dataframe tbody tr th {\n",
       "        vertical-align: top;\n",
       "    }\n",
       "\n",
       "    .dataframe thead th {\n",
       "        text-align: right;\n",
       "    }\n",
       "</style>\n",
       "<table border=\"1\" class=\"dataframe\">\n",
       "  <thead>\n",
       "    <tr style=\"text-align: right;\">\n",
       "      <th></th>\n",
       "      <th>PassengerId</th>\n",
       "      <th>Survived</th>\n",
       "      <th>Pclass</th>\n",
       "      <th>Name</th>\n",
       "      <th>Sex</th>\n",
       "      <th>Age</th>\n",
       "      <th>SibSp</th>\n",
       "      <th>Parch</th>\n",
       "      <th>Ticket</th>\n",
       "      <th>Fare</th>\n",
       "      <th>Cabin</th>\n",
       "      <th>Embarked</th>\n",
       "    </tr>\n",
       "  </thead>\n",
       "  <tbody>\n",
       "    <tr>\n",
       "      <th>0</th>\n",
       "      <td>1</td>\n",
       "      <td>0</td>\n",
       "      <td>3</td>\n",
       "      <td>Braund, Mr. Owen Harris</td>\n",
       "      <td>male</td>\n",
       "      <td>22.0</td>\n",
       "      <td>1</td>\n",
       "      <td>0</td>\n",
       "      <td>A/5 21171</td>\n",
       "      <td>7.2500</td>\n",
       "      <td>NaN</td>\n",
       "      <td>S</td>\n",
       "    </tr>\n",
       "    <tr>\n",
       "      <th>1</th>\n",
       "      <td>2</td>\n",
       "      <td>1</td>\n",
       "      <td>1</td>\n",
       "      <td>Cumings, Mrs. John Bradley (Florence Briggs Th...</td>\n",
       "      <td>female</td>\n",
       "      <td>38.0</td>\n",
       "      <td>1</td>\n",
       "      <td>0</td>\n",
       "      <td>PC 17599</td>\n",
       "      <td>71.2833</td>\n",
       "      <td>C85</td>\n",
       "      <td>C</td>\n",
       "    </tr>\n",
       "    <tr>\n",
       "      <th>2</th>\n",
       "      <td>3</td>\n",
       "      <td>1</td>\n",
       "      <td>3</td>\n",
       "      <td>Heikkinen, Miss. Laina</td>\n",
       "      <td>female</td>\n",
       "      <td>26.0</td>\n",
       "      <td>0</td>\n",
       "      <td>0</td>\n",
       "      <td>STON/O2. 3101282</td>\n",
       "      <td>7.9250</td>\n",
       "      <td>NaN</td>\n",
       "      <td>S</td>\n",
       "    </tr>\n",
       "    <tr>\n",
       "      <th>3</th>\n",
       "      <td>4</td>\n",
       "      <td>1</td>\n",
       "      <td>1</td>\n",
       "      <td>Futrelle, Mrs. Jacques Heath (Lily May Peel)</td>\n",
       "      <td>female</td>\n",
       "      <td>35.0</td>\n",
       "      <td>1</td>\n",
       "      <td>0</td>\n",
       "      <td>113803</td>\n",
       "      <td>53.1000</td>\n",
       "      <td>C123</td>\n",
       "      <td>S</td>\n",
       "    </tr>\n",
       "    <tr>\n",
       "      <th>4</th>\n",
       "      <td>5</td>\n",
       "      <td>0</td>\n",
       "      <td>3</td>\n",
       "      <td>Allen, Mr. William Henry</td>\n",
       "      <td>male</td>\n",
       "      <td>35.0</td>\n",
       "      <td>0</td>\n",
       "      <td>0</td>\n",
       "      <td>373450</td>\n",
       "      <td>8.0500</td>\n",
       "      <td>NaN</td>\n",
       "      <td>S</td>\n",
       "    </tr>\n",
       "  </tbody>\n",
       "</table>\n",
       "</div>"
      ],
      "text/plain": [
       "   PassengerId  Survived  Pclass  \\\n",
       "0            1         0       3   \n",
       "1            2         1       1   \n",
       "2            3         1       3   \n",
       "3            4         1       1   \n",
       "4            5         0       3   \n",
       "\n",
       "                                                Name     Sex   Age  SibSp  \\\n",
       "0                            Braund, Mr. Owen Harris    male  22.0      1   \n",
       "1  Cumings, Mrs. John Bradley (Florence Briggs Th...  female  38.0      1   \n",
       "2                             Heikkinen, Miss. Laina  female  26.0      0   \n",
       "3       Futrelle, Mrs. Jacques Heath (Lily May Peel)  female  35.0      1   \n",
       "4                           Allen, Mr. William Henry    male  35.0      0   \n",
       "\n",
       "   Parch            Ticket     Fare Cabin Embarked  \n",
       "0      0         A/5 21171   7.2500   NaN        S  \n",
       "1      0          PC 17599  71.2833   C85        C  \n",
       "2      0  STON/O2. 3101282   7.9250   NaN        S  \n",
       "3      0            113803  53.1000  C123        S  \n",
       "4      0            373450   8.0500   NaN        S  "
      ]
     },
     "execution_count": 3,
     "metadata": {},
     "output_type": "execute_result"
    }
   ],
   "source": [
    "train_data.head()"
   ]
  },
  {
   "cell_type": "markdown",
   "metadata": {},
   "source": [
    "**Some information about data**"
   ]
  },
  {
   "cell_type": "code",
   "execution_count": 4,
   "metadata": {
    "execution": {
     "iopub.execute_input": "2021-09-27T11:23:31.860991Z",
     "iopub.status.busy": "2021-09-27T11:23:31.860763Z",
     "iopub.status.idle": "2021-09-27T11:23:31.896431Z",
     "shell.execute_reply": "2021-09-27T11:23:31.894762Z",
     "shell.execute_reply.started": "2021-09-27T11:23:31.860966Z"
    }
   },
   "outputs": [
    {
     "name": "stdout",
     "output_type": "stream",
     "text": [
      "<class 'pandas.core.frame.DataFrame'>\n",
      "RangeIndex: 891 entries, 0 to 890\n",
      "Data columns (total 12 columns):\n",
      " #   Column       Non-Null Count  Dtype  \n",
      "---  ------       --------------  -----  \n",
      " 0   PassengerId  891 non-null    int64  \n",
      " 1   Survived     891 non-null    int64  \n",
      " 2   Pclass       891 non-null    int64  \n",
      " 3   Name         891 non-null    object \n",
      " 4   Sex          891 non-null    object \n",
      " 5   Age          714 non-null    float64\n",
      " 6   SibSp        891 non-null    int64  \n",
      " 7   Parch        891 non-null    int64  \n",
      " 8   Ticket       891 non-null    object \n",
      " 9   Fare         891 non-null    float64\n",
      " 10  Cabin        204 non-null    object \n",
      " 11  Embarked     889 non-null    object \n",
      "dtypes: float64(2), int64(5), object(5)\n",
      "memory usage: 83.7+ KB\n",
      "None\n",
      "\n",
      "Number of rows :  891\n",
      "Number of columns :  12\n",
      "\n",
      "Train columns with null values: \n",
      " PassengerId      0\n",
      "Survived         0\n",
      "Pclass           0\n",
      "Name             0\n",
      "Sex              0\n",
      "Age            177\n",
      "SibSp            0\n",
      "Parch            0\n",
      "Ticket           0\n",
      "Fare             0\n",
      "Cabin          687\n",
      "Embarked         2\n",
      "dtype: int64\n",
      "\n",
      "Number of total people who survived or dead ( 0 : Dead, 1: Survived )\n",
      " 0    549 (61.62%)\n",
      "1    342 (38.38%)\n",
      "Name: Survived, dtype: object\n",
      "\n",
      "% of women who survived: 0.7420382165605095\n",
      "\n",
      "% of men who survived: 0.18890814558058924\n"
     ]
    }
   ],
   "source": [
    "print(train_data.info())\n",
    "\n",
    "print('\\nNumber of rows : ', train_data.shape[0])\n",
    "print('Number of columns : ', train_data.shape[1])\n",
    "\n",
    "print('\\nTrain columns with null values: \\n', train_data.isnull().sum())\n",
    "\n",
    "print('\\nNumber of total people who survived or dead ( 0 : Dead, 1: Survived )\\n', train_data['Survived'].value_counts().apply(lambda x:f'{x} ({x*100/len(train_data):0.2f}%)'))\n",
    "\n",
    "women = train_data.loc[train_data.Sex == 'female'][\"Survived\"]\n",
    "rate_women = sum(women)/len(women)\n",
    "print(\"\\n% of women who survived:\", rate_women)\n",
    "\n",
    "men = train_data.loc[train_data.Sex == 'male'][\"Survived\"]\n",
    "rate_men = sum(men)/len(men)\n",
    "print(\"\\n% of men who survived:\", rate_men)"
   ]
  },
  {
   "cell_type": "markdown",
   "metadata": {},
   "source": [
    "# DATA VISUALIZATION"
   ]
  },
  {
   "cell_type": "code",
   "execution_count": 5,
   "metadata": {
    "execution": {
     "iopub.execute_input": "2021-09-27T11:23:31.897993Z",
     "iopub.status.busy": "2021-09-27T11:23:31.897775Z",
     "iopub.status.idle": "2021-09-27T11:23:32.144109Z",
     "shell.execute_reply": "2021-09-27T11:23:32.143317Z",
     "shell.execute_reply.started": "2021-09-27T11:23:31.897969Z"
    }
   },
   "outputs": [
    {
     "data": {
      "image/png": "[encoded data removed]",
      "text/plain": [
       "<Figure size 432x288 with 1 Axes>"
      ]
     },
     "metadata": {},
     "output_type": "display_data"
    },
    {
     "name": "stdout",
     "output_type": "stream",
     "text": [
      "> We see that survival rate of women is more than men\n"
     ]
    }
   ],
   "source": [
    "sns.set_style('whitegrid')\n",
    "s = sns.countplot(x='Survived', hue='Sex', data=train_data, palette='rainbow')\n",
    "s.set_title(\"Number of survived or dead categorized by gender\")\n",
    "plt.show()\n",
    "print(\"> We see that survival rate of women is more than men\")"
   ]
  },
  {
   "cell_type": "code",
   "execution_count": 6,
   "metadata": {
    "execution": {
     "iopub.execute_input": "2021-09-27T11:23:32.146075Z",
     "iopub.status.busy": "2021-09-27T11:23:32.145620Z",
     "iopub.status.idle": "2021-09-27T11:23:32.384084Z",
     "shell.execute_reply": "2021-09-27T11:23:32.383165Z",
     "shell.execute_reply.started": "2021-09-27T11:23:32.146036Z"
    }
   },
   "outputs": [
    {
     "name": "stderr",
     "output_type": "stream",
     "text": [
      "C:\\Users\\burak\\AppData\\Roaming\\Python\\Python39\\site-packages\\matplotlib\\backends\\backend_agg.py:240: RuntimeWarning: Glyph 9 missing from current font.\n",
      "  font.set_text(s, 0.0, flags=flags)\n",
      "C:\\Users\\burak\\AppData\\Roaming\\Python\\Python39\\site-packages\\matplotlib\\backends\\backend_agg.py:203: RuntimeWarning: Glyph 9 missing from current font.\n",
      "  font.set_text(s, 0, flags=flags)\n"
     ]
    },
    {
     "data": {
      "image/png": "[encoded data removed]",
      "text/plain": [
       "<Figure size 432x288 with 1 Axes>"
      ]
     },
     "metadata": {},
     "output_type": "display_data"
    },
    {
     "name": "stdout",
     "output_type": "stream",
     "text": [
      "> We see that survival rate of 1st and 2nd passenger class is higher than 3rd class\n"
     ]
    }
   ],
   "source": [
    "sns.set_style('whitegrid')\n",
    "s = sns.countplot(x='Pclass', hue='Survived', data=train_data, palette='rainbow')\n",
    "s.set_title(\"\\t\\t\\t\\t\\t\\tNumber of survived or dead categorized by passenger class\")\n",
    "plt.show()\n",
    "print(\"> We see that survival rate of 1st and 2nd passenger class is higher than 3rd class\")"
   ]
  },
  {
   "cell_type": "code",
   "execution_count": 7,
   "metadata": {
    "execution": {
     "iopub.execute_input": "2021-09-27T11:23:32.385673Z",
     "iopub.status.busy": "2021-09-27T11:23:32.385372Z",
     "iopub.status.idle": "2021-09-27T11:23:33.217277Z",
     "shell.execute_reply": "2021-09-27T11:23:33.216685Z",
     "shell.execute_reply.started": "2021-09-27T11:23:32.385638Z"
    }
   },
   "outputs": [
    {
     "name": "stdout",
     "output_type": "stream",
     "text": [
      "Number of people categorized by port of embarkation\n"
     ]
    },
    {
     "data": {
      "image/png": "[encoded data removed]",
      "text/plain": [
       "<Figure size 1080x360 with 3 Axes>"
      ]
     },
     "metadata": {},
     "output_type": "display_data"
    },
    {
     "name": "stdout",
     "output_type": "stream",
     "text": [
      "Hint : C = Cherbourg, Q = Queenstown, S = Southampton \n",
      "> We see that most of people come from Southampton and chose 3rd class\n"
     ]
    }
   ],
   "source": [
    "sns.set_style('whitegrid')\n",
    "sns.catplot(x='Pclass', col='Embarked', kind='count', data=train_data)\n",
    "print(\"Number of people categorized by port of embarkation\")\n",
    "plt.show()\n",
    "print(\"Hint : C = Cherbourg, Q = Queenstown, S = Southampton \")\n",
    "print(\"> We see that most of people come from Southampton and chose 3rd class\")"
   ]
  },
  {
   "cell_type": "code",
   "execution_count": 8,
   "metadata": {
    "execution": {
     "iopub.execute_input": "2021-09-27T11:23:33.219497Z",
     "iopub.status.busy": "2021-09-27T11:23:33.219307Z",
     "iopub.status.idle": "2021-09-27T11:23:33.972403Z",
     "shell.execute_reply": "2021-09-27T11:23:33.971443Z",
     "shell.execute_reply.started": "2021-09-27T11:23:33.219474Z"
    }
   },
   "outputs": [
    {
     "name": "stderr",
     "output_type": "stream",
     "text": [
      "<ipython-input-8-b93c6110fb0c>:9: UserWarning: FixedFormatter should only be used together with FixedLocator\n",
      "  axeszero_yticklabel = axes[0].set_yticklabels([int(x) for x in age_dead.get_yticks()],size=12)\n",
      "<ipython-input-8-b93c6110fb0c>:11: UserWarning: FixedFormatter should only be used together with FixedLocator\n",
      "  axeszero_xticklabel = axes[0].set_xticklabels([int(x) for x in age_dead.get_xticks()],size=12)\n",
      "<ipython-input-8-b93c6110fb0c>:14: UserWarning: FixedFormatter should only be used together with FixedLocator\n",
      "  axesone_xticklabel = axes[1].set_xticklabels([int(x) for x in age_surv.get_xticks()],size=12)\n"
     ]
    },
    {
     "data": {
      "image/png": "[encoded data removed]",
      "text/plain": [
       "<Figure size 1008x432 with 2 Axes>"
      ]
     },
     "metadata": {},
     "output_type": "display_data"
    },
    {
     "name": "stdout",
     "output_type": "stream",
     "text": [
      "> We see that between 20-30 ages almost same probability of survived and didn't survived\n"
     ]
    }
   ],
   "source": [
    "fig, axes = plt.subplots(nrows=1, ncols=2, figsize=(14,6), constrained_layout=True, sharey=True)\n",
    "\n",
    "#Graphs\n",
    "age_surv = sns.histplot(data=train_data[train_data['Survived']==1],x='Age',bins=30,ax=axes[1])\n",
    "age_dead = sns.histplot(data=train_data[train_data['Survived']==0],x='Age',bins=30,ax=axes[0])\n",
    "\n",
    "figtitle = fig.suptitle('Survival by Age',fontsize=24)\n",
    "axeszero_ylabel = axes[0].set_ylabel('Count',size=14)\n",
    "axeszero_yticklabel = axes[0].set_yticklabels([int(x) for x in age_dead.get_yticks()],size=12)\n",
    "axeszero_title = axes[0].set_title('Did Not Survive', fontsize=14)\n",
    "axeszero_xticklabel = axes[0].set_xticklabels([int(x) for x in age_dead.get_xticks()],size=12) \n",
    "axeszero_xlabel = axes[0].set_xlabel('Age',size=14)\n",
    "axesone_title = axes[1].set_title('Survived', fontsize=14)\n",
    "axesone_xticklabel = axes[1].set_xticklabels([int(x) for x in age_surv.get_xticks()],size=12)\n",
    "axesone_xlabel = axes[1].set_xlabel('Age',size=14)\n",
    "plt.show()\n",
    "print(\"> We see that between 20-30 ages almost same probability of survived and didn't survived\")"
   ]
  },
  {
   "cell_type": "code",
   "execution_count": 9,
   "metadata": {
    "execution": {
     "iopub.execute_input": "2021-09-27T11:23:33.974738Z",
     "iopub.status.busy": "2021-09-27T11:23:33.973852Z",
     "iopub.status.idle": "2021-09-27T11:23:34.600854Z",
     "shell.execute_reply": "2021-09-27T11:23:34.600279Z",
     "shell.execute_reply.started": "2021-09-27T11:23:33.974695Z"
    }
   },
   "outputs": [
    {
     "data": {
      "image/png": "[encoded data removed]",
      "text/plain": [
       "<Figure size 648x648 with 1 Axes>"
      ]
     },
     "metadata": {},
     "output_type": "display_data"
    },
    {
     "name": "stdout",
     "output_type": "stream",
     "text": [
      "Hint : SibSp = number of siblings / spouses \n"
     ]
    }
   ],
   "source": [
    "#SibSp - Survived\n",
    "sns.set_style('whitegrid')\n",
    "g = sns.catplot(x = \"SibSp\", y = \"Survived\", data = train_data, kind = \"bar\", height= 9)\n",
    "g.set_ylabels(\"Probability of Survival\")\n",
    "plt.show()\n",
    "print(\"Hint : SibSp = number of siblings / spouses \")"
   ]
  },
  {
   "cell_type": "code",
   "execution_count": 10,
   "metadata": {
    "execution": {
     "iopub.execute_input": "2021-09-27T11:23:34.602295Z",
     "iopub.status.busy": "2021-09-27T11:23:34.602062Z",
     "iopub.status.idle": "2021-09-27T11:23:35.171792Z",
     "shell.execute_reply": "2021-09-27T11:23:35.171150Z",
     "shell.execute_reply.started": "2021-09-27T11:23:34.602267Z"
    }
   },
   "outputs": [
    {
     "data": {
      "image/png": "[encoded data removed]",
      "text/plain": [
       "<Figure size 504x504 with 1 Axes>"
      ]
     },
     "metadata": {},
     "output_type": "display_data"
    },
    {
     "name": "stdout",
     "output_type": "stream",
     "text": [
      "Hint : Parch = number of parents / children \n",
      "> After we see that from last two visualization, small families have more chance to survive\n"
     ]
    }
   ],
   "source": [
    "#ParCh - Survived\n",
    "sns.set_style('whitegrid')\n",
    "g = sns.catplot(x = \"Parch\", y = \"Survived\", data = train_data, kind = \"bar\", height = 7)\n",
    "g.set_ylabels(\"Probability of Survival\")\n",
    "plt.show()\n",
    "print(\"Hint : Parch = number of parents / children \")\n",
    "print(\"> After we see that from last two visualization, small families have more chance to survive\")"
   ]
  },
  {
   "cell_type": "code",
   "execution_count": 11,
   "metadata": {
    "execution": {
     "iopub.execute_input": "2021-09-27T11:23:35.172839Z",
     "iopub.status.busy": "2021-09-27T11:23:35.172630Z",
     "iopub.status.idle": "2021-09-27T11:23:35.525971Z",
     "shell.execute_reply": "2021-09-27T11:23:35.525025Z",
     "shell.execute_reply.started": "2021-09-27T11:23:35.172815Z"
    }
   },
   "outputs": [
    {
     "data": {
      "image/png": "[encoded data removed]",
      "text/plain": [
       "<Figure size 432x288 with 2 Axes>"
      ]
     },
     "metadata": {},
     "output_type": "display_data"
    },
    {
     "name": "stdout",
     "output_type": "stream",
     "text": [
      "> We see that these features have not more affect to target\n"
     ]
    }
   ],
   "source": [
    "plt.style.use(\"seaborn-whitegrid\")\n",
    "num_col = [\"SibSp\", \"Parch\", \"Age\", \"Fare\", \"Survived\"]\n",
    "s = sns.heatmap(train_data[num_col].corr(), annot = True, fmt = \".2f\")\n",
    "s.set_title(\"Correlation between numerical features and target\")\n",
    "plt.show()\n",
    "print(\"> We see that these features have not more affect to target\")"
   ]
  },
  {
   "cell_type": "markdown",
   "metadata": {},
   "source": [
    "# FEATURE ENGINEERING"
   ]
  },
  {
   "cell_type": "code",
   "execution_count": 12,
   "metadata": {
    "execution": {
     "iopub.execute_input": "2021-09-27T11:23:35.527733Z",
     "iopub.status.busy": "2021-09-27T11:23:35.527440Z",
     "iopub.status.idle": "2021-09-27T11:23:35.540203Z",
     "shell.execute_reply": "2021-09-27T11:23:35.539177Z",
     "shell.execute_reply.started": "2021-09-27T11:23:35.527696Z"
    }
   },
   "outputs": [
    {
     "name": "stdout",
     "output_type": "stream",
     "text": [
      "\n",
      "Train data with null values:\n",
      "\n",
      "Test data with null values:\n"
     ]
    },
    {
     "data": {
      "text/plain": [
       "PassengerId      0\n",
       "Pclass           0\n",
       "Name             0\n",
       "Sex              0\n",
       "Age             86\n",
       "SibSp            0\n",
       "Parch            0\n",
       "Ticket           0\n",
       "Fare             1\n",
       "Cabin          327\n",
       "Embarked         0\n",
       "dtype: int64"
      ]
     },
     "execution_count": 12,
     "metadata": {},
     "output_type": "execute_result"
    }
   ],
   "source": [
    "print('\\nTrain data with null values:')\n",
    "train_data.isnull().sum()\n",
    "\n",
    "print('\\nTest data with null values:')\n",
    "test_data.isnull().sum()"
   ]
  },
  {
   "cell_type": "markdown",
   "metadata": {},
   "source": [
    "**NAME - TITLE SPLIT and MAPPING**"
   ]
  },
  {
   "cell_type": "code",
   "execution_count": 13,
   "metadata": {
    "execution": {
     "iopub.execute_input": "2021-09-27T11:23:35.541732Z",
     "iopub.status.busy": "2021-09-27T11:23:35.541469Z",
     "iopub.status.idle": "2021-09-27T11:23:35.564069Z",
     "shell.execute_reply": "2021-09-27T11:23:35.563312Z",
     "shell.execute_reply.started": "2021-09-27T11:23:35.541704Z"
    }
   },
   "outputs": [
    {
     "data": {
      "text/plain": [
       "Mr          517\n",
       "Miss        182\n",
       "Mrs         125\n",
       "Master       40\n",
       "Dr            7\n",
       "Rev           6\n",
       "Mlle          2\n",
       "Major         2\n",
       "Col           2\n",
       "Countess      1\n",
       "Capt          1\n",
       "Ms            1\n",
       "Sir           1\n",
       "Lady          1\n",
       "Mme           1\n",
       "Don           1\n",
       "Jonkheer      1\n",
       "Name: Title, dtype: int64"
      ]
     },
     "execution_count": 13,
     "metadata": {},
     "output_type": "execute_result"
    }
   ],
   "source": [
    "for dataset in combine:\n",
    "    dataset['Title'] = dataset['Name'].str.extract(' ([A-Za-z]+)\\.', expand=False)\n",
    "\n",
    "# SITUATION OF TITLE COLUMN AND NUMBER OF EACH TITLE\n",
    "train_data['Title'].value_counts()"
   ]
  },
  {
   "cell_type": "markdown",
   "metadata": {},
   "source": [
    "> Depends on these values mapping for title column\n",
    "* Mr : 0\n",
    "* Miss : 1\n",
    "* Mrs: 2\n",
    "* Master: 3\n",
    "* Others : 4"
   ]
  },
  {
   "cell_type": "code",
   "execution_count": 14,
   "metadata": {
    "execution": {
     "iopub.execute_input": "2021-09-27T11:23:35.565669Z",
     "iopub.status.busy": "2021-09-27T11:23:35.565205Z",
     "iopub.status.idle": "2021-09-27T11:23:35.576701Z",
     "shell.execute_reply": "2021-09-27T11:23:35.575704Z",
     "shell.execute_reply.started": "2021-09-27T11:23:35.565641Z"
    }
   },
   "outputs": [],
   "source": [
    "title_mapping = {\"Mr\": 0, \"Miss\": 1, \"Mrs\": 2, \n",
    "                 \"Master\": 3, \"Dr\": 4, \"Rev\": 4, \"Col\": 4, \"Major\": 4, \"Mlle\": 4,\"Countess\": 4,\n",
    "                 \"Ms\": 4, \"Lady\": 4, \"Jonkheer\": 4, \"Don\": 4, \"Dona\" : 4, \"Mme\": 4,\"Capt\": 4,\"Sir\": 4 }\n",
    "for dataset in combine:\n",
    "    dataset['Title'] = dataset['Title'].map(title_mapping)"
   ]
  },
  {
   "cell_type": "markdown",
   "metadata": {},
   "source": [
    "**FAMILY SIZE**"
   ]
  },
  {
   "cell_type": "code",
   "execution_count": 15,
   "metadata": {
    "execution": {
     "iopub.execute_input": "2021-09-27T11:23:35.578513Z",
     "iopub.status.busy": "2021-09-27T11:23:35.578221Z",
     "iopub.status.idle": "2021-09-27T11:23:35.593129Z",
     "shell.execute_reply": "2021-09-27T11:23:35.592036Z",
     "shell.execute_reply.started": "2021-09-27T11:23:35.578478Z"
    }
   },
   "outputs": [],
   "source": [
    "train_data['family_size'] = train_data['SibSp'] + train_data['Parch'] + 1\n",
    "test_data['family_size'] = test_data['SibSp'] + test_data['Parch'] + 1"
   ]
  },
  {
   "cell_type": "markdown",
   "metadata": {},
   "source": [
    "> It's calculated by addition of SibSp and Parch number ( + 1 means that family at least one member )"
   ]
  },
  {
   "cell_type": "markdown",
   "metadata": {},
   "source": [
    "**GENDER MAPPING**"
   ]
  },
  {
   "cell_type": "code",
   "execution_count": 16,
   "metadata": {
    "execution": {
     "iopub.execute_input": "2021-09-27T11:23:35.594656Z",
     "iopub.status.busy": "2021-09-27T11:23:35.594406Z",
     "iopub.status.idle": "2021-09-27T11:23:35.605271Z",
     "shell.execute_reply": "2021-09-27T11:23:35.604474Z",
     "shell.execute_reply.started": "2021-09-27T11:23:35.594627Z"
    }
   },
   "outputs": [],
   "source": [
    "for dataset in combine:\n",
    "    dataset['Sex'] = dataset['Sex'].map( {'female': 1, 'male': 0} ).astype(int)"
   ]
  },
  {
   "cell_type": "markdown",
   "metadata": {},
   "source": [
    "> 0 assigned to female and 1 assigned to the male person"
   ]
  },
  {
   "cell_type": "markdown",
   "metadata": {},
   "source": [
    "**HAS CABIN**"
   ]
  },
  {
   "cell_type": "code",
   "execution_count": 17,
   "metadata": {
    "execution": {
     "iopub.execute_input": "2021-09-27T11:23:35.606472Z",
     "iopub.status.busy": "2021-09-27T11:23:35.606251Z",
     "iopub.status.idle": "2021-09-27T11:23:35.619752Z",
     "shell.execute_reply": "2021-09-27T11:23:35.619072Z",
     "shell.execute_reply.started": "2021-09-27T11:23:35.606441Z"
    }
   },
   "outputs": [],
   "source": [
    "#CABIN \n",
    "for dataset in combine:\n",
    "    dataset['Has_Cabin'] = dataset[\"Cabin\"].apply(lambda x: 0 if type(x) == float else 1)"
   ]
  },
  {
   "cell_type": "markdown",
   "metadata": {},
   "source": [
    "> Cabin column has too much missing values. So mapping for has cabin or not seems better solution. Because prediction of these missing values looks impossible and if we try to fill up them, it can directly affect learning of model as positively or negatively. So it's unguessable."
   ]
  },
  {
   "cell_type": "markdown",
   "metadata": {},
   "source": [
    "**EMBARKED MAPPING**"
   ]
  },
  {
   "cell_type": "code",
   "execution_count": 18,
   "metadata": {
    "execution": {
     "iopub.execute_input": "2021-09-27T11:23:35.623550Z",
     "iopub.status.busy": "2021-09-27T11:23:35.623202Z",
     "iopub.status.idle": "2021-09-27T11:23:35.907449Z",
     "shell.execute_reply": "2021-09-27T11:23:35.906490Z",
     "shell.execute_reply.started": "2021-09-27T11:23:35.623520Z"
    }
   },
   "outputs": [
    {
     "data": {
      "text/plain": [
       "<AxesSubplot:>"
      ]
     },
     "execution_count": 18,
     "metadata": {},
     "output_type": "execute_result"
    },
    {
     "data": {
      "image/png": "[encoded data removed]",
      "text/plain": [
       "<Figure size 720x360 with 1 Axes>"
      ]
     },
     "metadata": {},
     "output_type": "display_data"
    }
   ],
   "source": [
    "Pclass1 = train_data[train_data['Pclass']==1]['Embarked'].value_counts()\n",
    "Pclass2 = train_data[train_data['Pclass']==2]['Embarked'].value_counts()\n",
    "Pclass3 = train_data[train_data['Pclass']==3]['Embarked'].value_counts()\n",
    "\n",
    "df = pd.DataFrame([Pclass1, Pclass2, Pclass3])\n",
    "df.index = ['1st class','2nd class', '3rd class']\n",
    "df.plot(kind='bar',stacked=True, figsize=(10,5))"
   ]
  },
  {
   "cell_type": "markdown",
   "metadata": {},
   "source": [
    "* more than 50% of 1st class are from S embark\n",
    "* more than 50% of 2nd class are from S embark\n",
    "* more than 50% of 3rd class are from S embark\n",
    "\n",
    "> So we can fill up using S and then mapping for each letter because it has only 2 missing values as mentioned beginning of analysis.\n",
    "* S : 0 ( S : Southampton )\n",
    "* C : 1 ( C : Cherbourg   )\n",
    "* Q : 2 ( Q : Queentown   )"
   ]
  },
  {
   "cell_type": "code",
   "execution_count": 19,
   "metadata": {
    "execution": {
     "iopub.execute_input": "2021-09-27T11:23:35.908859Z",
     "iopub.status.busy": "2021-09-27T11:23:35.908609Z",
     "iopub.status.idle": "2021-09-27T11:23:35.919214Z",
     "shell.execute_reply": "2021-09-27T11:23:35.918229Z",
     "shell.execute_reply.started": "2021-09-27T11:23:35.908828Z"
    }
   },
   "outputs": [],
   "source": [
    "for dataset in combine:\n",
    "    dataset['Embarked'] = dataset['Embarked'].fillna('S')\n",
    "\n",
    "for dataset in combine:\n",
    "    dataset['Embarked'] = dataset['Embarked'].map( {'S': 0, 'C': 1, 'Q': 2} ).astype(int)"
   ]
  },
  {
   "cell_type": "markdown",
   "metadata": {},
   "source": [
    "**AGE MISSING VALUES**"
   ]
  },
  {
   "cell_type": "code",
   "execution_count": 20,
   "metadata": {
    "execution": {
     "iopub.execute_input": "2021-09-27T11:23:35.920484Z",
     "iopub.status.busy": "2021-09-27T11:23:35.920271Z",
     "iopub.status.idle": "2021-09-27T11:23:36.314667Z",
     "shell.execute_reply": "2021-09-27T11:23:36.314072Z",
     "shell.execute_reply.started": "2021-09-27T11:23:35.920460Z"
    }
   },
   "outputs": [
    {
     "name": "stderr",
     "output_type": "stream",
     "text": [
      "C:\\Users\\burak\\AppData\\Roaming\\Python\\Python39\\site-packages\\seaborn\\categorical.py:3717: UserWarning: The `factorplot` function has been renamed to `catplot`. The original name will be removed in a future release. Please update your code. Note that the default `kind` in `factorplot` (`'point'`) has changed `'strip'` in `catplot`.\n",
      "  warnings.warn(msg)\n"
     ]
    },
    {
     "data": {
      "text/plain": [
       "<seaborn.axisgrid.FacetGrid at 0x23d01a21c70>"
      ]
     },
     "execution_count": 20,
     "metadata": {},
     "output_type": "execute_result"
    },
    {
     "data": {
      "image/png": "[encoded data removed]",
      "text/plain": [
       "<Figure size 360x360 with 1 Axes>"
      ]
     },
     "metadata": {},
     "output_type": "display_data"
    }
   ],
   "source": [
    "sns.factorplot(data = train_data , x = 'Pclass' , y = 'Age', kind = 'box')"
   ]
  },
  {
   "cell_type": "markdown",
   "metadata": {},
   "source": [
    "> We can fill up by their median values because there are not too much missing values"
   ]
  },
  {
   "cell_type": "code",
   "execution_count": 21,
   "metadata": {
    "execution": {
     "iopub.execute_input": "2021-09-27T11:23:36.316519Z",
     "iopub.status.busy": "2021-09-27T11:23:36.315723Z",
     "iopub.status.idle": "2021-09-27T11:23:36.348989Z",
     "shell.execute_reply": "2021-09-27T11:23:36.348152Z",
     "shell.execute_reply.started": "2021-09-27T11:23:36.316489Z"
    }
   },
   "outputs": [],
   "source": [
    "def AgeImpute(df):\n",
    "    Age = df[0]\n",
    "    Pclass = df[1]\n",
    "    \n",
    "    if pd.isnull(Age):\n",
    "        if Pclass == 1: return 37\n",
    "        elif Pclass == 2: return 29\n",
    "        else: return 24\n",
    "    else:\n",
    "        return Age\n",
    "\n",
    "# Age Impute\n",
    "train_data['Age'] = train_data[['Age' , 'Pclass']].apply(AgeImpute, axis = 1)\n",
    "test_data['Age'] = test_data[['Age' , 'Pclass']].apply(AgeImpute, axis = 1)"
   ]
  },
  {
   "cell_type": "markdown",
   "metadata": {},
   "source": [
    "**FARE CLASS MISSING VALUE**"
   ]
  },
  {
   "cell_type": "code",
   "execution_count": 22,
   "metadata": {
    "execution": {
     "iopub.execute_input": "2021-09-27T11:23:36.350808Z",
     "iopub.status.busy": "2021-09-27T11:23:36.350103Z",
     "iopub.status.idle": "2021-09-27T11:23:36.357287Z",
     "shell.execute_reply": "2021-09-27T11:23:36.356686Z",
     "shell.execute_reply.started": "2021-09-27T11:23:36.350773Z"
    }
   },
   "outputs": [],
   "source": [
    "# FARE \n",
    "test_data[\"Fare\"] = test_data[\"Fare\"].fillna(test_data[\"Fare\"].median())"
   ]
  },
  {
   "cell_type": "markdown",
   "metadata": {},
   "source": [
    "> There is just 1 missing value in test_data so median value of fare class is acceptable."
   ]
  },
  {
   "cell_type": "markdown",
   "metadata": {},
   "source": [
    "**DROP UNNECESSARY COLUMNS**"
   ]
  },
  {
   "cell_type": "code",
   "execution_count": 23,
   "metadata": {
    "execution": {
     "iopub.execute_input": "2021-09-27T11:23:36.358918Z",
     "iopub.status.busy": "2021-09-27T11:23:36.358468Z",
     "iopub.status.idle": "2021-09-27T11:23:36.371924Z",
     "shell.execute_reply": "2021-09-27T11:23:36.371182Z",
     "shell.execute_reply.started": "2021-09-27T11:23:36.358861Z"
    }
   },
   "outputs": [],
   "source": [
    "features_drop = ['Cabin', 'Ticket', 'Name', 'PassengerId']\n",
    "train_data.drop(features_drop, axis=1, inplace=True)\n",
    "test_data.drop(features_drop, axis=1, inplace=True)"
   ]
  },
  {
   "cell_type": "code",
   "execution_count": 24,
   "metadata": {
    "execution": {
     "iopub.execute_input": "2021-09-27T11:23:36.373456Z",
     "iopub.status.busy": "2021-09-27T11:23:36.373244Z",
     "iopub.status.idle": "2021-09-27T11:23:36.388291Z",
     "shell.execute_reply": "2021-09-27T11:23:36.387434Z",
     "shell.execute_reply.started": "2021-09-27T11:23:36.373432Z"
    }
   },
   "outputs": [
    {
     "name": "stdout",
     "output_type": "stream",
     "text": [
      "AFTER FEATURE ENGINEERING\n",
      "\n",
      "Train data with null values:\n",
      " Survived       0\n",
      "Pclass         0\n",
      "Sex            0\n",
      "Age            0\n",
      "SibSp          0\n",
      "Parch          0\n",
      "Fare           0\n",
      "Embarked       0\n",
      "Title          0\n",
      "family_size    0\n",
      "Has_Cabin      0\n",
      "dtype: int64\n",
      "\n",
      "Test data with null values:\n",
      " Pclass         0\n",
      "Sex            0\n",
      "Age            0\n",
      "SibSp          0\n",
      "Parch          0\n",
      "Fare           0\n",
      "Embarked       0\n",
      "Title          0\n",
      "family_size    0\n",
      "Has_Cabin      0\n",
      "dtype: int64\n"
     ]
    }
   ],
   "source": [
    "print(\"AFTER FEATURE ENGINEERING\\n\")\n",
    "print('Train data with null values:\\n', train_data.isnull().sum())\n",
    "print('\\nTest data with null values:\\n', test_data.isnull().sum())"
   ]
  },
  {
   "cell_type": "markdown",
   "metadata": {},
   "source": [
    "## MODELING XGBOOST and LIGHTGBM\n",
    "\n",
    "**XGBOOST PREDICTION**\n"
   ]
  },
  {
   "cell_type": "code",
   "execution_count": 25,
   "metadata": {
    "execution": {
     "iopub.execute_input": "2021-09-27T11:23:36.390558Z",
     "iopub.status.busy": "2021-09-27T11:23:36.389786Z",
     "iopub.status.idle": "2021-09-27T11:23:36.407458Z",
     "shell.execute_reply": "2021-09-27T11:23:36.406490Z",
     "shell.execute_reply.started": "2021-09-27T11:23:36.390525Z"
    }
   },
   "outputs": [],
   "source": [
    "X = train_data.drop(['Survived'], axis = 1)\n",
    "y = train_data.Survived\n",
    "X_train, X_test, y_train, y_test = train_test_split(X, y, \n",
    "                                                    test_size = .3,\n",
    "                                                    random_state = 5,\n",
    "                                                   stratify = y)\n",
    "\n",
    "model = XGBClassifier(n_estimators=1000, learning_rate=0.05, max_depth = 10)\n",
    "# model.fit(X_train, y_train)"
   ]
  },
  {
   "cell_type": "markdown",
   "metadata": {},
   "source": [
    "**XGBoost + k-fold**"
   ]
  },
  {
   "cell_type": "code",
   "execution_count": 26,
   "metadata": {
    "execution": {
     "iopub.execute_input": "2021-09-27T11:23:36.409470Z",
     "iopub.status.busy": "2021-09-27T11:23:36.408693Z",
     "iopub.status.idle": "2021-09-27T11:23:40.149123Z",
     "shell.execute_reply": "2021-09-27T11:23:40.148444Z",
     "shell.execute_reply.started": "2021-09-27T11:23:36.409435Z"
    }
   },
   "outputs": [
    {
     "name": "stderr",
     "output_type": "stream",
     "text": [
      "C:\\Users\\burak\\AppData\\Roaming\\Python\\Python39\\site-packages\\xgboost\\sklearn.py:1146: UserWarning: The use of label encoder in XGBClassifier is deprecated and will be removed in a future release. To remove this warning, do the following: 1) Pass option use_label_encoder=False when constructing XGBClassifier object; and 2) Encode your labels (y) as integers starting with 0, i.e. 0, 1, 2, ..., [num_class - 1].\n",
      "  warnings.warn(label_encoder_deprecation_msg, UserWarning)\n"
     ]
    },
    {
     "name": "stdout",
     "output_type": "stream",
     "text": [
      "[13:06:31] WARNING: C:/Users/Administrator/workspace/xgboost-win64_release_1.4.0/src/learner.cc:1095: Starting in XGBoost 1.3.0, the default evaluation metric used with the objective 'binary:logistic' was changed from 'error' to 'logloss'. Explicitly set eval_metric if you'd like to restore the old behavior.\n"
     ]
    },
    {
     "name": "stderr",
     "output_type": "stream",
     "text": [
      "C:\\Users\\burak\\AppData\\Roaming\\Python\\Python39\\site-packages\\xgboost\\sklearn.py:1146: UserWarning: The use of label encoder in XGBClassifier is deprecated and will be removed in a future release. To remove this warning, do the following: 1) Pass option use_label_encoder=False when constructing XGBClassifier object; and 2) Encode your labels (y) as integers starting with 0, i.e. 0, 1, 2, ..., [num_class - 1].\n",
      "  warnings.warn(label_encoder_deprecation_msg, UserWarning)\n"
     ]
    },
    {
     "name": "stdout",
     "output_type": "stream",
     "text": [
      "[13:06:33] WARNING: C:/Users/Administrator/workspace/xgboost-win64_release_1.4.0/src/learner.cc:1095: Starting in XGBoost 1.3.0, the default evaluation metric used with the objective 'binary:logistic' was changed from 'error' to 'logloss'. Explicitly set eval_metric if you'd like to restore the old behavior.\n"
     ]
    },
    {
     "name": "stderr",
     "output_type": "stream",
     "text": [
      "C:\\Users\\burak\\AppData\\Roaming\\Python\\Python39\\site-packages\\xgboost\\sklearn.py:1146: UserWarning: The use of label encoder in XGBClassifier is deprecated and will be removed in a future release. To remove this warning, do the following: 1) Pass option use_label_encoder=False when constructing XGBClassifier object; and 2) Encode your labels (y) as integers starting with 0, i.e. 0, 1, 2, ..., [num_class - 1].\n",
      "  warnings.warn(label_encoder_deprecation_msg, UserWarning)\n"
     ]
    },
    {
     "name": "stdout",
     "output_type": "stream",
     "text": [
      "[13:06:34] WARNING: C:/Users/Administrator/workspace/xgboost-win64_release_1.4.0/src/learner.cc:1095: Starting in XGBoost 1.3.0, the default evaluation metric used with the objective 'binary:logistic' was changed from 'error' to 'logloss'. Explicitly set eval_metric if you'd like to restore the old behavior.\n"
     ]
    },
    {
     "name": "stderr",
     "output_type": "stream",
     "text": [
      "C:\\Users\\burak\\AppData\\Roaming\\Python\\Python39\\site-packages\\xgboost\\sklearn.py:1146: UserWarning: The use of label encoder in XGBClassifier is deprecated and will be removed in a future release. To remove this warning, do the following: 1) Pass option use_label_encoder=False when constructing XGBClassifier object; and 2) Encode your labels (y) as integers starting with 0, i.e. 0, 1, 2, ..., [num_class - 1].\n",
      "  warnings.warn(label_encoder_deprecation_msg, UserWarning)\n"
     ]
    },
    {
     "name": "stdout",
     "output_type": "stream",
     "text": [
      "[13:06:35] WARNING: C:/Users/Administrator/workspace/xgboost-win64_release_1.4.0/src/learner.cc:1095: Starting in XGBoost 1.3.0, the default evaluation metric used with the objective 'binary:logistic' was changed from 'error' to 'logloss'. Explicitly set eval_metric if you'd like to restore the old behavior.\n"
     ]
    },
    {
     "name": "stderr",
     "output_type": "stream",
     "text": [
      "C:\\Users\\burak\\AppData\\Roaming\\Python\\Python39\\site-packages\\xgboost\\sklearn.py:1146: UserWarning: The use of label encoder in XGBClassifier is deprecated and will be removed in a future release. To remove this warning, do the following: 1) Pass option use_label_encoder=False when constructing XGBClassifier object; and 2) Encode your labels (y) as integers starting with 0, i.e. 0, 1, 2, ..., [num_class - 1].\n",
      "  warnings.warn(label_encoder_deprecation_msg, UserWarning)\n"
     ]
    },
    {
     "name": "stdout",
     "output_type": "stream",
     "text": [
      "[13:06:36] WARNING: C:/Users/Administrator/workspace/xgboost-win64_release_1.4.0/src/learner.cc:1095: Starting in XGBoost 1.3.0, the default evaluation metric used with the objective 'binary:logistic' was changed from 'error' to 'logloss'. Explicitly set eval_metric if you'd like to restore the old behavior.\n",
      "All of means\n",
      "[0.824, 0.808, 0.816, 0.8225806451612904, 0.8145161290322581]\n",
      "Mean of scores\n",
      "0.8170193548387097\n"
     ]
    }
   ],
   "source": [
    "skf = StratifiedKFold(n_splits=5)\n",
    "\n",
    "cross_val_acc = []\n",
    "\n",
    "X_train = X_train.values\n",
    "y_train = y_train.values\n",
    "\n",
    "for train, test in skf.split(X_train, y_train):\n",
    "    model.fit(X_train[train], y_train[train])\n",
    "    cross_val_acc.append(model.score(X_train[test], y_train[test]))\n",
    "    \n",
    "\n",
    "print(\"All of means\")\n",
    "print(cross_val_acc)\n",
    "\n",
    "print(\"Mean of scores\")\n",
    "print(np.mean(cross_val_acc))"
   ]
  },
  {
   "cell_type": "markdown",
   "metadata": {},
   "source": [
    "**LIGHTGBM PREDICTION**"
   ]
  },
  {
   "cell_type": "code",
   "execution_count": 27,
   "metadata": {
    "execution": {
     "iopub.execute_input": "2021-09-27T11:23:40.150595Z",
     "iopub.status.busy": "2021-09-27T11:23:40.150196Z",
     "iopub.status.idle": "2021-09-27T11:23:40.239788Z",
     "shell.execute_reply": "2021-09-27T11:23:40.239113Z",
     "shell.execute_reply.started": "2021-09-27T11:23:40.150558Z"
    }
   },
   "outputs": [
    {
     "name": "stdout",
     "output_type": "stream",
     "text": [
      "Training until validation scores don't improve for 20 rounds\n",
      "[10]\tvalid_0's binary_logloss: 0.456035\n",
      "[20]\tvalid_0's binary_logloss: 0.41154\n",
      "[30]\tvalid_0's binary_logloss: 0.410134\n",
      "[40]\tvalid_0's binary_logloss: 0.41324\n",
      "Early stopping, best iteration is:\n",
      "[28]\tvalid_0's binary_logloss: 0.408867\n",
      "score 83.58 %\n"
     ]
    }
   ],
   "source": [
    "gbm = lgb.LGBMClassifier(objective='binary')\n",
    "\n",
    "gbm.fit(X_train, y_train, eval_set = [(X_test, y_test)],\n",
    "        early_stopping_rounds=20,\n",
    "        verbose=10\n",
    ")\n",
    "\n",
    "pre = gbm.predict(X_test, num_iteration=gbm.best_iteration_)\n",
    "\n",
    "print('score', round(accuracy_score(y_test, pre)*100,2), '%')"
   ]
  },
  {
   "cell_type": "markdown",
   "metadata": {},
   "source": [
    "**FEATURE IMPORTANCE BY LOFO**"
   ]
  },
  {
   "cell_type": "code",
   "execution_count": 28,
   "metadata": {
    "execution": {
     "iopub.execute_input": "2021-09-27T11:23:40.245559Z",
     "iopub.status.busy": "2021-09-27T11:23:40.243489Z",
     "iopub.status.idle": "2021-09-27T11:24:22.029361Z",
     "shell.execute_reply": "2021-09-27T11:24:22.028677Z",
     "shell.execute_reply.started": "2021-09-27T11:23:40.245519Z"
    }
   },
   "outputs": [
    {
     "name": "stdout",
     "output_type": "stream",
     "text": [
      "[13:06:37] WARNING: C:/Users/Administrator/workspace/xgboost-win64_release_1.4.0/src/learner.cc:1095: Starting in XGBoost 1.3.0, the default evaluation metric used with the objective 'binary:logistic' was changed from 'error' to 'logloss'. Explicitly set eval_metric if you'd like to restore the old behavior.\n",
      "[13:06:38] WARNING: C:/Users/Administrator/workspace/xgboost-win64_release_1.4.0/src/learner.cc:1095: Starting in XGBoost 1.3.0, the default evaluation metric used with the objective 'binary:logistic' was changed from 'error' to 'logloss'. Explicitly set eval_metric if you'd like to restore the old behavior.\n",
      "[13:06:40] WARNING: C:/Users/Administrator/workspace/xgboost-win64_release_1.4.0/src/learner.cc:1095: Starting in XGBoost 1.3.0, the default evaluation metric used with the objective 'binary:logistic' was changed from 'error' to 'logloss'. Explicitly set eval_metric if you'd like to restore the old behavior.\n",
      "[13:06:41] WARNING: C:/Users/Administrator/workspace/xgboost-win64_release_1.4.0/src/learner.cc:1095: Starting in XGBoost 1.3.0, the default evaluation metric used with the objective 'binary:logistic' was changed from 'error' to 'logloss'. Explicitly set eval_metric if you'd like to restore the old behavior.\n"
     ]
    },
    {
     "data": {
      "application/vnd.jupyter.widget-view+json": {
       "model_id": "bad61c4a326f46a5acdbad3a0713741b",
       "version_major": 2,
       "version_minor": 0
      },
      "text/plain": [
       "  0%|          | 0/10 [00:00<?, ?it/s]"
      ]
     },
     "metadata": {},
     "output_type": "display_data"
    },
    {
     "name": "stdout",
     "output_type": "stream",
     "text": [
      "[13:06:42] WARNING: C:/Users/Administrator/workspace/xgboost-win64_release_1.4.0/src/learner.cc:1095: Starting in XGBoost 1.3.0, the default evaluation metric used with the objective 'binary:logistic' was changed from 'error' to 'logloss'. Explicitly set eval_metric if you'd like to restore the old behavior.\n",
      "[13:06:44] WARNING: C:/Users/Administrator/workspace/xgboost-win64_release_1.4.0/src/learner.cc:1095: Starting in XGBoost 1.3.0, the default evaluation metric used with the objective 'binary:logistic' was changed from 'error' to 'logloss'. Explicitly set eval_metric if you'd like to restore the old behavior.\n",
      "[13:06:45] WARNING: C:/Users/Administrator/workspace/xgboost-win64_release_1.4.0/src/learner.cc:1095: Starting in XGBoost 1.3.0, the default evaluation metric used with the objective 'binary:logistic' was changed from 'error' to 'logloss'. Explicitly set eval_metric if you'd like to restore the old behavior.\n",
      "[13:06:46] WARNING: C:/Users/Administrator/workspace/xgboost-win64_release_1.4.0/src/learner.cc:1095: Starting in XGBoost 1.3.0, the default evaluation metric used with the objective 'binary:logistic' was changed from 'error' to 'logloss'. Explicitly set eval_metric if you'd like to restore the old behavior.\n",
      "[13:06:47] WARNING: C:/Users/Administrator/workspace/xgboost-win64_release_1.4.0/src/learner.cc:1095: Starting in XGBoost 1.3.0, the default evaluation metric used with the objective 'binary:logistic' was changed from 'error' to 'logloss'. Explicitly set eval_metric if you'd like to restore the old behavior.\n",
      "[13:06:48] WARNING: C:/Users/Administrator/workspace/xgboost-win64_release_1.4.0/src/learner.cc:1095: Starting in XGBoost 1.3.0, the default evaluation metric used with the objective 'binary:logistic' was changed from 'error' to 'logloss'. Explicitly set eval_metric if you'd like to restore the old behavior.\n",
      "[13:06:50] WARNING: C:/Users/Administrator/workspace/xgboost-win64_release_1.4.0/src/learner.cc:1095: Starting in XGBoost 1.3.0, the default evaluation metric used with the objective 'binary:logistic' was changed from 'error' to 'logloss'. Explicitly set eval_metric if you'd like to restore the old behavior.\n",
      "[13:06:51] WARNING: C:/Users/Administrator/workspace/xgboost-win64_release_1.4.0/src/learner.cc:1095: Starting in XGBoost 1.3.0, the default evaluation metric used with the objective 'binary:logistic' was changed from 'error' to 'logloss'. Explicitly set eval_metric if you'd like to restore the old behavior.\n",
      "[13:06:52] WARNING: C:/Users/Administrator/workspace/xgboost-win64_release_1.4.0/src/learner.cc:1095: Starting in XGBoost 1.3.0, the default evaluation metric used with the objective 'binary:logistic' was changed from 'error' to 'logloss'. Explicitly set eval_metric if you'd like to restore the old behavior.\n",
      "[13:06:53] WARNING: C:/Users/Administrator/workspace/xgboost-win64_release_1.4.0/src/learner.cc:1095: Starting in XGBoost 1.3.0, the default evaluation metric used with the objective 'binary:logistic' was changed from 'error' to 'logloss'. Explicitly set eval_metric if you'd like to restore the old behavior.\n",
      "[13:06:55] WARNING: C:/Users/Administrator/workspace/xgboost-win64_release_1.4.0/src/learner.cc:1095: Starting in XGBoost 1.3.0, the default evaluation metric used with the objective 'binary:logistic' was changed from 'error' to 'logloss'. Explicitly set eval_metric if you'd like to restore the old behavior.\n",
      "[13:06:56] WARNING: C:/Users/Administrator/workspace/xgboost-win64_release_1.4.0/src/learner.cc:1095: Starting in XGBoost 1.3.0, the default evaluation metric used with the objective 'binary:logistic' was changed from 'error' to 'logloss'. Explicitly set eval_metric if you'd like to restore the old behavior.\n",
      "[13:06:57] WARNING: C:/Users/Administrator/workspace/xgboost-win64_release_1.4.0/src/learner.cc:1095: Starting in XGBoost 1.3.0, the default evaluation metric used with the objective 'binary:logistic' was changed from 'error' to 'logloss'. Explicitly set eval_metric if you'd like to restore the old behavior.\n",
      "[13:06:59] WARNING: C:/Users/Administrator/workspace/xgboost-win64_release_1.4.0/src/learner.cc:1095: Starting in XGBoost 1.3.0, the default evaluation metric used with the objective 'binary:logistic' was changed from 'error' to 'logloss'. Explicitly set eval_metric if you'd like to restore the old behavior.\n",
      "[13:07:00] WARNING: C:/Users/Administrator/workspace/xgboost-win64_release_1.4.0/src/learner.cc:1095: Starting in XGBoost 1.3.0, the default evaluation metric used with the objective 'binary:logistic' was changed from 'error' to 'logloss'. Explicitly set eval_metric if you'd like to restore the old behavior.\n",
      "[13:07:01] WARNING: C:/Users/Administrator/workspace/xgboost-win64_release_1.4.0/src/learner.cc:1095: Starting in XGBoost 1.3.0, the default evaluation metric used with the objective 'binary:logistic' was changed from 'error' to 'logloss'. Explicitly set eval_metric if you'd like to restore the old behavior.\n",
      "[13:07:02] WARNING: C:/Users/Administrator/workspace/xgboost-win64_release_1.4.0/src/learner.cc:1095: Starting in XGBoost 1.3.0, the default evaluation metric used with the objective 'binary:logistic' was changed from 'error' to 'logloss'. Explicitly set eval_metric if you'd like to restore the old behavior.\n",
      "[13:07:03] WARNING: C:/Users/Administrator/workspace/xgboost-win64_release_1.4.0/src/learner.cc:1095: Starting in XGBoost 1.3.0, the default evaluation metric used with the objective 'binary:logistic' was changed from 'error' to 'logloss'. Explicitly set eval_metric if you'd like to restore the old behavior.\n",
      "[13:07:05] WARNING: C:/Users/Administrator/workspace/xgboost-win64_release_1.4.0/src/learner.cc:1095: Starting in XGBoost 1.3.0, the default evaluation metric used with the objective 'binary:logistic' was changed from 'error' to 'logloss'. Explicitly set eval_metric if you'd like to restore the old behavior.\n",
      "[13:07:06] WARNING: C:/Users/Administrator/workspace/xgboost-win64_release_1.4.0/src/learner.cc:1095: Starting in XGBoost 1.3.0, the default evaluation metric used with the objective 'binary:logistic' was changed from 'error' to 'logloss'. Explicitly set eval_metric if you'd like to restore the old behavior.\n",
      "[13:07:07] WARNING: C:/Users/Administrator/workspace/xgboost-win64_release_1.4.0/src/learner.cc:1095: Starting in XGBoost 1.3.0, the default evaluation metric used with the objective 'binary:logistic' was changed from 'error' to 'logloss'. Explicitly set eval_metric if you'd like to restore the old behavior.\n",
      "[13:07:08] WARNING: C:/Users/Administrator/workspace/xgboost-win64_release_1.4.0/src/learner.cc:1095: Starting in XGBoost 1.3.0, the default evaluation metric used with the objective 'binary:logistic' was changed from 'error' to 'logloss'. Explicitly set eval_metric if you'd like to restore the old behavior.\n",
      "[13:07:09] WARNING: C:/Users/Administrator/workspace/xgboost-win64_release_1.4.0/src/learner.cc:1095: Starting in XGBoost 1.3.0, the default evaluation metric used with the objective 'binary:logistic' was changed from 'error' to 'logloss'. Explicitly set eval_metric if you'd like to restore the old behavior.\n",
      "[13:07:11] WARNING: C:/Users/Administrator/workspace/xgboost-win64_release_1.4.0/src/learner.cc:1095: Starting in XGBoost 1.3.0, the default evaluation metric used with the objective 'binary:logistic' was changed from 'error' to 'logloss'. Explicitly set eval_metric if you'd like to restore the old behavior.\n",
      "[13:07:12] WARNING: C:/Users/Administrator/workspace/xgboost-win64_release_1.4.0/src/learner.cc:1095: Starting in XGBoost 1.3.0, the default evaluation metric used with the objective 'binary:logistic' was changed from 'error' to 'logloss'. Explicitly set eval_metric if you'd like to restore the old behavior.\n",
      "[13:07:13] WARNING: C:/Users/Administrator/workspace/xgboost-win64_release_1.4.0/src/learner.cc:1095: Starting in XGBoost 1.3.0, the default evaluation metric used with the objective 'binary:logistic' was changed from 'error' to 'logloss'. Explicitly set eval_metric if you'd like to restore the old behavior.\n",
      "[13:07:14] WARNING: C:/Users/Administrator/workspace/xgboost-win64_release_1.4.0/src/learner.cc:1095: Starting in XGBoost 1.3.0, the default evaluation metric used with the objective 'binary:logistic' was changed from 'error' to 'logloss'. Explicitly set eval_metric if you'd like to restore the old behavior.\n"
     ]
    },
    {
     "name": "stdout",
     "output_type": "stream",
     "text": [
      "[13:07:16] WARNING: C:/Users/Administrator/workspace/xgboost-win64_release_1.4.0/src/learner.cc:1095: Starting in XGBoost 1.3.0, the default evaluation metric used with the objective 'binary:logistic' was changed from 'error' to 'logloss'. Explicitly set eval_metric if you'd like to restore the old behavior.\n",
      "[13:07:17] WARNING: C:/Users/Administrator/workspace/xgboost-win64_release_1.4.0/src/learner.cc:1095: Starting in XGBoost 1.3.0, the default evaluation metric used with the objective 'binary:logistic' was changed from 'error' to 'logloss'. Explicitly set eval_metric if you'd like to restore the old behavior.\n",
      "[13:07:18] WARNING: C:/Users/Administrator/workspace/xgboost-win64_release_1.4.0/src/learner.cc:1095: Starting in XGBoost 1.3.0, the default evaluation metric used with the objective 'binary:logistic' was changed from 'error' to 'logloss'. Explicitly set eval_metric if you'd like to restore the old behavior.\n",
      "[13:07:20] WARNING: C:/Users/Administrator/workspace/xgboost-win64_release_1.4.0/src/learner.cc:1095: Starting in XGBoost 1.3.0, the default evaluation metric used with the objective 'binary:logistic' was changed from 'error' to 'logloss'. Explicitly set eval_metric if you'd like to restore the old behavior.\n",
      "[13:07:21] WARNING: C:/Users/Administrator/workspace/xgboost-win64_release_1.4.0/src/learner.cc:1095: Starting in XGBoost 1.3.0, the default evaluation metric used with the objective 'binary:logistic' was changed from 'error' to 'logloss'. Explicitly set eval_metric if you'd like to restore the old behavior.\n",
      "[13:07:22] WARNING: C:/Users/Administrator/workspace/xgboost-win64_release_1.4.0/src/learner.cc:1095: Starting in XGBoost 1.3.0, the default evaluation metric used with the objective 'binary:logistic' was changed from 'error' to 'logloss'. Explicitly set eval_metric if you'd like to restore the old behavior.\n",
      "[13:07:23] WARNING: C:/Users/Administrator/workspace/xgboost-win64_release_1.4.0/src/learner.cc:1095: Starting in XGBoost 1.3.0, the default evaluation metric used with the objective 'binary:logistic' was changed from 'error' to 'logloss'. Explicitly set eval_metric if you'd like to restore the old behavior.\n",
      "[13:07:24] WARNING: C:/Users/Administrator/workspace/xgboost-win64_release_1.4.0/src/learner.cc:1095: Starting in XGBoost 1.3.0, the default evaluation metric used with the objective 'binary:logistic' was changed from 'error' to 'logloss'. Explicitly set eval_metric if you'd like to restore the old behavior.\n",
      "[13:07:26] WARNING: C:/Users/Administrator/workspace/xgboost-win64_release_1.4.0/src/learner.cc:1095: Starting in XGBoost 1.3.0, the default evaluation metric used with the objective 'binary:logistic' was changed from 'error' to 'logloss'. Explicitly set eval_metric if you'd like to restore the old behavior.\n",
      "[13:07:27] WARNING: C:/Users/Administrator/workspace/xgboost-win64_release_1.4.0/src/learner.cc:1095: Starting in XGBoost 1.3.0, the default evaluation metric used with the objective 'binary:logistic' was changed from 'error' to 'logloss'. Explicitly set eval_metric if you'd like to restore the old behavior.\n",
      "[13:07:28] WARNING: C:/Users/Administrator/workspace/xgboost-win64_release_1.4.0/src/learner.cc:1095: Starting in XGBoost 1.3.0, the default evaluation metric used with the objective 'binary:logistic' was changed from 'error' to 'logloss'. Explicitly set eval_metric if you'd like to restore the old behavior.\n",
      "[13:07:30] WARNING: C:/Users/Administrator/workspace/xgboost-win64_release_1.4.0/src/learner.cc:1095: Starting in XGBoost 1.3.0, the default evaluation metric used with the objective 'binary:logistic' was changed from 'error' to 'logloss'. Explicitly set eval_metric if you'd like to restore the old behavior.\n",
      "[13:07:31] WARNING: C:/Users/Administrator/workspace/xgboost-win64_release_1.4.0/src/learner.cc:1095: Starting in XGBoost 1.3.0, the default evaluation metric used with the objective 'binary:logistic' was changed from 'error' to 'logloss'. Explicitly set eval_metric if you'd like to restore the old behavior.\n"
     ]
    },
    {
     "data": {
      "image/png": "[encoded data removed]",
      "text/plain": [
       "<Figure size 576x576 with 1 Axes>"
      ]
     },
     "metadata": {},
     "output_type": "display_data"
    }
   ],
   "source": [
    "# define the validation scheme\n",
    "cv = KFold(n_splits=4, shuffle=False)\n",
    "scorer = make_scorer(mean_absolute_error, greater_is_better=False)\n",
    "\n",
    "# define the binary target and the features\n",
    "target = \"Survived\"\n",
    "features = [col for col in train_data.columns if col != target]\n",
    "dataset = Dataset(df=train_data, target=\"Survived\", features=features)\n",
    "# define the validation scheme and scorer. The default model is LightGBM\n",
    "lofo_imp = LOFOImportance(dataset, scoring=scorer, model=model, cv=cv)\n",
    "\n",
    "# get the mean and standard deviation of the importances in pandas format\n",
    "importance_df = lofo_imp.get_importance()\n",
    "\n",
    "# plot the means and standard deviations of the importances\n",
    "plot_importance(importance_df)"
   ]
  },
  {
   "cell_type": "markdown",
   "metadata": {},
   "source": [
    "# **GRID SEARCH**"
   ]
  },
  {
   "cell_type": "code",
   "execution_count": 29,
   "metadata": {
    "execution": {
     "iopub.execute_input": "2021-09-27T11:24:22.031648Z",
     "iopub.status.busy": "2021-09-27T11:24:22.031074Z"
    }
   },
   "outputs": [
    {
     "name": "stdout",
     "output_type": "stream",
     "text": [
      "Fitting 3 folds for each of 120 candidates, totalling 360 fits\n",
      "[13:08:58] WARNING: C:/Users/Administrator/workspace/xgboost-win64_release_1.4.0/src/learner.cc:1095: Starting in XGBoost 1.3.0, the default evaluation metric used with the objective 'binary:logistic' was changed from 'error' to 'logloss'. Explicitly set eval_metric if you'd like to restore the old behavior.\n",
      "\n",
      " Best estimator:\n",
      "XGBClassifier(base_score=0.5, booster='gbtree', colsample_bylevel=1,\n",
      "              colsample_bynode=1, colsample_bytree=1, gamma=0, gpu_id=-1,\n",
      "              importance_type='gain', interaction_constraints='',\n",
      "              learning_rate=0.1, max_delta_step=0, max_depth=3,\n",
      "              min_child_weight=1, missing=nan, monotone_constraints='()',\n",
      "              n_estimators=100, n_jobs=12, num_parallel_tree=1, random_state=0,\n",
      "              reg_alpha=0, reg_lambda=1, scale_pos_weight=1, subsample=1,\n",
      "              tree_method='exact', validate_parameters=1, verbosity=None)\n",
      "\n",
      " Best score:\n",
      "0.5418126118522337\n",
      "\n",
      " Best parameters:\n",
      "{'learning_rate': 0.1, 'max_depth': 3, 'n_estimators': 100}\n"
     ]
    },
    {
     "name": "stderr",
     "output_type": "stream",
     "text": [
      "C:\\Users\\burak\\AppData\\Roaming\\Python\\Python39\\site-packages\\xgboost\\sklearn.py:1146: UserWarning: The use of label encoder in XGBClassifier is deprecated and will be removed in a future release. To remove this warning, do the following: 1) Pass option use_label_encoder=False when constructing XGBClassifier object; and 2) Encode your labels (y) as integers starting with 0, i.e. 0, 1, 2, ..., [num_class - 1].\n",
      "  warnings.warn(label_encoder_deprecation_msg, UserWarning)\n"
     ]
    }
   ],
   "source": [
    "# A parameter grid for XGBoost\n",
    "params = {\n",
    "    'n_estimators': [100, 200, 300, 400, 500, 1000],\n",
    "    'learning_rate': [0.01, 0.05, 0.1, 0.15],\n",
    "    'max_depth': [3, 5, 7, 9, 11]\n",
    "}\n",
    "\n",
    "# define the validation scheme\n",
    "cv = KFold(n_splits=3, shuffle=True, random_state=None)\n",
    "scorer = make_scorer(f1_score, greater_is_better=True)\n",
    "\n",
    "grid = GridSearchCV(estimator=model, \n",
    "                    param_grid=params, \n",
    "                    scoring=scorer, \n",
    "                    n_jobs=-1, \n",
    "                    cv=cv, \n",
    "                    verbose=1 )\n",
    "grid.fit(X, y)\n",
    "print('\\n Best estimator:')\n",
    "print(grid.best_estimator_)\n",
    "print('\\n Best score:')\n",
    "print(grid.best_score_ * 2 - 1)\n",
    "print('\\n Best parameters:')\n",
    "print(grid.best_params_)"
   ]
  },
  {
   "cell_type": "code",
   "execution_count": 30,
   "metadata": {},
   "outputs": [],
   "source": [
    "def plot_confusion_matrix(cm, classes,\n",
    "                          normalize=False,\n",
    "                          title='Confusion matrix',\n",
    "                          cmap=plt.cm.Blues):\n",
    "    if normalize:\n",
    "        cm = cm.astype('float') / cm.sum(axis=1)[:, np.newaxis]\n",
    "        print(\"Normalized confusion matrix\")\n",
    "    else:\n",
    "        print('Confusion matrix, without normalization')\n",
    "\n",
    "    print(cm)\n",
    "\n",
    "    plt.imshow(cm, interpolation='nearest', cmap=cmap)\n",
    "    plt.title(title)\n",
    "    plt.colorbar()\n",
    "    tick_marks = np.arange(len(classes))\n",
    "    plt.xticks(tick_marks, classes, rotation=45)\n",
    "    plt.yticks(tick_marks, classes)\n",
    "\n",
    "    fmt = '.2f' if normalize else 'd'\n",
    "    thresh = cm.max() / 2.\n",
    "    for i, j in itertools.product(range(cm.shape[0]), range(cm.shape[1])):\n",
    "        plt.text(j, i, format(cm[i, j], fmt),\n",
    "                 horizontalalignment=\"center\",\n",
    "                 color=\"white\" if cm[i, j] > thresh else \"black\")\n",
    "\n",
    "    plt.tight_layout()\n",
    "    plt.ylabel('True label')\n",
    "    plt.xlabel('Predicted label')"
   ]
  },
  {
   "cell_type": "markdown",
   "metadata": {},
   "source": [
    "**TRAIN MODEL WITH BEST PARAMETERS and SHOW CONFUSION MATRIX**"
   ]
  },
  {
   "cell_type": "code",
   "execution_count": 31,
   "metadata": {},
   "outputs": [
    {
     "name": "stdout",
     "output_type": "stream",
     "text": [
      "[13:08:58] WARNING: C:/Users/Administrator/workspace/xgboost-win64_release_1.4.0/src/learner.cc:1095: Starting in XGBoost 1.3.0, the default evaluation metric used with the objective 'binary:logistic' was changed from 'error' to 'logloss'. Explicitly set eval_metric if you'd like to restore the old behavior.\n",
      "Confusion matrix, without normalization\n",
      "[[517  32]\n",
      " [ 68 274]]\n",
      "Normalized confusion matrix\n",
      "[[0.94 0.06]\n",
      " [0.2  0.8 ]]\n"
     ]
    },
    {
     "data": {
      "image/png": "[encoded data removed]",
      "text/plain": [
       "<Figure size 432x288 with 2 Axes>"
      ]
     },
     "metadata": {},
     "output_type": "display_data"
    },
    {
     "data": {
      "image/png": "[encoded data removed]",
      "text/plain": [
       "<Figure size 432x288 with 2 Axes>"
      ]
     },
     "metadata": {},
     "output_type": "display_data"
    }
   ],
   "source": [
    "new_model = XGBClassifier()\n",
    "new_model.set_params(**grid.best_params_)\n",
    "\n",
    "new_model.fit(X_train, y_train)\n",
    "\n",
    "y_pred = grid.best_estimator_.predict(X)\n",
    "cm = confusion_matrix(train_data['Survived'], y_pred)\n",
    "np.set_printoptions(precision=2)\n",
    "\n",
    "class_names = ['Dead', 'Survived']\n",
    "# Plot non-normalized confusion matrix\n",
    "plt.figure()\n",
    "plot_confusion_matrix(cm, classes=class_names,\n",
    "                      title='Confusion matrix')\n",
    "\n",
    "# Plot normalized confusion matrix\n",
    "plt.figure()\n",
    "plot_confusion_matrix(cm, classes=class_names, normalize=True, \n",
    "                      title='Normalized confusion matrix')"
   ]
  },
  {
   "cell_type": "markdown",
   "metadata": {},
   "source": [
    "# **OPTUNA HYPERPARAMETER SEARCH**"
   ]
  },
  {
   "cell_type": "code",
   "execution_count": 32,
   "metadata": {},
   "outputs": [
    {
     "name": "stderr",
     "output_type": "stream",
     "text": [
      "\u001b[32m[I 2021-09-29 13:08:59,331]\u001b[0m A new study created in memory with name: no-name-ee11ebe2-c0f2-4df6-976f-f24c1ed5bcfb\u001b[0m\n",
      "\u001b[32m[I 2021-09-29 13:08:59,354]\u001b[0m Trial 0 finished with value: 0.6097560975609756 and parameters: {'booster': 'gbtree', 'learning_rate': 0.026402959561316112, 'max_depth': 5, 'subsample': 0.19222384647062407, 'colsample_bytree': 0.22875341718423114}. Best is trial 0 with value: 0.6097560975609756.\u001b[0m\n",
      "\u001b[32m[I 2021-09-29 13:08:59,372]\u001b[0m Trial 1 finished with value: 0.5324675324675324 and parameters: {'booster': 'gbtree', 'learning_rate': 0.03612060628400498, 'max_depth': 8, 'subsample': 0.23939082047504068, 'colsample_bytree': 0.14360942700776158}. Best is trial 0 with value: 0.6097560975609756.\u001b[0m\n",
      "\u001b[32m[I 2021-09-29 13:08:59,409]\u001b[0m Trial 2 finished with value: 0.7524752475247525 and parameters: {'booster': 'dart', 'learning_rate': 0.05922704016834298, 'max_depth': 8, 'subsample': 0.7691590659526745, 'colsample_bytree': 0.8570308898143227}. Best is trial 2 with value: 0.7524752475247525.\u001b[0m\n",
      "\u001b[32m[I 2021-09-29 13:08:59,421]\u001b[0m Trial 3 finished with value: 0.6914893617021276 and parameters: {'booster': 'gblinear', 'learning_rate': 0.0638491421959856, 'max_depth': 4, 'subsample': 0.4168455303644337, 'colsample_bytree': 0.2598546316504695}. Best is trial 2 with value: 0.7524752475247525.\u001b[0m\n",
      "\u001b[32m[I 2021-09-29 13:08:59,447]\u001b[0m Trial 4 finished with value: 0.7272727272727273 and parameters: {'booster': 'dart', 'learning_rate': 0.011661034316410015, 'max_depth': 9, 'subsample': 0.07395503596018504, 'colsample_bytree': 0.7375922327792936}. Best is trial 2 with value: 0.7524752475247525.\u001b[0m\n",
      "\u001b[32m[I 2021-09-29 13:08:59,458]\u001b[0m Trial 5 finished with value: 0.5714285714285714 and parameters: {'booster': 'gblinear', 'learning_rate': 0.028666683692506554, 'max_depth': 7, 'subsample': 0.7667767977631414, 'colsample_bytree': 0.23126380726555174}. Best is trial 2 with value: 0.7524752475247525.\u001b[0m\n",
      "\u001b[32m[I 2021-09-29 13:08:59,483]\u001b[0m Trial 6 finished with value: 0.712871287128713 and parameters: {'booster': 'gbtree', 'learning_rate': 0.06207383931811907, 'max_depth': 11, 'subsample': 0.14300589371709715, 'colsample_bytree': 0.5606652163135417}. Best is trial 2 with value: 0.7524752475247525.\u001b[0m\n",
      "\u001b[32m[I 2021-09-29 13:08:59,495]\u001b[0m Trial 7 finished with value: 0.5466666666666666 and parameters: {'booster': 'gblinear', 'learning_rate': 0.02594472304480124, 'max_depth': 4, 'subsample': 0.8910726918276498, 'colsample_bytree': 0.41817587652633637}. Best is trial 2 with value: 0.7524752475247525.\u001b[0m\n",
      "\u001b[32m[I 2021-09-29 13:08:59,522]\u001b[0m Trial 8 finished with value: 0.79 and parameters: {'booster': 'dart', 'learning_rate': 0.014313910875027935, 'max_depth': 4, 'subsample': 0.6764549117106734, 'colsample_bytree': 0.7928725642165805}. Best is trial 8 with value: 0.79.\u001b[0m\n",
      "\u001b[32m[I 2021-09-29 13:08:59,553]\u001b[0m Trial 9 finished with value: 0.7537688442211056 and parameters: {'booster': 'gbtree', 'learning_rate': 0.05637411325731112, 'max_depth': 8, 'subsample': 0.441724956371495, 'colsample_bytree': 0.9066588873825101}. Best is trial 8 with value: 0.79.\u001b[0m\n",
      "\u001b[32m[I 2021-09-29 13:08:59,604]\u001b[0m Trial 10 finished with value: 0.7745098039215688 and parameters: {'booster': 'dart', 'learning_rate': 0.011234860882999659, 'max_depth': 3, 'subsample': 0.6272698528500548, 'colsample_bytree': 0.6482319449060038}. Best is trial 8 with value: 0.79.\u001b[0m\n"
     ]
    },
    {
     "name": "stdout",
     "output_type": "stream",
     "text": [
      "[13:08:59] WARNING: C:/Users/Administrator/workspace/xgboost-win64_release_1.4.0/src/learner.cc:573: \n",
      "Parameters: { \"colsample_bytree\", \"max_depth\", \"subsample\" } might not be used.\n",
      "\n",
      "  This may not be accurate due to some parameters are only used in language bindings but\n",
      "  passed down to XGBoost core.  Or some parameters are not used but slip through this\n",
      "  verification. Please open an issue if you find above cases.\n",
      "\n",
      "\n",
      "[13:08:59] WARNING: C:/Users/Administrator/workspace/xgboost-win64_release_1.4.0/src/learner.cc:573: \n",
      "Parameters: { \"colsample_bytree\", \"max_depth\", \"subsample\" } might not be used.\n",
      "\n",
      "  This may not be accurate due to some parameters are only used in language bindings but\n",
      "  passed down to XGBoost core.  Or some parameters are not used but slip through this\n",
      "  verification. Please open an issue if you find above cases.\n",
      "\n",
      "\n",
      "[13:08:59] WARNING: C:/Users/Administrator/workspace/xgboost-win64_release_1.4.0/src/learner.cc:573: \n",
      "Parameters: { \"colsample_bytree\", \"max_depth\", \"subsample\" } might not be used.\n",
      "\n",
      "  This may not be accurate due to some parameters are only used in language bindings but\n",
      "  passed down to XGBoost core.  Or some parameters are not used but slip through this\n",
      "  verification. Please open an issue if you find above cases.\n",
      "\n",
      "\n"
     ]
    },
    {
     "name": "stderr",
     "output_type": "stream",
     "text": [
      "\u001b[32m[I 2021-09-29 13:08:59,655]\u001b[0m Trial 11 finished with value: 0.7745098039215688 and parameters: {'booster': 'dart', 'learning_rate': 0.011380560866345429, 'max_depth': 3, 'subsample': 0.6174816616682173, 'colsample_bytree': 0.6482138698442335}. Best is trial 8 with value: 0.79.\u001b[0m\n",
      "\u001b[32m[I 2021-09-29 13:08:59,707]\u001b[0m Trial 12 finished with value: 0.766839378238342 and parameters: {'booster': 'dart', 'learning_rate': 0.01652946349932787, 'max_depth': 6, 'subsample': 0.6130721222967208, 'colsample_bytree': 0.998442939907436}. Best is trial 8 with value: 0.79.\u001b[0m\n",
      "\u001b[32m[I 2021-09-29 13:08:59,751]\u001b[0m Trial 13 finished with value: 0.78 and parameters: {'booster': 'dart', 'learning_rate': 0.016701693551312784, 'max_depth': 3, 'subsample': 0.5942861659621823, 'colsample_bytree': 0.7465407724930516}. Best is trial 8 with value: 0.79.\u001b[0m\n",
      "\u001b[32m[I 2021-09-29 13:08:59,798]\u001b[0m Trial 14 finished with value: 0.7562189054726368 and parameters: {'booster': 'dart', 'learning_rate': 0.01765136483853653, 'max_depth': 5, 'subsample': 0.9092852656284734, 'colsample_bytree': 0.7994502677640846}. Best is trial 8 with value: 0.79.\u001b[0m\n",
      "\u001b[32m[I 2021-09-29 13:08:59,845]\u001b[0m Trial 15 finished with value: 0.7715736040609138 and parameters: {'booster': 'dart', 'learning_rate': 0.01664866141371168, 'max_depth': 3, 'subsample': 0.999376138789109, 'colsample_bytree': 0.437464981344434}. Best is trial 8 with value: 0.79.\u001b[0m\n",
      "\u001b[32m[I 2021-09-29 13:08:59,893]\u001b[0m Trial 16 finished with value: 0.75 and parameters: {'booster': 'dart', 'learning_rate': 0.09212691069646073, 'max_depth': 5, 'subsample': 0.3402521348403887, 'colsample_bytree': 0.6955039588833012}. Best is trial 8 with value: 0.79.\u001b[0m\n",
      "\u001b[32m[I 2021-09-29 13:08:59,941]\u001b[0m Trial 17 finished with value: 0.7032967032967032 and parameters: {'booster': 'dart', 'learning_rate': 0.02089940649456312, 'max_depth': 4, 'subsample': 0.5209980661692626, 'colsample_bytree': 0.016975574153307138}. Best is trial 8 with value: 0.79.\u001b[0m\n",
      "\u001b[32m[I 2021-09-29 13:08:59,992]\u001b[0m Trial 18 finished with value: 0.7512690355329948 and parameters: {'booster': 'dart', 'learning_rate': 0.013919613191353309, 'max_depth': 6, 'subsample': 0.7192680022133809, 'colsample_bytree': 0.5320098930494401}. Best is trial 8 with value: 0.79.\u001b[0m\n",
      "\u001b[32m[I 2021-09-29 13:09:00,028]\u001b[0m Trial 19 finished with value: 0.6144578313253012 and parameters: {'booster': 'gblinear', 'learning_rate': 0.04022751451064879, 'max_depth': 3, 'subsample': 0.5029081077153347, 'colsample_bytree': 0.9175353974066147}. Best is trial 8 with value: 0.79.\u001b[0m\n",
      "\u001b[32m[I 2021-09-29 13:09:00,083]\u001b[0m Trial 20 finished with value: 0.7772020725388602 and parameters: {'booster': 'dart', 'learning_rate': 0.020974479710514932, 'max_depth': 6, 'subsample': 0.679038794157912, 'colsample_bytree': 0.7795193407182178}. Best is trial 8 with value: 0.79.\u001b[0m\n",
      "\u001b[32m[I 2021-09-29 13:09:00,133]\u001b[0m Trial 21 finished with value: 0.7835051546391752 and parameters: {'booster': 'dart', 'learning_rate': 0.022038509756020716, 'max_depth': 6, 'subsample': 0.6821997382564848, 'colsample_bytree': 0.7820798656314749}. Best is trial 8 with value: 0.79.\u001b[0m\n",
      "\u001b[32m[I 2021-09-29 13:09:00,179]\u001b[0m Trial 22 finished with value: 0.7761194029850746 and parameters: {'booster': 'dart', 'learning_rate': 0.020442193168188252, 'max_depth': 4, 'subsample': 0.8235820348134064, 'colsample_bytree': 0.6026107995228636}. Best is trial 8 with value: 0.79.\u001b[0m\n"
     ]
    },
    {
     "name": "stdout",
     "output_type": "stream",
     "text": [
      "[13:09:00] WARNING: C:/Users/Administrator/workspace/xgboost-win64_release_1.4.0/src/learner.cc:573: \n",
      "Parameters: { \"colsample_bytree\", \"max_depth\", \"subsample\" } might not be used.\n",
      "\n",
      "  This may not be accurate due to some parameters are only used in language bindings but\n",
      "  passed down to XGBoost core.  Or some parameters are not used but slip through this\n",
      "  verification. Please open an issue if you find above cases.\n",
      "\n",
      "\n"
     ]
    },
    {
     "name": "stderr",
     "output_type": "stream",
     "text": [
      "\u001b[32m[I 2021-09-29 13:09:00,228]\u001b[0m Trial 23 finished with value: 0.7761194029850746 and parameters: {'booster': 'dart', 'learning_rate': 0.013826458952983218, 'max_depth': 5, 'subsample': 0.5490036699366945, 'colsample_bytree': 0.9960826205402289}. Best is trial 8 with value: 0.79.\u001b[0m\n",
      "\u001b[32m[I 2021-09-29 13:09:00,281]\u001b[0m Trial 24 finished with value: 0.7755102040816327 and parameters: {'booster': 'dart', 'learning_rate': 0.02287343936662559, 'max_depth': 7, 'subsample': 0.3623633989285805, 'colsample_bytree': 0.8251237581705833}. Best is trial 8 with value: 0.79.\u001b[0m\n",
      "\u001b[32m[I 2021-09-29 13:09:00,328]\u001b[0m Trial 25 finished with value: 0.79 and parameters: {'booster': 'dart', 'learning_rate': 0.013907342632217951, 'max_depth': 4, 'subsample': 0.6755820873490997, 'colsample_bytree': 0.7189128905402089}. Best is trial 8 with value: 0.79.\u001b[0m\n",
      "\u001b[32m[I 2021-09-29 13:09:00,378]\u001b[0m Trial 26 finished with value: 0.781725888324873 and parameters: {'booster': 'dart', 'learning_rate': 0.013483871608770754, 'max_depth': 6, 'subsample': 0.7027845031333165, 'colsample_bytree': 0.4460575114990075}. Best is trial 8 with value: 0.79.\u001b[0m\n",
      "\u001b[32m[I 2021-09-29 13:09:00,424]\u001b[0m Trial 27 finished with value: 0.7722772277227724 and parameters: {'booster': 'dart', 'learning_rate': 0.033636702959820186, 'max_depth': 4, 'subsample': 0.8130645304550134, 'colsample_bytree': 0.8983733827066931}. Best is trial 8 with value: 0.79.\u001b[0m\n",
      "\u001b[32m[I 2021-09-29 13:09:00,457]\u001b[0m Trial 28 finished with value: 0.4714285714285714 and parameters: {'booster': 'gblinear', 'learning_rate': 0.014078751465576602, 'max_depth': 11, 'subsample': 0.9098100751006644, 'colsample_bytree': 0.703240160798675}. Best is trial 8 with value: 0.79.\u001b[0m\n",
      "\u001b[32m[I 2021-09-29 13:09:00,503]\u001b[0m Trial 29 finished with value: 0.7384615384615385 and parameters: {'booster': 'gbtree', 'learning_rate': 0.010074124660330698, 'max_depth': 5, 'subsample': 0.6934265072882292, 'colsample_bytree': 0.6483319192664599}. Best is trial 8 with value: 0.79.\u001b[0m\n",
      "\u001b[32m[I 2021-09-29 13:09:00,553]\u001b[0m Trial 30 finished with value: 0.7628865979381445 and parameters: {'booster': 'gbtree', 'learning_rate': 0.043946759077678824, 'max_depth': 9, 'subsample': 0.45438412869732503, 'colsample_bytree': 0.8498703747807069}. Best is trial 8 with value: 0.79.\u001b[0m\n",
      "\u001b[32m[I 2021-09-29 13:09:00,608]\u001b[0m Trial 31 finished with value: 0.781725888324873 and parameters: {'booster': 'dart', 'learning_rate': 0.013457365326645692, 'max_depth': 6, 'subsample': 0.6974881506881934, 'colsample_bytree': 0.4525243291421046}. Best is trial 8 with value: 0.79.\u001b[0m\n"
     ]
    },
    {
     "name": "stdout",
     "output_type": "stream",
     "text": [
      "[13:09:00] WARNING: C:/Users/Administrator/workspace/xgboost-win64_release_1.4.0/src/learner.cc:573: \n",
      "Parameters: { \"colsample_bytree\", \"max_depth\", \"subsample\" } might not be used.\n",
      "\n",
      "  This may not be accurate due to some parameters are only used in language bindings but\n",
      "  passed down to XGBoost core.  Or some parameters are not used but slip through this\n",
      "  verification. Please open an issue if you find above cases.\n",
      "\n",
      "\n"
     ]
    },
    {
     "name": "stderr",
     "output_type": "stream",
     "text": [
      "\u001b[32m[I 2021-09-29 13:09:00,658]\u001b[0m Trial 32 finished with value: 0.7860696517412936 and parameters: {'booster': 'dart', 'learning_rate': 0.018488866837130535, 'max_depth': 5, 'subsample': 0.6567859483688566, 'colsample_bytree': 0.38929898914866873}. Best is trial 8 with value: 0.79.\u001b[0m\n",
      "\u001b[32m[I 2021-09-29 13:09:00,709]\u001b[0m Trial 33 finished with value: 0.7860696517412936 and parameters: {'booster': 'dart', 'learning_rate': 0.024488311889706373, 'max_depth': 5, 'subsample': 0.7803691469011738, 'colsample_bytree': 0.32987143094746796}. Best is trial 8 with value: 0.79.\u001b[0m\n",
      "\u001b[32m[I 2021-09-29 13:09:00,758]\u001b[0m Trial 34 finished with value: 0.78 and parameters: {'booster': 'dart', 'learning_rate': 0.025648646757803217, 'max_depth': 4, 'subsample': 0.7737272097944348, 'colsample_bytree': 0.3517219605624974}. Best is trial 8 with value: 0.79.\u001b[0m\n",
      "\u001b[32m[I 2021-09-29 13:09:00,809]\u001b[0m Trial 35 finished with value: 0.78 and parameters: {'booster': 'dart', 'learning_rate': 0.01839011669448114, 'max_depth': 5, 'subsample': 0.8430319042863725, 'colsample_bytree': 0.3029795145698202}. Best is trial 8 with value: 0.79.\u001b[0m\n",
      "\u001b[32m[I 2021-09-29 13:09:00,857]\u001b[0m Trial 36 finished with value: 0.7111111111111111 and parameters: {'booster': 'dart', 'learning_rate': 0.03082407233505078, 'max_depth': 5, 'subsample': 0.566144050654182, 'colsample_bytree': 0.11550192588005781}. Best is trial 8 with value: 0.79.\u001b[0m\n",
      "\u001b[32m[I 2021-09-29 13:09:00,902]\u001b[0m Trial 37 finished with value: 0.6628571428571429 and parameters: {'booster': 'gbtree', 'learning_rate': 0.018580585923722994, 'max_depth': 4, 'subsample': 0.7573085144945065, 'colsample_bytree': 0.3428325184021391}. Best is trial 8 with value: 0.79.\u001b[0m\n",
      "\u001b[32m[I 2021-09-29 13:09:00,938]\u001b[0m Trial 38 finished with value: 0.4680851063829788 and parameters: {'booster': 'gblinear', 'learning_rate': 0.015210356292371066, 'max_depth': 7, 'subsample': 0.636472970769498, 'colsample_bytree': 0.5066103357156886}. Best is trial 8 with value: 0.79.\u001b[0m\n",
      "\u001b[32m[I 2021-09-29 13:09:00,981]\u001b[0m Trial 39 finished with value: 0.7211538461538461 and parameters: {'booster': 'dart', 'learning_rate': 0.023749182569832248, 'max_depth': 4, 'subsample': 0.006225547878481286, 'colsample_bytree': 0.3762608812803924}. Best is trial 8 with value: 0.79.\u001b[0m\n",
      "\u001b[32m[I 2021-09-29 13:09:01,029]\u001b[0m Trial 40 finished with value: 0.6172839506172839 and parameters: {'booster': 'dart', 'learning_rate': 0.012190568478135926, 'max_depth': 5, 'subsample': 0.9615047071739433, 'colsample_bytree': 0.1780012610721245}. Best is trial 8 with value: 0.79.\u001b[0m\n",
      "\u001b[32m[I 2021-09-29 13:09:01,085]\u001b[0m Trial 41 finished with value: 0.7628865979381445 and parameters: {'booster': 'dart', 'learning_rate': 0.027808142986195345, 'max_depth': 7, 'subsample': 0.6545860818760451, 'colsample_bytree': 0.5827469115107284}. Best is trial 8 with value: 0.79.\u001b[0m\n"
     ]
    },
    {
     "name": "stdout",
     "output_type": "stream",
     "text": [
      "[13:09:00] WARNING: C:/Users/Administrator/workspace/xgboost-win64_release_1.4.0/src/learner.cc:573: \n",
      "Parameters: { \"colsample_bytree\", \"max_depth\", \"subsample\" } might not be used.\n",
      "\n",
      "  This may not be accurate due to some parameters are only used in language bindings but\n",
      "  passed down to XGBoost core.  Or some parameters are not used but slip through this\n",
      "  verification. Please open an issue if you find above cases.\n",
      "\n",
      "\n"
     ]
    },
    {
     "name": "stderr",
     "output_type": "stream",
     "text": [
      "\u001b[32m[I 2021-09-29 13:09:01,141]\u001b[0m Trial 42 finished with value: 0.7722772277227724 and parameters: {'booster': 'dart', 'learning_rate': 0.019797674266338085, 'max_depth': 6, 'subsample': 0.7412171231391504, 'colsample_bytree': 0.754935715602272}. Best is trial 8 with value: 0.79.\u001b[0m\n",
      "\u001b[32m[I 2021-09-29 13:09:01,193]\u001b[0m Trial 43 finished with value: 0.7539267015706808 and parameters: {'booster': 'dart', 'learning_rate': 0.024166933863845046, 'max_depth': 8, 'subsample': 0.7858794643350472, 'colsample_bytree': 0.29371147229842076}. Best is trial 8 with value: 0.79.\u001b[0m\n",
      "\u001b[32m[I 2021-09-29 13:09:01,242]\u001b[0m Trial 44 finished with value: 0.7653061224489796 and parameters: {'booster': 'dart', 'learning_rate': 0.015061458599868053, 'max_depth': 6, 'subsample': 0.8746710212976431, 'colsample_bytree': 0.22090031785259218}. Best is trial 8 with value: 0.79.\u001b[0m\n",
      "\u001b[32m[I 2021-09-29 13:09:01,280]\u001b[0m Trial 45 finished with value: 0.5369127516778524 and parameters: {'booster': 'gblinear', 'learning_rate': 0.021850096880923847, 'max_depth': 4, 'subsample': 0.5854654910048823, 'colsample_bytree': 0.6879081575216385}. Best is trial 8 with value: 0.79.\u001b[0m\n",
      "\u001b[32m[I 2021-09-29 13:09:01,324]\u001b[0m Trial 46 finished with value: 0.6923076923076923 and parameters: {'booster': 'gbtree', 'learning_rate': 0.015809988070725135, 'max_depth': 5, 'subsample': 0.6554829460389794, 'colsample_bytree': 0.3903656090937935}. Best is trial 8 with value: 0.79.\u001b[0m\n",
      "\u001b[32m[I 2021-09-29 13:09:01,369]\u001b[0m Trial 47 finished with value: 0.7887323943661971 and parameters: {'booster': 'dart', 'learning_rate': 0.0307063220278977, 'max_depth': 3, 'subsample': 0.25328655547510803, 'colsample_bytree': 0.8861709654966371}. Best is trial 8 with value: 0.79.\u001b[0m\n",
      "\u001b[32m[I 2021-09-29 13:09:01,425]\u001b[0m Trial 48 finished with value: 0.7878787878787878 and parameters: {'booster': 'dart', 'learning_rate': 0.03062976624589068, 'max_depth': 3, 'subsample': 0.24565103719394732, 'colsample_bytree': 0.4769305405447216}. Best is trial 8 with value: 0.79.\u001b[0m\n",
      "\u001b[32m[I 2021-09-29 13:09:01,471]\u001b[0m Trial 49 finished with value: 0.788177339901478 and parameters: {'booster': 'dart', 'learning_rate': 0.04809379556962053, 'max_depth': 3, 'subsample': 0.20253576428739678, 'colsample_bytree': 0.9533103093546567}. Best is trial 8 with value: 0.79.\u001b[0m\n"
     ]
    },
    {
     "name": "stdout",
     "output_type": "stream",
     "text": [
      "[13:09:01] WARNING: C:/Users/Administrator/workspace/xgboost-win64_release_1.4.0/src/learner.cc:573: \n",
      "Parameters: { \"colsample_bytree\", \"max_depth\", \"subsample\" } might not be used.\n",
      "\n",
      "  This may not be accurate due to some parameters are only used in language bindings but\n",
      "  passed down to XGBoost core.  Or some parameters are not used but slip through this\n",
      "  verification. Please open an issue if you find above cases.\n",
      "\n",
      "\n"
     ]
    },
    {
     "name": "stderr",
     "output_type": "stream",
     "text": [
      "\u001b[32m[I 2021-09-29 13:09:01,520]\u001b[0m Trial 50 finished with value: 0.8019323671497586 and parameters: {'booster': 'dart', 'learning_rate': 0.05409252820709884, 'max_depth': 3, 'subsample': 0.22281239883906412, 'colsample_bytree': 0.9419689939379505}. Best is trial 50 with value: 0.8019323671497586.\u001b[0m\n",
      "\u001b[32m[I 2021-09-29 13:09:01,571]\u001b[0m Trial 51 finished with value: 0.781725888324873 and parameters: {'booster': 'dart', 'learning_rate': 0.053245962594539335, 'max_depth': 3, 'subsample': 0.19013750227200238, 'colsample_bytree': 0.9320915264901029}. Best is trial 50 with value: 0.8019323671497586.\u001b[0m\n",
      "\u001b[32m[I 2021-09-29 13:09:01,623]\u001b[0m Trial 52 finished with value: 0.768472906403941 and parameters: {'booster': 'dart', 'learning_rate': 0.0699384156911569, 'max_depth': 3, 'subsample': 0.25822082537343777, 'colsample_bytree': 0.9574121524790398}. Best is trial 50 with value: 0.8019323671497586.\u001b[0m\n",
      "\u001b[32m[I 2021-09-29 13:09:01,672]\u001b[0m Trial 53 finished with value: 0.7448979591836735 and parameters: {'booster': 'dart', 'learning_rate': 0.04737596409151792, 'max_depth': 3, 'subsample': 0.2762839245361149, 'colsample_bytree': 0.8685309464994578}. Best is trial 50 with value: 0.8019323671497586.\u001b[0m\n",
      "\u001b[32m[I 2021-09-29 13:09:01,722]\u001b[0m Trial 54 finished with value: 0.7187500000000001 and parameters: {'booster': 'dart', 'learning_rate': 0.07115520404822816, 'max_depth': 3, 'subsample': 0.13595719758216204, 'colsample_bytree': 0.9625289818940457}. Best is trial 50 with value: 0.8019323671497586.\u001b[0m\n",
      "\u001b[32m[I 2021-09-29 13:09:01,772]\u001b[0m Trial 55 finished with value: 0.7614213197969544 and parameters: {'booster': 'dart', 'learning_rate': 0.03808825678698167, 'max_depth': 3, 'subsample': 0.3030186543238769, 'colsample_bytree': 0.8281283499431326}. Best is trial 50 with value: 0.8019323671497586.\u001b[0m\n",
      "\u001b[32m[I 2021-09-29 13:09:01,820]\u001b[0m Trial 56 finished with value: 0.7692307692307693 and parameters: {'booster': 'dart', 'learning_rate': 0.05192714580168188, 'max_depth': 3, 'subsample': 0.19481257320385584, 'colsample_bytree': 0.8705502377444865}. Best is trial 50 with value: 0.8019323671497586.\u001b[0m\n",
      "\u001b[32m[I 2021-09-29 13:09:01,858]\u001b[0m Trial 57 finished with value: 0.7187500000000001 and parameters: {'booster': 'gblinear', 'learning_rate': 0.08535520555151706, 'max_depth': 4, 'subsample': 0.09967329597489522, 'colsample_bytree': 0.9031987558133878}. Best is trial 50 with value: 0.8019323671497586.\u001b[0m\n",
      "\u001b[32m[I 2021-09-29 13:09:01,906]\u001b[0m Trial 58 finished with value: 0.7745098039215688 and parameters: {'booster': 'dart', 'learning_rate': 0.034594461182454225, 'max_depth': 3, 'subsample': 0.38668231403300735, 'colsample_bytree': 0.9662933631060258}. Best is trial 50 with value: 0.8019323671497586.\u001b[0m\n",
      "\u001b[32m[I 2021-09-29 13:09:01,956]\u001b[0m Trial 59 finished with value: 0.7707317073170732 and parameters: {'booster': 'dart', 'learning_rate': 0.040563252004683394, 'max_depth': 4, 'subsample': 0.21569832234508426, 'colsample_bytree': 0.8046059829159141}. Best is trial 50 with value: 0.8019323671497586.\u001b[0m\n",
      "\u001b[32m[I 2021-09-29 13:09:02,001]\u001b[0m Trial 60 finished with value: 0.7537688442211056 and parameters: {'booster': 'gbtree', 'learning_rate': 0.030110727075316507, 'max_depth': 3, 'subsample': 0.30883059247674804, 'colsample_bytree': 0.7172899357363184}. Best is trial 50 with value: 0.8019323671497586.\u001b[0m\n",
      "\u001b[32m[I 2021-09-29 13:09:02,047]\u001b[0m Trial 61 finished with value: 0.7419354838709677 and parameters: {'booster': 'dart', 'learning_rate': 0.012315778244178968, 'max_depth': 3, 'subsample': 0.16858822121935046, 'colsample_bytree': 0.46836535222084424}. Best is trial 50 with value: 0.8019323671497586.\u001b[0m\n"
     ]
    },
    {
     "name": "stdout",
     "output_type": "stream",
     "text": [
      "[13:09:01] WARNING: C:/Users/Administrator/workspace/xgboost-win64_release_1.4.0/src/learner.cc:573: \n",
      "Parameters: { \"colsample_bytree\", \"max_depth\", \"subsample\" } might not be used.\n",
      "\n",
      "  This may not be accurate due to some parameters are only used in language bindings but\n",
      "  passed down to XGBoost core.  Or some parameters are not used but slip through this\n",
      "  verification. Please open an issue if you find above cases.\n",
      "\n",
      "\n"
     ]
    },
    {
     "name": "stderr",
     "output_type": "stream",
     "text": [
      "\u001b[32m[I 2021-09-29 13:09:02,096]\u001b[0m Trial 62 finished with value: 0.7857142857142857 and parameters: {'booster': 'dart', 'learning_rate': 0.04886705775733716, 'max_depth': 4, 'subsample': 0.46878062796851094, 'colsample_bytree': 0.4931550378361701}. Best is trial 50 with value: 0.8019323671497586.\u001b[0m\n",
      "\u001b[32m[I 2021-09-29 13:09:02,148]\u001b[0m Trial 63 finished with value: 0.7537688442211056 and parameters: {'booster': 'dart', 'learning_rate': 0.03221241510003801, 'max_depth': 4, 'subsample': 0.23344500298428295, 'colsample_bytree': 0.9980056410543495}. Best is trial 50 with value: 0.8019323671497586.\u001b[0m\n",
      "\u001b[32m[I 2021-09-29 13:09:02,197]\u001b[0m Trial 64 finished with value: 0.7263681592039802 and parameters: {'booster': 'dart', 'learning_rate': 0.06068805939589741, 'max_depth': 4, 'subsample': 0.051195493296813555, 'colsample_bytree': 0.8404675373006819}. Best is trial 50 with value: 0.8019323671497586.\u001b[0m\n",
      "\u001b[32m[I 2021-09-29 13:09:02,245]\u001b[0m Trial 65 finished with value: 0.7676767676767677 and parameters: {'booster': 'dart', 'learning_rate': 0.044986215319379665, 'max_depth': 3, 'subsample': 0.4211485756719786, 'colsample_bytree': 0.9383943130781224}. Best is trial 50 with value: 0.8019323671497586.\u001b[0m\n",
      "\u001b[32m[I 2021-09-29 13:09:02,294]\u001b[0m Trial 66 finished with value: 0.7106598984771573 and parameters: {'booster': 'dart', 'learning_rate': 0.03689378362991844, 'max_depth': 3, 'subsample': 0.1331044635691047, 'colsample_bytree': 0.8794196646749544}. Best is trial 50 with value: 0.8019323671497586.\u001b[0m\n",
      "\u001b[32m[I 2021-09-29 13:09:02,342]\u001b[0m Trial 67 finished with value: 0.7623762376237624 and parameters: {'booster': 'dart', 'learning_rate': 0.028301686530033794, 'max_depth': 4, 'subsample': 0.3339411806969421, 'colsample_bytree': 0.6274553983408313}. Best is trial 50 with value: 0.8019323671497586.\u001b[0m\n",
      "\u001b[32m[I 2021-09-29 13:09:02,387]\u001b[0m Trial 68 finished with value: 0.7589743589743588 and parameters: {'booster': 'dart', 'learning_rate': 0.010629477617449241, 'max_depth': 3, 'subsample': 0.09725003380156821, 'colsample_bytree': 0.4076027346897827}. Best is trial 50 with value: 0.8019323671497586.\u001b[0m\n",
      "\u001b[32m[I 2021-09-29 13:09:02,435]\u001b[0m Trial 69 finished with value: 0.7487179487179487 and parameters: {'booster': 'dart', 'learning_rate': 0.02635264658631689, 'max_depth': 4, 'subsample': 0.26776437910191303, 'colsample_bytree': 0.5493601495499717}. Best is trial 50 with value: 0.8019323671497586.\u001b[0m\n",
      "\u001b[32m[I 2021-09-29 13:09:02,472]\u001b[0m Trial 70 finished with value: 0.6144578313253012 and parameters: {'booster': 'gblinear', 'learning_rate': 0.04140986664115628, 'max_depth': 3, 'subsample': 0.7317963647912868, 'colsample_bytree': 0.7730857289708897}. Best is trial 50 with value: 0.8019323671497586.\u001b[0m\n",
      "\u001b[32m[I 2021-09-29 13:09:02,522]\u001b[0m Trial 71 finished with value: 0.7761194029850746 and parameters: {'booster': 'dart', 'learning_rate': 0.016677915667078252, 'max_depth': 5, 'subsample': 0.5161374322352743, 'colsample_bytree': 0.32752345857436016}. Best is trial 50 with value: 0.8019323671497586.\u001b[0m\n",
      "\u001b[32m[I 2021-09-29 13:09:02,574]\u001b[0m Trial 72 finished with value: 0.7878787878787878 and parameters: {'booster': 'dart', 'learning_rate': 0.033749161565472315, 'max_depth': 5, 'subsample': 0.6043520825721532, 'colsample_bytree': 0.42912334731274643}. Best is trial 50 with value: 0.8019323671497586.\u001b[0m\n",
      "\u001b[32m[I 2021-09-29 13:09:02,634]\u001b[0m Trial 73 finished with value: 0.756476683937824 and parameters: {'booster': 'dart', 'learning_rate': 0.033130669067051345, 'max_depth': 9, 'subsample': 0.5504989919297993, 'colsample_bytree': 0.5266801326871043}. Best is trial 50 with value: 0.8019323671497586.\u001b[0m\n"
     ]
    },
    {
     "name": "stdout",
     "output_type": "stream",
     "text": [
      "[13:09:02] WARNING: C:/Users/Administrator/workspace/xgboost-win64_release_1.4.0/src/learner.cc:573: \n",
      "Parameters: { \"colsample_bytree\", \"max_depth\", \"subsample\" } might not be used.\n",
      "\n",
      "  This may not be accurate due to some parameters are only used in language bindings but\n",
      "  passed down to XGBoost core.  Or some parameters are not used but slip through this\n",
      "  verification. Please open an issue if you find above cases.\n",
      "\n",
      "\n"
     ]
    },
    {
     "name": "stderr",
     "output_type": "stream",
     "text": [
      "\u001b[32m[I 2021-09-29 13:09:02,689]\u001b[0m Trial 74 finished with value: 0.7938144329896907 and parameters: {'booster': 'dart', 'learning_rate': 0.05622619990548184, 'max_depth': 10, 'subsample': 0.5894510922263526, 'colsample_bytree': 0.421076833355175}. Best is trial 50 with value: 0.8019323671497586.\u001b[0m\n",
      "\u001b[32m[I 2021-09-29 13:09:02,749]\u001b[0m Trial 75 finished with value: 0.7835051546391752 and parameters: {'booster': 'dart', 'learning_rate': 0.05565369027694419, 'max_depth': 10, 'subsample': 0.6049983857288337, 'colsample_bytree': 0.43325766757588485}. Best is trial 50 with value: 0.8019323671497586.\u001b[0m\n",
      "\u001b[32m[I 2021-09-29 13:09:02,807]\u001b[0m Trial 76 finished with value: 0.7857142857142857 and parameters: {'booster': 'dart', 'learning_rate': 0.07725382186907725, 'max_depth': 11, 'subsample': 0.4824562728699383, 'colsample_bytree': 0.4792394595403141}. Best is trial 50 with value: 0.8019323671497586.\u001b[0m\n",
      "\u001b[32m[I 2021-09-29 13:09:02,866]\u001b[0m Trial 77 finished with value: 0.7860696517412936 and parameters: {'booster': 'dart', 'learning_rate': 0.06782962953846305, 'max_depth': 9, 'subsample': 0.5757066816256284, 'colsample_bytree': 0.8144353968155189}. Best is trial 50 with value: 0.8019323671497586.\u001b[0m\n",
      "\u001b[32m[I 2021-09-29 13:09:02,912]\u001b[0m Trial 78 finished with value: 0.7738693467336684 and parameters: {'booster': 'gbtree', 'learning_rate': 0.06431420888068377, 'max_depth': 3, 'subsample': 0.5393723925778653, 'colsample_bytree': 0.8961983838647483}. Best is trial 50 with value: 0.8019323671497586.\u001b[0m\n",
      "\u001b[32m[I 2021-09-29 13:09:02,967]\u001b[0m Trial 79 finished with value: 0.78 and parameters: {'booster': 'dart', 'learning_rate': 0.05731044041011421, 'max_depth': 4, 'subsample': 0.6108332449634235, 'colsample_bytree': 0.6687397624515423}. Best is trial 50 with value: 0.8019323671497586.\u001b[0m\n",
      "\u001b[32m[I 2021-09-29 13:09:03,029]\u001b[0m Trial 80 finished with value: 0.7486631016042781 and parameters: {'booster': 'dart', 'learning_rate': 0.05170910495435649, 'max_depth': 10, 'subsample': 0.3899575705180073, 'colsample_bytree': 0.5929588739187882}. Best is trial 50 with value: 0.8019323671497586.\u001b[0m\n",
      "\u001b[32m[I 2021-09-29 13:09:03,092]\u001b[0m Trial 81 finished with value: 0.78 and parameters: {'booster': 'dart', 'learning_rate': 0.06573483883104986, 'max_depth': 10, 'subsample': 0.5675136124362009, 'colsample_bytree': 0.8008365306021518}. Best is trial 50 with value: 0.8019323671497586.\u001b[0m\n",
      "\u001b[32m[I 2021-09-29 13:09:03,147]\u001b[0m Trial 82 finished with value: 0.781725888324873 and parameters: {'booster': 'dart', 'learning_rate': 0.01786345782868334, 'max_depth': 8, 'subsample': 0.6711529936679977, 'colsample_bytree': 0.3721929117182118}. Best is trial 50 with value: 0.8019323671497586.\u001b[0m\n",
      "\u001b[32m[I 2021-09-29 13:09:03,207]\u001b[0m Trial 83 finished with value: 0.7676767676767677 and parameters: {'booster': 'dart', 'learning_rate': 0.07878720884402214, 'max_depth': 9, 'subsample': 0.5814482460201403, 'colsample_bytree': 0.9381120226863242}. Best is trial 50 with value: 0.8019323671497586.\u001b[0m\n",
      "\u001b[32m[I 2021-09-29 13:09:03,258]\u001b[0m Trial 84 finished with value: 0.7777777777777778 and parameters: {'booster': 'dart', 'learning_rate': 0.02959944741207574, 'max_depth': 5, 'subsample': 0.6307360154931824, 'colsample_bytree': 0.4068340958268391}. Best is trial 50 with value: 0.8019323671497586.\u001b[0m\n",
      "\u001b[32m[I 2021-09-29 13:09:03,309]\u001b[0m Trial 85 finished with value: 0.7638190954773869 and parameters: {'booster': 'dart', 'learning_rate': 0.04278311109111319, 'max_depth': 4, 'subsample': 0.6505065497911816, 'colsample_bytree': 0.5109650246781041}. Best is trial 50 with value: 0.8019323671497586.\u001b[0m\n",
      "\u001b[32m[I 2021-09-29 13:09:03,359]\u001b[0m Trial 86 finished with value: 0.7878787878787878 and parameters: {'booster': 'dart', 'learning_rate': 0.012447006091237221, 'max_depth': 3, 'subsample': 0.7077980434793791, 'colsample_bytree': 0.45329440360039225}. Best is trial 50 with value: 0.8019323671497586.\u001b[0m\n",
      "\u001b[32m[I 2021-09-29 13:09:03,407]\u001b[0m Trial 87 finished with value: 0.7692307692307693 and parameters: {'booster': 'dart', 'learning_rate': 0.012677417192684568, 'max_depth': 3, 'subsample': 0.6936465499552575, 'colsample_bytree': 0.4619083997475098}. Best is trial 50 with value: 0.8019323671497586.\u001b[0m\n",
      "\u001b[32m[I 2021-09-29 13:09:03,444]\u001b[0m Trial 88 finished with value: 0.45255474452554745 and parameters: {'booster': 'gblinear', 'learning_rate': 0.011076251770875855, 'max_depth': 3, 'subsample': 0.24303388231306836, 'colsample_bytree': 0.4345180833912586}. Best is trial 50 with value: 0.8019323671497586.\u001b[0m\n",
      "\u001b[32m[I 2021-09-29 13:09:03,492]\u001b[0m Trial 89 finished with value: 0.7761194029850746 and parameters: {'booster': 'dart', 'learning_rate': 0.014558533201877622, 'max_depth': 3, 'subsample': 0.16418664428783053, 'colsample_bytree': 0.7294610428819028}. Best is trial 50 with value: 0.8019323671497586.\u001b[0m\n",
      "\u001b[32m[I 2021-09-29 13:09:03,541]\u001b[0m Trial 90 finished with value: 0.7600000000000001 and parameters: {'booster': 'dart', 'learning_rate': 0.0477053661632554, 'max_depth': 4, 'subsample': 0.7270130185499597, 'colsample_bytree': 0.5608352962315692}. Best is trial 50 with value: 0.8019323671497586.\u001b[0m\n",
      "\u001b[32m[I 2021-09-29 13:09:03,593]\u001b[0m Trial 91 finished with value: 0.7755102040816327 and parameters: {'booster': 'dart', 'learning_rate': 0.06905655376509337, 'max_depth': 10, 'subsample': 0.1995468736417078, 'colsample_bytree': 0.8515519815327761}. Best is trial 50 with value: 0.8019323671497586.\u001b[0m\n"
     ]
    },
    {
     "name": "stdout",
     "output_type": "stream",
     "text": [
      "[13:09:03] WARNING: C:/Users/Administrator/workspace/xgboost-win64_release_1.4.0/src/learner.cc:573: \n",
      "Parameters: { \"colsample_bytree\", \"max_depth\", \"subsample\" } might not be used.\n",
      "\n",
      "  This may not be accurate due to some parameters are only used in language bindings but\n",
      "  passed down to XGBoost core.  Or some parameters are not used but slip through this\n",
      "  verification. Please open an issue if you find above cases.\n",
      "\n",
      "\n"
     ]
    },
    {
     "name": "stderr",
     "output_type": "stream",
     "text": [
      "\u001b[32m[I 2021-09-29 13:09:03,654]\u001b[0m Trial 92 finished with value: 0.768472906403941 and parameters: {'booster': 'dart', 'learning_rate': 0.05474869812294548, 'max_depth': 9, 'subsample': 0.7065953084370604, 'colsample_bytree': 0.755752574971594}. Best is trial 50 with value: 0.8019323671497586.\u001b[0m\n",
      "\u001b[32m[I 2021-09-29 13:09:03,704]\u001b[0m Trial 93 finished with value: 0.7761194029850746 and parameters: {'booster': 'dart', 'learning_rate': 0.012678186302991518, 'max_depth': 4, 'subsample': 0.6604217740822471, 'colsample_bytree': 0.354798505714736}. Best is trial 50 with value: 0.8019323671497586.\u001b[0m\n",
      "\u001b[32m[I 2021-09-29 13:09:03,768]\u001b[0m Trial 94 finished with value: 0.7589743589743588 and parameters: {'booster': 'dart', 'learning_rate': 0.05917868337680981, 'max_depth': 11, 'subsample': 0.29165664108024353, 'colsample_bytree': 0.9781300109177298}. Best is trial 50 with value: 0.8019323671497586.\u001b[0m\n",
      "\u001b[32m[I 2021-09-29 13:09:03,816]\u001b[0m Trial 95 finished with value: 0.6704545454545455 and parameters: {'booster': 'gbtree', 'learning_rate': 0.025495793620573807, 'max_depth': 5, 'subsample': 0.7690706634195169, 'colsample_bytree': 0.3152951556653738}. Best is trial 50 with value: 0.8019323671497586.\u001b[0m\n",
      "\u001b[32m[I 2021-09-29 13:09:03,864]\u001b[0m Trial 96 finished with value: 0.7738693467336684 and parameters: {'booster': 'dart', 'learning_rate': 0.037666549897033025, 'max_depth': 3, 'subsample': 0.5276839331683512, 'colsample_bytree': 0.9196153280573818}. Best is trial 50 with value: 0.8019323671497586.\u001b[0m\n",
      "\u001b[32m[I 2021-09-29 13:09:03,912]\u001b[0m Trial 97 finished with value: 0.7562189054726368 and parameters: {'booster': 'dart', 'learning_rate': 0.035619619595360655, 'max_depth': 3, 'subsample': 0.21577238646840224, 'colsample_bytree': 0.2646139998901493}. Best is trial 50 with value: 0.8019323671497586.\u001b[0m\n",
      "\u001b[32m[I 2021-09-29 13:09:03,968]\u001b[0m Trial 98 finished with value: 0.7857142857142857 and parameters: {'booster': 'dart', 'learning_rate': 0.03187445613418155, 'max_depth': 7, 'subsample': 0.6289962535100074, 'colsample_bytree': 0.417252793982441}. Best is trial 50 with value: 0.8019323671497586.\u001b[0m\n",
      "\u001b[32m[I 2021-09-29 13:09:04,018]\u001b[0m Trial 99 finished with value: 0.7614213197969544 and parameters: {'booster': 'dart', 'learning_rate': 0.01316741732243997, 'max_depth': 3, 'subsample': 0.5906237836816571, 'colsample_bytree': 0.8293802813164738}. Best is trial 50 with value: 0.8019323671497586.\u001b[0m\n",
      "\u001b[32m[I 2021-09-29 13:09:04,070]\u001b[0m Trial 100 finished with value: 0.7857142857142857 and parameters: {'booster': 'dart', 'learning_rate': 0.019521484006210805, 'max_depth': 6, 'subsample': 0.8170262957076888, 'colsample_bytree': 0.379767116113662}. Best is trial 50 with value: 0.8019323671497586.\u001b[0m\n",
      "\u001b[32m[I 2021-09-29 13:09:04,122]\u001b[0m Trial 101 finished with value: 0.7661691542288557 and parameters: {'booster': 'dart', 'learning_rate': 0.011538433648824708, 'max_depth': 4, 'subsample': 0.7529879304734495, 'colsample_bytree': 0.2780759801743422}. Best is trial 50 with value: 0.8019323671497586.\u001b[0m\n",
      "\u001b[32m[I 2021-09-29 13:09:04,172]\u001b[0m Trial 102 finished with value: 0.7638190954773869 and parameters: {'booster': 'dart', 'learning_rate': 0.023746950276653824, 'max_depth': 5, 'subsample': 0.7974308835160474, 'colsample_bytree': 0.23522922213744463}. Best is trial 50 with value: 0.8019323671497586.\u001b[0m\n",
      "\u001b[32m[I 2021-09-29 13:09:04,233]\u001b[0m Trial 103 finished with value: 0.7777777777777778 and parameters: {'booster': 'dart', 'learning_rate': 0.01567902820743867, 'max_depth': 8, 'subsample': 0.6832652014090449, 'colsample_bytree': 0.8841785970595196}. Best is trial 50 with value: 0.8019323671497586.\u001b[0m\n",
      "\u001b[32m[I 2021-09-29 13:09:04,284]\u001b[0m Trial 104 finished with value: 0.7487179487179487 and parameters: {'booster': 'dart', 'learning_rate': 0.050096052929962984, 'max_depth': 3, 'subsample': 0.16026720731909738, 'colsample_bytree': 0.4928728776458294}. Best is trial 50 with value: 0.8019323671497586.\u001b[0m\n",
      "\u001b[32m[I 2021-09-29 13:09:04,332]\u001b[0m Trial 105 finished with value: 0.7614213197969544 and parameters: {'booster': 'dart', 'learning_rate': 0.027552184411028798, 'max_depth': 3, 'subsample': 0.8660071553524196, 'colsample_bytree': 0.919747620176874}. Best is trial 50 with value: 0.8019323671497586.\u001b[0m\n",
      "\u001b[32m[I 2021-09-29 13:09:04,382]\u001b[0m Trial 106 finished with value: 0.7821782178217821 and parameters: {'booster': 'dart', 'learning_rate': 0.09595151283090765, 'max_depth': 3, 'subsample': 0.49798142657438704, 'colsample_bytree': 0.8127598726806122}. Best is trial 50 with value: 0.8019323671497586.\u001b[0m\n",
      "\u001b[32m[I 2021-09-29 13:09:04,419]\u001b[0m Trial 107 finished with value: 0.4714285714285714 and parameters: {'booster': 'gblinear', 'learning_rate': 0.014528959583978433, 'max_depth': 5, 'subsample': 0.7459674559724448, 'colsample_bytree': 0.3960679407890802}. Best is trial 50 with value: 0.8019323671497586.\u001b[0m\n",
      "\u001b[32m[I 2021-09-29 13:09:04,476]\u001b[0m Trial 108 finished with value: 0.7918781725888325 and parameters: {'booster': 'dart', 'learning_rate': 0.07401945066776754, 'max_depth': 6, 'subsample': 0.7123946413083926, 'colsample_bytree': 0.7750918605006638}. Best is trial 50 with value: 0.8019323671497586.\u001b[0m\n",
      "\u001b[32m[I 2021-09-29 13:09:04,538]\u001b[0m Trial 109 finished with value: 0.768472906403941 and parameters: {'booster': 'dart', 'learning_rate': 0.07372497770463203, 'max_depth': 9, 'subsample': 0.717403380380537, 'colsample_bytree': 0.7766687664687086}. Best is trial 50 with value: 0.8019323671497586.\u001b[0m\n",
      "\u001b[32m[I 2021-09-29 13:09:04,588]\u001b[0m Trial 110 finished with value: 0.736842105263158 and parameters: {'booster': 'gbtree', 'learning_rate': 0.04499148332147193, 'max_depth': 6, 'subsample': 0.6417323786778384, 'colsample_bytree': 0.5240029792310475}. Best is trial 50 with value: 0.8019323671497586.\u001b[0m\n"
     ]
    },
    {
     "name": "stdout",
     "output_type": "stream",
     "text": [
      "[13:09:04] WARNING: C:/Users/Administrator/workspace/xgboost-win64_release_1.4.0/src/learner.cc:573: \n",
      "Parameters: { \"colsample_bytree\", \"max_depth\", \"subsample\" } might not be used.\n",
      "\n",
      "  This may not be accurate due to some parameters are only used in language bindings but\n",
      "  passed down to XGBoost core.  Or some parameters are not used but slip through this\n",
      "  verification. Please open an issue if you find above cases.\n",
      "\n",
      "\n"
     ]
    },
    {
     "name": "stderr",
     "output_type": "stream",
     "text": [
      "\u001b[32m[I 2021-09-29 13:09:04,644]\u001b[0m Trial 111 finished with value: 0.7755102040816327 and parameters: {'booster': 'dart', 'learning_rate': 0.08400381720582886, 'max_depth': 6, 'subsample': 0.5654382384690502, 'colsample_bytree': 0.8624020377427912}. Best is trial 50 with value: 0.8019323671497586.\u001b[0m\n",
      "\u001b[32m[I 2021-09-29 13:09:04,695]\u001b[0m Trial 112 finished with value: 0.7839195979899497 and parameters: {'booster': 'dart', 'learning_rate': 0.0670772521788497, 'max_depth': 4, 'subsample': 0.6151459258475857, 'colsample_bytree': 0.47501010146522166}. Best is trial 50 with value: 0.8019323671497586.\u001b[0m\n",
      "\u001b[32m[I 2021-09-29 13:09:04,746]\u001b[0m Trial 113 finished with value: 0.7839195979899497 and parameters: {'booster': 'dart', 'learning_rate': 0.06153727926346464, 'max_depth': 5, 'subsample': 0.6727224761384736, 'colsample_bytree': 0.4444508941629079}. Best is trial 50 with value: 0.8019323671497586.\u001b[0m\n",
      "\u001b[32m[I 2021-09-29 13:09:04,808]\u001b[0m Trial 114 finished with value: 0.7638190954773869 and parameters: {'booster': 'dart', 'learning_rate': 0.038748954731101896, 'max_depth': 7, 'subsample': 0.7917394035542882, 'colsample_bytree': 0.7427928071729523}. Best is trial 50 with value: 0.8019323671497586.\u001b[0m\n",
      "\u001b[32m[I 2021-09-29 13:09:04,866]\u001b[0m Trial 115 finished with value: 0.7872340425531914 and parameters: {'booster': 'dart', 'learning_rate': 0.010077164178982004, 'max_depth': 10, 'subsample': 0.33125549383419683, 'colsample_bytree': 0.42496480971123524}. Best is trial 50 with value: 0.8019323671497586.\u001b[0m\n",
      "\u001b[32m[I 2021-09-29 13:09:04,926]\u001b[0m Trial 116 finished with value: 0.7643979057591622 and parameters: {'booster': 'dart', 'learning_rate': 0.010045019732501418, 'max_depth': 10, 'subsample': 0.3267645264739268, 'colsample_bytree': 0.9505243178713016}. Best is trial 50 with value: 0.8019323671497586.\u001b[0m\n",
      "\u001b[32m[I 2021-09-29 13:09:04,983]\u001b[0m Trial 117 finished with value: 0.7676767676767677 and parameters: {'booster': 'dart', 'learning_rate': 0.07339618531964504, 'max_depth': 10, 'subsample': 0.2202492864694736, 'colsample_bytree': 0.9815231244079334}. Best is trial 50 with value: 0.8019323671497586.\u001b[0m\n",
      "\u001b[32m[I 2021-09-29 13:09:05,040]\u001b[0m Trial 118 finished with value: 0.7384615384615385 and parameters: {'booster': 'dart', 'learning_rate': 0.012096170236638882, 'max_depth': 10, 'subsample': 0.25917793087590824, 'colsample_bytree': 0.7840911814187619}. Best is trial 50 with value: 0.8019323671497586.\u001b[0m\n",
      "\u001b[32m[I 2021-09-29 13:09:05,088]\u001b[0m Trial 119 finished with value: 0.7551020408163266 and parameters: {'booster': 'dart', 'learning_rate': 0.013871588990405276, 'max_depth': 4, 'subsample': 0.28241518417226213, 'colsample_bytree': 0.4095413127587817}. Best is trial 50 with value: 0.8019323671497586.\u001b[0m\n",
      "\u001b[32m[I 2021-09-29 13:09:05,147]\u001b[0m Trial 120 finished with value: 0.7553191489361702 and parameters: {'booster': 'dart', 'learning_rate': 0.011163362572217578, 'max_depth': 11, 'subsample': 0.1832623980699562, 'colsample_bytree': 0.8931019942778884}. Best is trial 50 with value: 0.8019323671497586.\u001b[0m\n",
      "\u001b[32m[I 2021-09-29 13:09:05,195]\u001b[0m Trial 121 finished with value: 0.7676767676767677 and parameters: {'booster': 'dart', 'learning_rate': 0.058022273055830735, 'max_depth': 3, 'subsample': 0.7083764877808599, 'colsample_bytree': 0.4314130168540915}. Best is trial 50 with value: 0.8019323671497586.\u001b[0m\n",
      "\u001b[32m[I 2021-09-29 13:09:05,251]\u001b[0m Trial 122 finished with value: 0.7575757575757577 and parameters: {'booster': 'dart', 'learning_rate': 0.010702712704771501, 'max_depth': 10, 'subsample': 0.24866181724687741, 'colsample_bytree': 0.35662224968087447}. Best is trial 50 with value: 0.8019323671497586.\u001b[0m\n",
      "\u001b[32m[I 2021-09-29 13:09:05,301]\u001b[0m Trial 123 finished with value: 0.78 and parameters: {'booster': 'dart', 'learning_rate': 0.06252047255474008, 'max_depth': 3, 'subsample': 0.6046474696327353, 'colsample_bytree': 0.7120941257815965}. Best is trial 50 with value: 0.8019323671497586.\u001b[0m\n",
      "\u001b[32m[I 2021-09-29 13:09:05,353]\u001b[0m Trial 124 finished with value: 0.79 and parameters: {'booster': 'dart', 'learning_rate': 0.022194840278363225, 'max_depth': 5, 'subsample': 0.6829360755079396, 'colsample_bytree': 0.33114370085848976}. Best is trial 50 with value: 0.8019323671497586.\u001b[0m\n",
      "\u001b[32m[I 2021-09-29 13:09:05,405]\u001b[0m Trial 125 finished with value: 0.7487179487179487 and parameters: {'booster': 'dart', 'learning_rate': 0.0882316195991864, 'max_depth': 3, 'subsample': 0.12120653625259906, 'colsample_bytree': 0.456263558097253}. Best is trial 50 with value: 0.8019323671497586.\u001b[0m\n",
      "\u001b[32m[I 2021-09-29 13:09:05,456]\u001b[0m Trial 126 finished with value: 0.7676767676767677 and parameters: {'booster': 'dart', 'learning_rate': 0.022235681373636625, 'max_depth': 5, 'subsample': 0.7328765166745509, 'colsample_bytree': 0.2991015909938984}. Best is trial 50 with value: 0.8019323671497586.\u001b[0m\n",
      "\u001b[32m[I 2021-09-29 13:09:05,507]\u001b[0m Trial 127 finished with value: 0.78 and parameters: {'booster': 'dart', 'learning_rate': 0.02917365185544258, 'max_depth': 5, 'subsample': 0.769062187927597, 'colsample_bytree': 0.36452897656459426}. Best is trial 50 with value: 0.8019323671497586.\u001b[0m\n",
      "\u001b[32m[I 2021-09-29 13:09:05,544]\u001b[0m Trial 128 finished with value: 0.496551724137931 and parameters: {'booster': 'gblinear', 'learning_rate': 0.018957712141772762, 'max_depth': 6, 'subsample': 0.35495369721036296, 'colsample_bytree': 0.33700417406931876}. Best is trial 50 with value: 0.8019323671497586.\u001b[0m\n",
      "\u001b[32m[I 2021-09-29 13:09:05,597]\u001b[0m Trial 129 finished with value: 0.7794871794871795 and parameters: {'booster': 'dart', 'learning_rate': 0.017836492863901564, 'max_depth': 5, 'subsample': 0.681498760707036, 'colsample_bytree': 0.4212129429504247}. Best is trial 50 with value: 0.8019323671497586.\u001b[0m\n",
      "\u001b[32m[I 2021-09-29 13:09:05,645]\u001b[0m Trial 130 finished with value: 0.7311827956989247 and parameters: {'booster': 'dart', 'learning_rate': 0.03070930214956454, 'max_depth': 4, 'subsample': 0.30587429112168707, 'colsample_bytree': 0.11629664772745885}. Best is trial 50 with value: 0.8019323671497586.\u001b[0m\n",
      "\u001b[32m[I 2021-09-29 13:09:05,703]\u001b[0m Trial 131 finished with value: 0.7777777777777778 and parameters: {'booster': 'dart', 'learning_rate': 0.017352983263600647, 'max_depth': 7, 'subsample': 0.6522837274472068, 'colsample_bytree': 0.3949960145742957}. Best is trial 50 with value: 0.8019323671497586.\u001b[0m\n"
     ]
    },
    {
     "name": "stdout",
     "output_type": "stream",
     "text": [
      "[13:09:05] WARNING: C:/Users/Administrator/workspace/xgboost-win64_release_1.4.0/src/learner.cc:573: \n",
      "Parameters: { \"colsample_bytree\", \"max_depth\", \"subsample\" } might not be used.\n",
      "\n",
      "  This may not be accurate due to some parameters are only used in language bindings but\n",
      "  passed down to XGBoost core.  Or some parameters are not used but slip through this\n",
      "  verification. Please open an issue if you find above cases.\n",
      "\n",
      "\n"
     ]
    },
    {
     "name": "stderr",
     "output_type": "stream",
     "text": [
      "\u001b[32m[I 2021-09-29 13:09:05,764]\u001b[0m Trial 132 finished with value: 0.7715736040609138 and parameters: {'booster': 'dart', 'learning_rate': 0.034762015805893026, 'max_depth': 6, 'subsample': 0.6983259845960833, 'colsample_bytree': 0.8322517164227132}. Best is trial 50 with value: 0.8019323671497586.\u001b[0m\n",
      "\u001b[32m[I 2021-09-29 13:09:05,818]\u001b[0m Trial 133 finished with value: 0.78 and parameters: {'booster': 'dart', 'learning_rate': 0.02107888089947898, 'max_depth': 5, 'subsample': 0.6365683931155427, 'colsample_bytree': 0.378660030774888}. Best is trial 50 with value: 0.8019323671497586.\u001b[0m\n",
      "\u001b[32m[I 2021-09-29 13:09:05,868]\u001b[0m Trial 134 finished with value: 0.7860696517412936 and parameters: {'booster': 'dart', 'learning_rate': 0.024866953256751697, 'max_depth': 5, 'subsample': 0.6682945062835943, 'colsample_bytree': 0.332372561454168}. Best is trial 50 with value: 0.8019323671497586.\u001b[0m\n",
      "\u001b[32m[I 2021-09-29 13:09:05,923]\u001b[0m Trial 135 finished with value: 0.78125 and parameters: {'booster': 'dart', 'learning_rate': 0.020310080867374045, 'max_depth': 5, 'subsample': 0.7242473150099592, 'colsample_bytree': 0.48737534124102694}. Best is trial 50 with value: 0.8019323671497586.\u001b[0m\n",
      "\u001b[32m[I 2021-09-29 13:09:05,976]\u001b[0m Trial 136 finished with value: 0.7142857142857143 and parameters: {'booster': 'dart', 'learning_rate': 0.02526645793634978, 'max_depth': 4, 'subsample': 0.23350063536361657, 'colsample_bytree': 0.546882520367759}. Best is trial 50 with value: 0.8019323671497586.\u001b[0m\n",
      "\u001b[32m[I 2021-09-29 13:09:06,024]\u001b[0m Trial 137 finished with value: 0.6477272727272727 and parameters: {'booster': 'gbtree', 'learning_rate': 0.015564770484048217, 'max_depth': 5, 'subsample': 0.6915518466564858, 'colsample_bytree': 0.45702392713660667}. Best is trial 50 with value: 0.8019323671497586.\u001b[0m\n",
      "\u001b[32m[I 2021-09-29 13:09:06,077]\u001b[0m Trial 138 finished with value: 0.78 and parameters: {'booster': 'dart', 'learning_rate': 0.02319984105760709, 'max_depth': 3, 'subsample': 0.6771820902933434, 'colsample_bytree': 0.32279710209618756}. Best is trial 50 with value: 0.8019323671497586.\u001b[0m\n",
      "\u001b[32m[I 2021-09-29 13:09:06,130]\u001b[0m Trial 139 finished with value: 0.78 and parameters: {'booster': 'dart', 'learning_rate': 0.011899146200644743, 'max_depth': 4, 'subsample': 0.8386613558129183, 'colsample_bytree': 0.6751150817327604}. Best is trial 50 with value: 0.8019323671497586.\u001b[0m\n",
      "\u001b[32m[I 2021-09-29 13:09:06,179]\u001b[0m Trial 140 finished with value: 0.6892655367231638 and parameters: {'booster': 'dart', 'learning_rate': 0.02721914778333247, 'max_depth': 5, 'subsample': 0.2148289947448672, 'colsample_bytree': 0.18966994879830065}. Best is trial 50 with value: 0.8019323671497586.\u001b[0m\n",
      "\u001b[32m[I 2021-09-29 13:09:06,235]\u001b[0m Trial 141 finished with value: 0.7676767676767677 and parameters: {'booster': 'dart', 'learning_rate': 0.07960316619466196, 'max_depth': 6, 'subsample': 0.5790261440468923, 'colsample_bytree': 0.8098136823586052}. Best is trial 50 with value: 0.8019323671497586.\u001b[0m\n",
      "\u001b[32m[I 2021-09-29 13:09:06,288]\u001b[0m Trial 142 finished with value: 0.7676767676767677 and parameters: {'booster': 'dart', 'learning_rate': 0.01643664808754428, 'max_depth': 3, 'subsample': 0.6113697574872595, 'colsample_bytree': 0.9380286435151146}. Best is trial 50 with value: 0.8019323671497586.\u001b[0m\n",
      "\u001b[32m[I 2021-09-29 13:09:06,349]\u001b[0m Trial 143 finished with value: 0.7772020725388602 and parameters: {'booster': 'dart', 'learning_rate': 0.05385660703241135, 'max_depth': 8, 'subsample': 0.5454368383883902, 'colsample_bytree': 0.5067244271163585}. Best is trial 50 with value: 0.8019323671497586.\u001b[0m\n",
      "\u001b[32m[I 2021-09-29 13:09:06,406]\u001b[0m Trial 144 finished with value: 0.7755102040816327 and parameters: {'booster': 'dart', 'learning_rate': 0.03222580353265346, 'max_depth': 11, 'subsample': 0.6552114090108287, 'colsample_bytree': 0.2853521008457885}. Best is trial 50 with value: 0.8019323671497586.\u001b[0m\n",
      "\u001b[32m[I 2021-09-29 13:09:06,459]\u001b[0m Trial 145 finished with value: 0.7860696517412936 and parameters: {'booster': 'dart', 'learning_rate': 0.02147571211114667, 'max_depth': 3, 'subsample': 0.6352536432527195, 'colsample_bytree': 0.3855812929378129}. Best is trial 50 with value: 0.8019323671497586.\u001b[0m\n",
      "\u001b[32m[I 2021-09-29 13:09:06,510]\u001b[0m Trial 146 finished with value: 0.7551020408163266 and parameters: {'booster': 'dart', 'learning_rate': 0.025011237986081288, 'max_depth': 5, 'subsample': 0.7080596473595135, 'colsample_bytree': 0.23969715486084156}. Best is trial 50 with value: 0.8019323671497586.\u001b[0m\n",
      "\u001b[32m[I 2021-09-29 13:09:06,563]\u001b[0m Trial 147 finished with value: 0.7676767676767677 and parameters: {'booster': 'dart', 'learning_rate': 0.02188654128467934, 'max_depth': 3, 'subsample': 0.5931716826746493, 'colsample_bytree': 0.9104628506982141}. Best is trial 50 with value: 0.8019323671497586.\u001b[0m\n",
      "\u001b[32m[I 2021-09-29 13:09:06,621]\u001b[0m Trial 148 finished with value: 0.7692307692307693 and parameters: {'booster': 'dart', 'learning_rate': 0.013002621171593724, 'max_depth': 9, 'subsample': 0.7503216400121981, 'colsample_bytree': 0.4206872691175688}. Best is trial 50 with value: 0.8019323671497586.\u001b[0m\n",
      "\u001b[32m[I 2021-09-29 13:09:06,688]\u001b[0m Trial 149 finished with value: 0.7692307692307693 and parameters: {'booster': 'dart', 'learning_rate': 0.014544225410349903, 'max_depth': 10, 'subsample': 0.6214910414878952, 'colsample_bytree': 0.7852221382448652}. Best is trial 50 with value: 0.8019323671497586.\u001b[0m\n",
      "\u001b[32m[I 2021-09-29 13:09:06,732]\u001b[0m Trial 150 finished with value: 0.6914893617021276 and parameters: {'booster': 'gblinear', 'learning_rate': 0.06531141075274087, 'max_depth': 4, 'subsample': 0.17709284652346868, 'colsample_bytree': 0.8530746759304648}. Best is trial 50 with value: 0.8019323671497586.\u001b[0m\n",
      "\u001b[32m[I 2021-09-29 13:09:06,783]\u001b[0m Trial 151 finished with value: 0.7860696517412936 and parameters: {'booster': 'dart', 'learning_rate': 0.04678672597470122, 'max_depth': 3, 'subsample': 0.6243652320135138, 'colsample_bytree': 0.39216572125289395}. Best is trial 50 with value: 0.8019323671497586.\u001b[0m\n",
      "\u001b[32m[I 2021-09-29 13:09:06,835]\u001b[0m Trial 152 finished with value: 0.7676767676767677 and parameters: {'booster': 'dart', 'learning_rate': 0.021064083979425215, 'max_depth': 3, 'subsample': 0.6648048165718002, 'colsample_bytree': 0.3461577762588646}. Best is trial 50 with value: 0.8019323671497586.\u001b[0m\n",
      "\u001b[32m[I 2021-09-29 13:09:06,884]\u001b[0m Trial 153 finished with value: 0.7738693467336684 and parameters: {'booster': 'dart', 'learning_rate': 0.05036915162912983, 'max_depth': 3, 'subsample': 0.6682462727105875, 'colsample_bytree': 0.7569689408889764}. Best is trial 50 with value: 0.8019323671497586.\u001b[0m\n"
     ]
    },
    {
     "name": "stdout",
     "output_type": "stream",
     "text": [
      "[13:09:06] WARNING: C:/Users/Administrator/workspace/xgboost-win64_release_1.4.0/src/learner.cc:573: \n",
      "Parameters: { \"colsample_bytree\", \"max_depth\", \"subsample\" } might not be used.\n",
      "\n",
      "  This may not be accurate due to some parameters are only used in language bindings but\n",
      "  passed down to XGBoost core.  Or some parameters are not used but slip through this\n",
      "  verification. Please open an issue if you find above cases.\n",
      "\n",
      "\n"
     ]
    },
    {
     "name": "stderr",
     "output_type": "stream",
     "text": [
      "\u001b[32m[I 2021-09-29 13:09:06,933]\u001b[0m Trial 154 finished with value: 0.7676767676767677 and parameters: {'booster': 'dart', 'learning_rate': 0.04363660738424183, 'max_depth': 3, 'subsample': 0.6361530352405151, 'colsample_bytree': 0.38679359535116686}. Best is trial 50 with value: 0.8019323671497586.\u001b[0m\n",
      "\u001b[32m[I 2021-09-29 13:09:06,985]\u001b[0m Trial 155 finished with value: 0.7676767676767677 and parameters: {'booster': 'dart', 'learning_rate': 0.02631850368735476, 'max_depth': 3, 'subsample': 0.5640258762367549, 'colsample_bytree': 0.47081456164973845}. Best is trial 50 with value: 0.8019323671497586.\u001b[0m\n",
      "\u001b[32m[I 2021-09-29 13:09:07,036]\u001b[0m Trial 156 finished with value: 0.7661691542288557 and parameters: {'booster': 'dart', 'learning_rate': 0.024062201220061596, 'max_depth': 5, 'subsample': 0.27014871681646274, 'colsample_bytree': 0.3072618027660793}. Best is trial 50 with value: 0.8019323671497586.\u001b[0m\n",
      "\u001b[32m[I 2021-09-29 13:09:07,085]\u001b[0m Trial 157 finished with value: 0.7783251231527093 and parameters: {'booster': 'dart', 'learning_rate': 0.019663354870880726, 'max_depth': 5, 'subsample': 0.19518298657502178, 'colsample_bytree': 0.3611850014404973}. Best is trial 50 with value: 0.8019323671497586.\u001b[0m\n",
      "\u001b[32m[I 2021-09-29 13:09:07,134]\u001b[0m Trial 158 finished with value: 0.7676767676767677 and parameters: {'booster': 'dart', 'learning_rate': 0.013506426603716013, 'max_depth': 3, 'subsample': 0.5965264375514601, 'colsample_bytree': 0.4330490451599383}. Best is trial 50 with value: 0.8019323671497586.\u001b[0m\n",
      "\u001b[32m[I 2021-09-29 13:09:07,184]\u001b[0m Trial 159 finished with value: 0.7676767676767677 and parameters: {'booster': 'dart', 'learning_rate': 0.04810403471831273, 'max_depth': 3, 'subsample': 0.6277577952951657, 'colsample_bytree': 0.3973126571255092}. Best is trial 50 with value: 0.8019323671497586.\u001b[0m\n",
      "\u001b[32m[I 2021-09-29 13:09:07,234]\u001b[0m Trial 160 finished with value: 0.7291666666666666 and parameters: {'booster': 'dart', 'learning_rate': 0.07394444042955074, 'max_depth': 4, 'subsample': 0.15239534416261055, 'colsample_bytree': 0.45155036152736844}. Best is trial 50 with value: 0.8019323671497586.\u001b[0m\n",
      "\u001b[32m[I 2021-09-29 13:09:07,283]\u001b[0m Trial 161 finished with value: 0.7600000000000001 and parameters: {'booster': 'dart', 'learning_rate': 0.045834227714387006, 'max_depth': 3, 'subsample': 0.6459399677267075, 'colsample_bytree': 0.37535176095423106}. Best is trial 50 with value: 0.8019323671497586.\u001b[0m\n",
      "\u001b[32m[I 2021-09-29 13:09:07,334]\u001b[0m Trial 162 finished with value: 0.7078651685393258 and parameters: {'booster': 'dart', 'learning_rate': 0.022540671077393236, 'max_depth': 5, 'subsample': 0.6954232631412105, 'colsample_bytree': 0.028970415174159325}. Best is trial 50 with value: 0.8019323671497586.\u001b[0m\n",
      "\u001b[32m[I 2021-09-29 13:09:07,390]\u001b[0m Trial 163 finished with value: 0.7653061224489796 and parameters: {'booster': 'dart', 'learning_rate': 0.04146502059995278, 'max_depth': 3, 'subsample': 0.7231438902755811, 'colsample_bytree': 0.4121814862803147}. Best is trial 50 with value: 0.8019323671497586.\u001b[0m\n",
      "\u001b[32m[I 2021-09-29 13:09:07,452]\u001b[0m Trial 164 finished with value: 0.7761194029850746 and parameters: {'booster': 'dart', 'learning_rate': 0.02820628277986332, 'max_depth': 5, 'subsample': 0.42617112053730705, 'colsample_bytree': 0.32427080164620364}. Best is trial 50 with value: 0.8019323671497586.\u001b[0m\n",
      "\u001b[32m[I 2021-09-29 13:09:07,511]\u001b[0m Trial 165 finished with value: 0.7150837988826816 and parameters: {'booster': 'gbtree', 'learning_rate': 0.010471559967803235, 'max_depth': 6, 'subsample': 0.6710725004277289, 'colsample_bytree': 0.3405933697788954}. Best is trial 50 with value: 0.8019323671497586.\u001b[0m\n",
      "\u001b[32m[I 2021-09-29 13:09:07,568]\u001b[0m Trial 166 finished with value: 0.7638190954773869 and parameters: {'booster': 'dart', 'learning_rate': 0.03061561268982985, 'max_depth': 5, 'subsample': 0.6555663595475062, 'colsample_bytree': 0.2686877484407759}. Best is trial 50 with value: 0.8019323671497586.\u001b[0m\n",
      "\u001b[32m[I 2021-09-29 13:09:07,621]\u001b[0m Trial 167 finished with value: 0.7676767676767677 and parameters: {'booster': 'dart', 'learning_rate': 0.05638225718279811, 'max_depth': 3, 'subsample': 0.6162609436079461, 'colsample_bytree': 0.9644018562606629}. Best is trial 50 with value: 0.8019323671497586.\u001b[0m\n",
      "\u001b[32m[I 2021-09-29 13:09:07,683]\u001b[0m Trial 168 finished with value: 0.797979797979798 and parameters: {'booster': 'dart', 'learning_rate': 0.03288479342716408, 'max_depth': 10, 'subsample': 0.6905866180953952, 'colsample_bytree': 0.43691799046110114}. Best is trial 50 with value: 0.8019323671497586.\u001b[0m\n",
      "\u001b[32m[I 2021-09-29 13:09:07,737]\u001b[0m Trial 169 finished with value: 0.766839378238342 and parameters: {'booster': 'dart', 'learning_rate': 0.034263513290518, 'max_depth': 10, 'subsample': 0.2303214438423737, 'colsample_bytree': 0.4389582710685907}. Best is trial 50 with value: 0.8019323671497586.\u001b[0m\n",
      "\u001b[32m[I 2021-09-29 13:09:07,797]\u001b[0m Trial 170 finished with value: 0.797979797979798 and parameters: {'booster': 'dart', 'learning_rate': 0.033494540159246626, 'max_depth': 10, 'subsample': 0.6901450395925935, 'colsample_bytree': 0.4728755316816833}. Best is trial 50 with value: 0.8019323671497586.\u001b[0m\n",
      "\u001b[32m[I 2021-09-29 13:09:07,861]\u001b[0m Trial 171 finished with value: 0.7897435897435897 and parameters: {'booster': 'dart', 'learning_rate': 0.03925924770034047, 'max_depth': 10, 'subsample': 0.705712983043848, 'colsample_bytree': 0.4708152562755594}. Best is trial 50 with value: 0.8019323671497586.\u001b[0m\n",
      "\u001b[32m[I 2021-09-29 13:09:07,926]\u001b[0m Trial 172 finished with value: 0.7897435897435897 and parameters: {'booster': 'dart', 'learning_rate': 0.039217913763723536, 'max_depth': 10, 'subsample': 0.708291605370351, 'colsample_bytree': 0.4716888321618425}. Best is trial 50 with value: 0.8019323671497586.\u001b[0m\n",
      "\u001b[32m[I 2021-09-29 13:09:07,990]\u001b[0m Trial 173 finished with value: 0.7835051546391752 and parameters: {'booster': 'dart', 'learning_rate': 0.03642268600658657, 'max_depth': 10, 'subsample': 0.7136125747512465, 'colsample_bytree': 0.49365915924955794}. Best is trial 50 with value: 0.8019323671497586.\u001b[0m\n",
      "\u001b[32m[I 2021-09-29 13:09:08,056]\u001b[0m Trial 174 finished with value: 0.781725888324873 and parameters: {'booster': 'dart', 'learning_rate': 0.033373797639501414, 'max_depth': 10, 'subsample': 0.7543276576975331, 'colsample_bytree': 0.4782172811537393}. Best is trial 50 with value: 0.8019323671497586.\u001b[0m\n",
      "\u001b[32m[I 2021-09-29 13:09:08,120]\u001b[0m Trial 175 finished with value: 0.7722772277227724 and parameters: {'booster': 'dart', 'learning_rate': 0.03940900679004004, 'max_depth': 10, 'subsample': 0.6887877621089284, 'colsample_bytree': 0.5183064659162636}. Best is trial 50 with value: 0.8019323671497586.\u001b[0m\n",
      "\u001b[32m[I 2021-09-29 13:09:08,181]\u001b[0m Trial 176 finished with value: 0.7878787878787878 and parameters: {'booster': 'dart', 'learning_rate': 0.03553174360044374, 'max_depth': 10, 'subsample': 0.7426686500011274, 'colsample_bytree': 0.4543865429541135}. Best is trial 50 with value: 0.8019323671497586.\u001b[0m\n",
      "\u001b[32m[I 2021-09-29 13:09:08,242]\u001b[0m Trial 177 finished with value: 0.7878787878787878 and parameters: {'booster': 'dart', 'learning_rate': 0.03634991386770138, 'max_depth': 10, 'subsample': 0.736282294669889, 'colsample_bytree': 0.46166286477425156}. Best is trial 50 with value: 0.8019323671497586.\u001b[0m\n",
      "\u001b[32m[I 2021-09-29 13:09:08,303]\u001b[0m Trial 178 finished with value: 0.7857142857142857 and parameters: {'booster': 'dart', 'learning_rate': 0.036267982308891014, 'max_depth': 10, 'subsample': 0.7350560045194814, 'colsample_bytree': 0.4615613854327397}. Best is trial 50 with value: 0.8019323671497586.\u001b[0m\n",
      "\u001b[32m[I 2021-09-29 13:09:08,370]\u001b[0m Trial 179 finished with value: 0.77 and parameters: {'booster': 'dart', 'learning_rate': 0.033144261360723334, 'max_depth': 10, 'subsample': 0.7423623244271693, 'colsample_bytree': 0.5029803099171494}. Best is trial 50 with value: 0.8019323671497586.\u001b[0m\n",
      "\u001b[32m[I 2021-09-29 13:09:08,434]\u001b[0m Trial 180 finished with value: 0.7835051546391752 and parameters: {'booster': 'dart', 'learning_rate': 0.038475446573494276, 'max_depth': 10, 'subsample': 0.7105963553579289, 'colsample_bytree': 0.47751217086129566}. Best is trial 50 with value: 0.8019323671497586.\u001b[0m\n"
     ]
    },
    {
     "name": "stderr",
     "output_type": "stream",
     "text": [
      "\u001b[32m[I 2021-09-29 13:09:08,499]\u001b[0m Trial 181 finished with value: 0.7794871794871795 and parameters: {'booster': 'dart', 'learning_rate': 0.03516533299700006, 'max_depth': 10, 'subsample': 0.7700624339565447, 'colsample_bytree': 0.44378962308492115}. Best is trial 50 with value: 0.8019323671497586.\u001b[0m\n",
      "\u001b[32m[I 2021-09-29 13:09:08,570]\u001b[0m Trial 182 finished with value: 0.7676767676767677 and parameters: {'booster': 'dart', 'learning_rate': 0.03700434128060456, 'max_depth': 10, 'subsample': 0.7999777988866776, 'colsample_bytree': 0.538854377105579}. Best is trial 50 with value: 0.8019323671497586.\u001b[0m\n",
      "\u001b[32m[I 2021-09-29 13:09:08,632]\u001b[0m Trial 183 finished with value: 0.7857142857142857 and parameters: {'booster': 'dart', 'learning_rate': 0.03183647059773984, 'max_depth': 10, 'subsample': 0.7023400234756803, 'colsample_bytree': 0.43217992787946397}. Best is trial 50 with value: 0.8019323671497586.\u001b[0m\n",
      "\u001b[32m[I 2021-09-29 13:09:08,699]\u001b[0m Trial 184 finished with value: 0.7731958762886598 and parameters: {'booster': 'dart', 'learning_rate': 0.04197789376820754, 'max_depth': 11, 'subsample': 0.7248844180333457, 'colsample_bytree': 0.4599199331065751}. Best is trial 50 with value: 0.8019323671497586.\u001b[0m\n",
      "\u001b[32m[I 2021-09-29 13:09:08,765]\u001b[0m Trial 185 finished with value: 0.7839195979899497 and parameters: {'booster': 'dart', 'learning_rate': 0.039623067466147806, 'max_depth': 10, 'subsample': 0.6869037660947124, 'colsample_bytree': 0.4929099853819531}. Best is trial 50 with value: 0.8019323671497586.\u001b[0m\n",
      "\u001b[32m[I 2021-09-29 13:09:08,828]\u001b[0m Trial 186 finished with value: 0.7755102040816327 and parameters: {'booster': 'dart', 'learning_rate': 0.02960117486046595, 'max_depth': 10, 'subsample': 0.7401205151799839, 'colsample_bytree': 0.42323664729106714}. Best is trial 50 with value: 0.8019323671497586.\u001b[0m\n",
      "\u001b[32m[I 2021-09-29 13:09:08,870]\u001b[0m Trial 187 finished with value: 0.5897435897435898 and parameters: {'booster': 'gblinear', 'learning_rate': 0.03318972926334251, 'max_depth': 10, 'subsample': 0.686161410959047, 'colsample_bytree': 0.44589011859057853}. Best is trial 50 with value: 0.8019323671497586.\u001b[0m\n",
      "\u001b[32m[I 2021-09-29 13:09:08,941]\u001b[0m Trial 188 finished with value: 0.7623762376237624 and parameters: {'booster': 'dart', 'learning_rate': 0.03458126140682899, 'max_depth': 10, 'subsample': 0.7719792845112367, 'colsample_bytree': 0.5666788839316317}. Best is trial 50 with value: 0.8019323671497586.\u001b[0m\n",
      "\u001b[32m[I 2021-09-29 13:09:09,011]\u001b[0m Trial 189 finished with value: 0.7772020725388602 and parameters: {'booster': 'dart', 'learning_rate': 0.03749815571449253, 'max_depth': 10, 'subsample': 0.7193354868366928, 'colsample_bytree': 0.4767838318326279}. Best is trial 50 with value: 0.8019323671497586.\u001b[0m\n"
     ]
    },
    {
     "name": "stdout",
     "output_type": "stream",
     "text": [
      "[13:09:08] WARNING: C:/Users/Administrator/workspace/xgboost-win64_release_1.4.0/src/learner.cc:573: \n",
      "Parameters: { \"colsample_bytree\", \"max_depth\", \"subsample\" } might not be used.\n",
      "\n",
      "  This may not be accurate due to some parameters are only used in language bindings but\n",
      "  passed down to XGBoost core.  Or some parameters are not used but slip through this\n",
      "  verification. Please open an issue if you find above cases.\n",
      "\n",
      "\n"
     ]
    },
    {
     "name": "stderr",
     "output_type": "stream",
     "text": [
      "\u001b[32m[I 2021-09-29 13:09:09,072]\u001b[0m Trial 190 finished with value: 0.7329842931937172 and parameters: {'booster': 'dart', 'learning_rate': 0.030758277676858264, 'max_depth': 9, 'subsample': 0.20878263443235487, 'colsample_bytree': 0.4068797018614581}. Best is trial 50 with value: 0.8019323671497586.\u001b[0m\n",
      "\u001b[32m[I 2021-09-29 13:09:09,137]\u001b[0m Trial 191 finished with value: 0.7692307692307693 and parameters: {'booster': 'dart', 'learning_rate': 0.031621087622329166, 'max_depth': 10, 'subsample': 0.778389426898925, 'colsample_bytree': 0.46898310351707}. Best is trial 50 with value: 0.8019323671497586.\u001b[0m\n",
      "\u001b[32m[I 2021-09-29 13:09:09,196]\u001b[0m Trial 192 finished with value: 0.8020304568527918 and parameters: {'booster': 'dart', 'learning_rate': 0.0359983733073989, 'max_depth': 10, 'subsample': 0.6627723816383418, 'colsample_bytree': 0.44536345174464315}. Best is trial 192 with value: 0.8020304568527918.\u001b[0m\n",
      "\u001b[32m[I 2021-09-29 13:09:09,261]\u001b[0m Trial 193 finished with value: 0.7474747474747476 and parameters: {'booster': 'dart', 'learning_rate': 0.035888612454713316, 'max_depth': 10, 'subsample': 0.7021804035295438, 'colsample_bytree': 0.5216663713036999}. Best is trial 192 with value: 0.8020304568527918.\u001b[0m\n",
      "\u001b[32m[I 2021-09-29 13:09:09,327]\u001b[0m Trial 194 finished with value: 0.7938144329896907 and parameters: {'booster': 'dart', 'learning_rate': 0.034710110301765275, 'max_depth': 10, 'subsample': 0.6654852216258027, 'colsample_bytree': 0.45064622343035415}. Best is trial 192 with value: 0.8020304568527918.\u001b[0m\n",
      "\u001b[32m[I 2021-09-29 13:09:09,392]\u001b[0m Trial 195 finished with value: 0.7918781725888325 and parameters: {'booster': 'dart', 'learning_rate': 0.04016594232381471, 'max_depth': 10, 'subsample': 0.6740296445202402, 'colsample_bytree': 0.45109746062250444}. Best is trial 192 with value: 0.8020304568527918.\u001b[0m\n",
      "\u001b[32m[I 2021-09-29 13:09:09,453]\u001b[0m Trial 196 finished with value: 0.7839195979899497 and parameters: {'booster': 'dart', 'learning_rate': 0.040766299680020476, 'max_depth': 10, 'subsample': 0.6801138557058128, 'colsample_bytree': 0.46559667880694056}. Best is trial 192 with value: 0.8020304568527918.\u001b[0m\n",
      "\u001b[32m[I 2021-09-29 13:09:09,519]\u001b[0m Trial 197 finished with value: 0.752577319587629 and parameters: {'booster': 'dart', 'learning_rate': 0.03829606791729367, 'max_depth': 10, 'subsample': 0.6572556591864148, 'colsample_bytree': 0.5030476616096198}. Best is trial 192 with value: 0.8020304568527918.\u001b[0m\n",
      "\u001b[32m[I 2021-09-29 13:09:09,583]\u001b[0m Trial 198 finished with value: 0.7731958762886598 and parameters: {'booster': 'dart', 'learning_rate': 0.03447638018940092, 'max_depth': 11, 'subsample': 0.7202965870179825, 'colsample_bytree': 0.44311749467143774}. Best is trial 192 with value: 0.8020304568527918.\u001b[0m\n",
      "\u001b[32m[I 2021-09-29 13:09:09,645]\u001b[0m Trial 199 finished with value: 0.6770833333333335 and parameters: {'booster': 'gbtree', 'learning_rate': 0.04351195758740948, 'max_depth': 10, 'subsample': 0.6762571943597814, 'colsample_bytree': 0.48434974614678294}. Best is trial 192 with value: 0.8020304568527918.\u001b[0m\n"
     ]
    }
   ],
   "source": [
    "import xgboost as xgb\n",
    "dtrain = xgb.DMatrix(X_train, label=y_train)\n",
    "dvalid = xgb.DMatrix(X_test, label=y_test)\n",
    "\n",
    "def objective(trial):\n",
    "    params = {\n",
    "        'booster':trial.suggest_categorical('booster', ['gbtree', 'dart', 'gblinear']),\n",
    "        'learning_rate':trial.suggest_loguniform(\"learning_rate\", 0.01, 0.1),\n",
    "        'max_depth':trial.suggest_int(\"max_depth\", 3, 11),\n",
    "        'subsample':trial.suggest_uniform(\"subsample\", 0.0, 1.0),\n",
    "        'colsample_bytree':trial.suggest_uniform(\"colsample_bytree\", 0.0, 1.0),\n",
    "    }\n",
    "    \n",
    "    bst = xgb.train(params, dtrain)\n",
    "    preds = bst.predict(dvalid)\n",
    "    pred_labels = np.rint(preds)\n",
    "    # accuracy = accuracy_score(y_test, pred_labels)\n",
    "    f1_scores = f1_score(y_test, pred_labels)\n",
    "    return f1_scores\n",
    "\n",
    "\n",
    "study = optuna.create_study(direction=\"maximize\")\n",
    "study.optimize(objective, n_trials=200, timeout=600)"
   ]
  },
  {
   "cell_type": "code",
   "execution_count": 33,
   "metadata": {},
   "outputs": [
    {
     "name": "stderr",
     "output_type": "stream",
     "text": [
      "C:\\Users\\burak\\AppData\\Roaming\\Python\\Python39\\site-packages\\xgboost\\sklearn.py:1146: UserWarning: The use of label encoder in XGBClassifier is deprecated and will be removed in a future release. To remove this warning, do the following: 1) Pass option use_label_encoder=False when constructing XGBClassifier object; and 2) Encode your labels (y) as integers starting with 0, i.e. 0, 1, 2, ..., [num_class - 1].\n",
      "  warnings.warn(label_encoder_deprecation_msg, UserWarning)\n"
     ]
    },
    {
     "name": "stdout",
     "output_type": "stream",
     "text": [
      "[13:09:09] WARNING: C:/Users/Administrator/workspace/xgboost-win64_release_1.4.0/src/learner.cc:1095: Starting in XGBoost 1.3.0, the default evaluation metric used with the objective 'binary:logistic' was changed from 'error' to 'logloss'. Explicitly set eval_metric if you'd like to restore the old behavior.\n",
      "Optimized SuperLearner accuracy:  0.9029850746268657\n",
      "Optimized SuperLearner f1-score:  0.8686868686868687\n",
      "Number of finished trials:  200\n",
      "Best trial:\n",
      "  Value: 0.8020304568527918\n",
      "  Params: \n",
      "    booster: dart\n",
      "    learning_rate: 0.0359983733073989\n",
      "    max_depth: 10\n",
      "    subsample: 0.6627723816383418\n",
      "    colsample_bytree: 0.44536345174464315\n"
     ]
    }
   ],
   "source": [
    "new_params = study.best_params\n",
    "\n",
    "new_model2 = XGBClassifier(**new_params)\n",
    "new_model2.fit(X, y)\n",
    "preds = new_model2.predict(X_test)\n",
    "\n",
    "print('Optimized SuperLearner accuracy: ', accuracy_score(y_test, preds))\n",
    "print('Optimized SuperLearner f1-score: ', f1_score(y_test, preds))\n",
    "\n",
    "print(\"Number of finished trials: \", len(study.trials))\n",
    "print(\"Best trial:\")\n",
    "trial = study.best_trial\n",
    "\n",
    "print(\"  Value: {}\".format(trial.value))\n",
    "print(\"  Params: \")\n",
    "for key, value in trial.params.items():\n",
    "    print(\"    {}: {}\".format(key, value))"
   ]
  },
  {
   "cell_type": "markdown",
   "metadata": {},
   "source": [
    "## **TEST DATA - PREDICTION**"
   ]
  },
  {
   "cell_type": "code",
   "execution_count": 34,
   "metadata": {},
   "outputs": [
    {
     "name": "stdout",
     "output_type": "stream",
     "text": [
      "[13:09:10] WARNING: C:/Users/Administrator/workspace/xgboost-win64_release_1.4.0/src/learner.cc:1095: Starting in XGBoost 1.3.0, the default evaluation metric used with the objective 'binary:logistic' was changed from 'error' to 'logloss'. Explicitly set eval_metric if you'd like to restore the old behavior.\n",
      "[13:09:10] WARNING: C:/Users/Administrator/workspace/xgboost-win64_release_1.4.0/src/learner.cc:1095: Starting in XGBoost 1.3.0, the default evaluation metric used with the objective 'binary:logistic' was changed from 'error' to 'logloss'. Explicitly set eval_metric if you'd like to restore the old behavior.\n"
     ]
    },
    {
     "name": "stderr",
     "output_type": "stream",
     "text": [
      "C:\\Users\\burak\\AppData\\Roaming\\Python\\Python39\\site-packages\\xgboost\\sklearn.py:1146: UserWarning: The use of label encoder in XGBClassifier is deprecated and will be removed in a future release. To remove this warning, do the following: 1) Pass option use_label_encoder=False when constructing XGBClassifier object; and 2) Encode your labels (y) as integers starting with 0, i.e. 0, 1, 2, ..., [num_class - 1].\n",
      "  warnings.warn(label_encoder_deprecation_msg, UserWarning)\n",
      "C:\\Users\\burak\\AppData\\Roaming\\Python\\Python39\\site-packages\\xgboost\\sklearn.py:1146: UserWarning: The use of label encoder in XGBClassifier is deprecated and will be removed in a future release. To remove this warning, do the following: 1) Pass option use_label_encoder=False when constructing XGBClassifier object; and 2) Encode your labels (y) as integers starting with 0, i.e. 0, 1, 2, ..., [num_class - 1].\n",
      "  warnings.warn(label_encoder_deprecation_msg, UserWarning)\n",
      "C:\\Users\\burak\\AppData\\Roaming\\Python\\Python39\\site-packages\\xgboost\\sklearn.py:1146: UserWarning: The use of label encoder in XGBClassifier is deprecated and will be removed in a future release. To remove this warning, do the following: 1) Pass option use_label_encoder=False when constructing XGBClassifier object; and 2) Encode your labels (y) as integers starting with 0, i.e. 0, 1, 2, ..., [num_class - 1].\n",
      "  warnings.warn(label_encoder_deprecation_msg, UserWarning)\n"
     ]
    },
    {
     "name": "stdout",
     "output_type": "stream",
     "text": [
      "[13:09:10] WARNING: C:/Users/Administrator/workspace/xgboost-win64_release_1.4.0/src/learner.cc:1095: Starting in XGBoost 1.3.0, the default evaluation metric used with the objective 'binary:logistic' was changed from 'error' to 'logloss'. Explicitly set eval_metric if you'd like to restore the old behavior.\n",
      "\n",
      "\n",
      "Accuracy is the measure of how often the model is correct.\n",
      "\n",
      "All of accuracies are \n",
      " [0.81 0.84 0.81]\n",
      "\n",
      "Mean of accuracies \n",
      " 0.8218134522482349\n",
      "\n",
      "Standart deviation of accuracies \n",
      " % 1.3816655188147826\n"
     ]
    }
   ],
   "source": [
    "all_accuracies = cross_val_score(estimator=new_model, X=X_train, y=y_train, cv=3)\n",
    "\n",
    "print(\"\\n\\nAccuracy is the measure of how often the model is correct.\\n\")\n",
    "\n",
    "print(\"All of accuracies are \\n\", all_accuracies)\n",
    "print(\"\\nMean of accuracies \\n\", all_accuracies.mean())\n",
    "print(\"\\nStandart deviation of accuracies \\n %\", ( all_accuracies.std() * 100))"
   ]
  }
 ],
 "metadata": {
  "kernelspec": {
   "display_name": "Python 3",
   "language": "python",
   "name": "python3"
  },
  "language_info": {
   "codemirror_mode": {
    "name": "ipython",
    "version": 3
   },
   "file_extension": ".py",
   "mimetype": "text/x-python",
   "name": "python",
   "nbconvert_exporter": "python",
   "pygments_lexer": "ipython3",
   "version": "3.9.2"
  }
 },
 "nbformat": 4,
 "nbformat_minor": 4
}
