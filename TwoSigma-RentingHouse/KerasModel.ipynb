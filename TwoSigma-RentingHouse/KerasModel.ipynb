{
 "cells": [
  {
   "cell_type": "code",
   "execution_count": 1,
   "id": "aging-independence",
   "metadata": {},
   "outputs": [],
   "source": [
    "import numpy as np\n",
    "import pandas as pd\n",
    "import seaborn as sns\n",
    "import itertools\n",
    "import matplotlib.pyplot as plt\n",
    "import string\n",
    "import re\n",
    "import collections\n",
    "from sklearn import preprocessing\n",
    "\n",
    "%matplotlib inline"
   ]
  },
  {
   "cell_type": "code",
   "execution_count": 2,
   "id": "interpreted-demonstration",
   "metadata": {},
   "outputs": [],
   "source": [
    "# READ DATA \n",
    "train_df = pd.read_json('train.json.zip')\n",
    "test_df = pd.read_json('test.json.zip')"
   ]
  },
  {
   "cell_type": "markdown",
   "id": "celtic-vatican",
   "metadata": {},
   "source": [
    "## TRAIN DATA FEATURE ENGINEERING"
   ]
  },
  {
   "cell_type": "code",
   "execution_count": 3,
   "id": "tested-permission",
   "metadata": {},
   "outputs": [],
   "source": [
    "# convert TARGET to the numeric\n",
    "train_df['interest_level'] = train_df['interest_level'].apply(lambda x: 0 if x=='low' \n",
    "                                                      else 1 if x=='medium' \n",
    "                                                      else 2) \n",
    "# REMOVE UNNECESSARY WORDS FROM DESCRIPTION\n",
    "train_df['description'] = train_df['description'].apply(lambda x: x.replace(\"<br />\", \"\"))\n",
    "train_df['description'] = train_df['description'].apply(lambda x: x.replace(\"br\", \"\"))\n",
    "train_df['description'] = train_df['description'].apply(lambda x: x.replace(\"<p><a\", \"\"))\n",
    "\n",
    "#basic features\n",
    "train_df['rooms'] = train_df['bedrooms'] + train_df['bathrooms'] \n",
    "\n",
    "# count of photos #\n",
    "train_df[\"num_photos\"] = train_df[\"photos\"].apply(len)\n",
    "\n",
    "# count of \"features\" #\n",
    "train_df[\"num_features\"] = train_df[\"features\"].apply(len)\n",
    "\n",
    "# count of words present in description column #\n",
    "train_df[\"num_description_words\"] = train_df[\"description\"].apply(lambda x: len(x.split(\" \")))\n",
    "\n",
    "# description contains email\n",
    "regex = r'[\\w\\.-]+@[\\w\\.-]+'\n",
    "train_df['has_email'] = train_df['description'].apply(lambda x: 1 if re.findall(regex, x) else 0)\n",
    "\n",
    "# description contains phone\n",
    "train_df['has_phone'] = train_df['description'].apply(lambda x:re.sub('['+string.punctuation+']', '', x).split())\\\n",
    "        .apply(lambda x: [s for s in x if s.isdigit()])\\\n",
    "        .apply(lambda x: len([s for s in x if len(str(s))==10]))\\\n",
    "        .apply(lambda x: 1 if x>0 else 0)\n",
    "\n",
    "# CONVERT LOWER ALL OF WORDS\n",
    "train_df[[\"features\"]] = train_df[[\"features\"]].apply(\n",
    "    lambda _: [list(map(str.strip, map(str.lower, x))) for x in _])"
   ]
  },
  {
   "cell_type": "markdown",
   "id": "beautiful-report",
   "metadata": {},
   "source": [
    "## TEST DATA FEATURE ENGINEERING"
   ]
  },
  {
   "cell_type": "code",
   "execution_count": 4,
   "id": "coupled-employee",
   "metadata": {},
   "outputs": [],
   "source": [
    "# REMOVE UNNECESSARY WORDS FROM DESCRIPTION\n",
    "test_df['description'] = test_df['description'].apply(lambda x: x.replace(\"<br />\", \"\"))\n",
    "test_df['description'] = test_df['description'].apply(lambda x: x.replace(\"br\", \"\"))\n",
    "test_df['description'] = test_df['description'].apply(lambda x: x.replace(\"<p><a\", \"\"))\n",
    "\n",
    "#basic features\n",
    "test_df['rooms'] = test_df['bedrooms'] + test_df['bathrooms'] \n",
    "\n",
    "# count of photos #\n",
    "test_df[\"num_photos\"] = test_df[\"photos\"].apply(len)\n",
    "\n",
    "# count of \"features\" #\n",
    "test_df[\"num_features\"] = test_df[\"features\"].apply(len)\n",
    "\n",
    "# count of words present in description column #\n",
    "test_df[\"num_description_words\"] = test_df[\"description\"].apply(lambda x: len(x.split(\" \")))\n",
    "\n",
    "# description contains email\n",
    "regex = r'[\\w\\.-]+@[\\w\\.-]+'\n",
    "test_df['has_email'] = test_df['description'].apply(lambda x: 1 if re.findall(regex, x) else 0)\n",
    "\n",
    "# description contains phone\n",
    "test_df['has_phone'] = test_df['description'].apply(lambda x:re.sub('['+string.punctuation+']', '', x).split())\\\n",
    "        .apply(lambda x: [s for s in x if s.isdigit()])\\\n",
    "        .apply(lambda x: len([s for s in x if len(str(s))==10]))\\\n",
    "        .apply(lambda x: 1 if x>0 else 0)\n",
    "\n",
    "# CONVERT LOWER ALL OF WORDS\n",
    "test_df[[\"features\"]] = test_df[[\"features\"]].apply(\n",
    "    lambda _: [list(map(str.strip, map(str.lower, x))) for x in _])"
   ]
  },
  {
   "cell_type": "markdown",
   "id": "figured-format",
   "metadata": {},
   "source": [
    "## MOST FREQUENT FEATURES EXTRACTION"
   ]
  },
  {
   "cell_type": "code",
   "execution_count": 5,
   "id": "affected-serial",
   "metadata": {},
   "outputs": [],
   "source": [
    "feature_value_train = train_df['features'].tolist()\n",
    "feature_value_test = test_df['features'].tolist()\n",
    "\n",
    "feature_value_train\n",
    "feature_value_test\n",
    "\n",
    "feature_lst_train = []\n",
    "feature_lst_test = []\n",
    "\n",
    "for i in range(len(feature_value_train)):\n",
    "    feature_lst_train += feature_value_train[i]\n",
    "    \n",
    "for i in range(len(feature_value_test)):\n",
    "    feature_lst_test += feature_value_test[i]\n",
    "\n",
    "uniq_feature_train = list(set(feature_lst_train))\n",
    "uniq_feature_test = list(set(feature_lst_test))\n",
    "\n",
    "\n",
    "# see the frequency of each feature\n",
    "def most_common(lst):\n",
    "    features = collections.Counter(lst)\n",
    "    feature_value = features.keys()\n",
    "    frequency = features.values()\n",
    "    data = [('feature_value', feature_value),\n",
    "            ('frequency', frequency),]    \n",
    "    df = pd.DataFrame.from_dict(dict(data))\n",
    "    return df.sort_values(by = 'frequency', ascending = False)\n",
    "\n",
    "df_features_train = most_common(feature_lst_train)\n",
    "df_features_test = most_common(feature_lst_test)\n",
    "\n",
    "\n",
    "def newColumn(name, df, series):\n",
    "    feature = pd.Series(0,df.index,name = name)# data : 0\n",
    "    for row,word in enumerate(series):\n",
    "        if name in word:\n",
    "            feature.iloc[row] = 1\n",
    "    df[name] = feature # feature : series ; value in series : 1 or 0\n",
    "    return df\n",
    "\n",
    "# select features based on frequency\n",
    "facilities = ['elevator', 'cats allowed', 'hardwood floors', 'dogs allowed', 'doorman', 'dishwasher', 'no fee', 'laundry in building', 'fitness center']\n",
    "for name in facilities:\n",
    "    train_df = newColumn(name, train_df, train_df['features'])\n",
    "    test_df = newColumn(name, test_df, test_df['features'])"
   ]
  },
  {
   "cell_type": "markdown",
   "id": "animal-payment",
   "metadata": {},
   "source": [
    "## LABEL ENCODING"
   ]
  },
  {
   "cell_type": "code",
   "execution_count": 6,
   "id": "dimensional-reader",
   "metadata": {},
   "outputs": [],
   "source": [
    "categorical = [\"display_address\", \"manager_id\", \"building_id\", \"street_address\"]\n",
    "for f in categorical:\n",
    "        if train_df[f].dtype=='object':\n",
    "            #print(f)\n",
    "            lbl = preprocessing.LabelEncoder()\n",
    "            lbl.fit(list(train_df[f].values) + list(test_df[f].values))\n",
    "            train_df[f] = lbl.transform(list(train_df[f].values))\n",
    "            test_df[f] = lbl.transform(list(test_df[f].values))"
   ]
  },
  {
   "cell_type": "code",
   "execution_count": 7,
   "id": "deluxe-saskatchewan",
   "metadata": {},
   "outputs": [],
   "source": [
    "train_df['price'] = np.log10(train_df['price'])\n",
    "test_df['price'] = np.log10(test_df['price'])"
   ]
  },
  {
   "cell_type": "code",
   "execution_count": 8,
   "id": "european-editor",
   "metadata": {},
   "outputs": [
    {
     "data": {
      "text/plain": [
       "4         3.380211\n",
       "6         3.579784\n",
       "9         3.543447\n",
       "10        3.477121\n",
       "15        3.446382\n",
       "            ...   \n",
       "124000    3.447158\n",
       "124002    3.379306\n",
       "124004    3.267172\n",
       "124008    3.622732\n",
       "124009    3.631444\n",
       "Name: price, Length: 49352, dtype: float64"
      ]
     },
     "execution_count": 8,
     "metadata": {},
     "output_type": "execute_result"
    }
   ],
   "source": [
    "train_df['price']"
   ]
  },
  {
   "cell_type": "markdown",
   "id": "fixed-nomination",
   "metadata": {},
   "source": [
    "## DROP UNNECESSARY COLUMNS"
   ]
  },
  {
   "cell_type": "code",
   "execution_count": 9,
   "id": "interim-remainder",
   "metadata": {},
   "outputs": [],
   "source": [
    "# TRAINING DATASET\n",
    "train_df.drop('created', axis=1, inplace=True)\n",
    "train_df.drop('description', axis=1, inplace=True)\n",
    "train_df.drop('features', axis=1, inplace=True)\n",
    "train_df.drop('photos', axis=1, inplace=True)\n",
    "\n",
    "\n",
    "# TEST DATASET\n",
    "test_df.drop('created', axis=1, inplace=True)\n",
    "test_df.drop('description', axis=1, inplace=True)\n",
    "test_df.drop('features', axis=1, inplace=True)\n",
    "test_df.drop('photos', axis=1, inplace=True)"
   ]
  },
  {
   "cell_type": "markdown",
   "id": "abroad-bloom",
   "metadata": {},
   "source": [
    "# REGRESSION FOR PRICE"
   ]
  },
  {
   "cell_type": "code",
   "execution_count": 10,
   "id": "reserved-african",
   "metadata": {},
   "outputs": [],
   "source": [
    "from sklearn.model_selection import train_test_split\n",
    "from sklearn.metrics import make_scorer, mean_absolute_error, mean_squared_error\n",
    "from sklearn.preprocessing import StandardScaler\n",
    "from sklearn.pipeline import Pipeline\n",
    "import xgboost as xgb\n",
    "from sklearn.linear_model import LinearRegression\n",
    "from sklearn.ensemble import RandomForestRegressor\n",
    "from sklearn.svm import SVR\n",
    "import optuna\n",
    "import math\n",
    "from keras import callbacks\n",
    "\n",
    "X = train_df.drop(['price'], axis = 1)\n",
    "y = train_df.price\n",
    "X_train, X_test, y_train, y_test = train_test_split(X, y, \n",
    "                                                    test_size = .3,\n",
    "                                                    random_state = 5)"
   ]
  },
  {
   "cell_type": "code",
   "execution_count": 11,
   "id": "front-reader",
   "metadata": {},
   "outputs": [],
   "source": [
    "class Optimizer:\n",
    "    def __init__(self, metric, trials=100):\n",
    "        self.metric = metric\n",
    "        self.trials = trials\n",
    "        \n",
    "    def objective(self, trial):\n",
    "        model = create_model(trial)\n",
    "        model.fit(X, y)\n",
    "        preds = model.predict(X_test)\n",
    "        return mean_absolute_error(y_test, preds)\n",
    "            \n",
    "    def optimize(self):\n",
    "        study = optuna.create_study(direction=\"minimize\")\n",
    "        study.optimize(self.objective, n_trials=self.trials)\n",
    "        return study"
   ]
  },
  {
   "cell_type": "code",
   "execution_count": 12,
   "id": "sharing-marriage",
   "metadata": {},
   "outputs": [
    {
     "name": "stderr",
     "output_type": "stream",
     "text": [
      "\u001b[32m[I 2021-09-28 17:53:36,049]\u001b[0m A new study created in memory with name: no-name-a331b82c-4720-4590-9c92-fed25c0a8156\u001b[0m\n"
     ]
    },
    {
     "name": "stdout",
     "output_type": "stream",
     "text": [
      "1543/1543 [==============================] - 2s 889us/step - loss: 27321.9727\n"
     ]
    },
    {
     "name": "stderr",
     "output_type": "stream",
     "text": [
      "\u001b[32m[I 2021-09-28 17:53:39,674]\u001b[0m Trial 0 finished with value: 16515.011623708084 and parameters: {'units': 177, 'kernel_initializer': 'normal', 'activation': 'silu'}. Best is trial 0 with value: 16515.011623708084.\u001b[0m\n"
     ]
    },
    {
     "name": "stdout",
     "output_type": "stream",
     "text": [
      "1543/1543 [==============================] - 2s 781us/step - loss: 54704.8359\n"
     ]
    },
    {
     "name": "stderr",
     "output_type": "stream",
     "text": [
      "\u001b[32m[I 2021-09-28 17:53:41,675]\u001b[0m Trial 1 finished with value: 90180.31850626413 and parameters: {'units': 203, 'kernel_initializer': 'glorot_uniform', 'activation': 'relu'}. Best is trial 0 with value: 16515.011623708084.\u001b[0m\n"
     ]
    },
    {
     "name": "stdout",
     "output_type": "stream",
     "text": [
      "1543/1543 [==============================] - 2s 939us/step - loss: 57048.8086\n"
     ]
    },
    {
     "name": "stderr",
     "output_type": "stream",
     "text": [
      "\u001b[32m[I 2021-09-28 17:53:43,949]\u001b[0m Trial 2 finished with value: 80783.38150766604 and parameters: {'units': 243, 'kernel_initializer': 'glorot_uniform', 'activation': 'silu'}. Best is trial 0 with value: 16515.011623708084.\u001b[0m\n"
     ]
    },
    {
     "name": "stdout",
     "output_type": "stream",
     "text": [
      "1543/1543 [==============================] - 2s 784us/step - loss: 51089.2109\n"
     ]
    },
    {
     "name": "stderr",
     "output_type": "stream",
     "text": [
      "\u001b[32m[I 2021-09-28 17:53:45,938]\u001b[0m Trial 3 finished with value: 9333.99197716002 and parameters: {'units': 143, 'kernel_initializer': 'glorot_uniform', 'activation': 'leaky_relu'}. Best is trial 3 with value: 9333.99197716002.\u001b[0m\n"
     ]
    },
    {
     "name": "stdout",
     "output_type": "stream",
     "text": [
      "1543/1543 [==============================] - 2s 789us/step - loss: 66806.7266\n"
     ]
    },
    {
     "name": "stderr",
     "output_type": "stream",
     "text": [
      "\u001b[32m[I 2021-09-28 17:53:47,941]\u001b[0m Trial 4 finished with value: 75658.22424878449 and parameters: {'units': 216, 'kernel_initializer': 'glorot_uniform', 'activation': 'leaky_relu'}. Best is trial 3 with value: 9333.99197716002.\u001b[0m\n"
     ]
    },
    {
     "name": "stdout",
     "output_type": "stream",
     "text": [
      "1543/1543 [==============================] - 2s 800us/step - loss: 67179.4141\n"
     ]
    },
    {
     "name": "stderr",
     "output_type": "stream",
     "text": [
      "\u001b[32m[I 2021-09-28 17:53:49,956]\u001b[0m Trial 5 finished with value: 7424.058743536404 and parameters: {'units': 214, 'kernel_initializer': 'glorot_uniform', 'activation': 'leaky_relu'}. Best is trial 5 with value: 7424.058743536404.\u001b[0m\n"
     ]
    },
    {
     "name": "stdout",
     "output_type": "stream",
     "text": [
      "1543/1543 [==============================] - 2s 843us/step - loss: 25007.1777\n"
     ]
    },
    {
     "name": "stderr",
     "output_type": "stream",
     "text": [
      "\u001b[32m[I 2021-09-28 17:53:52,075]\u001b[0m Trial 6 finished with value: 9722.378897348204 and parameters: {'units': 145, 'kernel_initializer': 'normal', 'activation': 'silu'}. Best is trial 5 with value: 7424.058743536404.\u001b[0m\n"
     ]
    },
    {
     "name": "stdout",
     "output_type": "stream",
     "text": [
      "1543/1543 [==============================] - 2s 740us/step - loss: 31083.6055\n"
     ]
    },
    {
     "name": "stderr",
     "output_type": "stream",
     "text": [
      "\u001b[32m[I 2021-09-28 17:53:53,991]\u001b[0m Trial 7 finished with value: 10187.92243860196 and parameters: {'units': 83, 'kernel_initializer': 'glorot_uniform', 'activation': 'relu'}. Best is trial 5 with value: 7424.058743536404.\u001b[0m\n"
     ]
    },
    {
     "name": "stdout",
     "output_type": "stream",
     "text": [
      "1543/1543 [==============================] - 2s 742us/step - loss: 41807.4648\n"
     ]
    },
    {
     "name": "stderr",
     "output_type": "stream",
     "text": [
      "\u001b[32m[I 2021-09-28 17:53:55,911]\u001b[0m Trial 8 finished with value: 40956.81029221663 and parameters: {'units': 68, 'kernel_initializer': 'glorot_uniform', 'activation': 'leaky_relu'}. Best is trial 5 with value: 7424.058743536404.\u001b[0m\n"
     ]
    },
    {
     "name": "stdout",
     "output_type": "stream",
     "text": [
      "1543/1543 [==============================] - 2s 761us/step - loss: 26427.2793\n"
     ]
    },
    {
     "name": "stderr",
     "output_type": "stream",
     "text": [
      "\u001b[32m[I 2021-09-28 17:53:57,861]\u001b[0m Trial 9 finished with value: 5143.597371840069 and parameters: {'units': 94, 'kernel_initializer': 'normal', 'activation': 'leaky_relu'}. Best is trial 9 with value: 5143.597371840069.\u001b[0m\n"
     ]
    },
    {
     "name": "stdout",
     "output_type": "stream",
     "text": [
      "1543/1543 [==============================] - 2s 749us/step - loss: 18262.5195\n"
     ]
    },
    {
     "name": "stderr",
     "output_type": "stream",
     "text": [
      "\u001b[32m[I 2021-09-28 17:53:59,795]\u001b[0m Trial 10 finished with value: 7741.619826115889 and parameters: {'units': 37, 'kernel_initializer': 'normal', 'activation': 'leaky_relu'}. Best is trial 9 with value: 5143.597371840069.\u001b[0m\n"
     ]
    },
    {
     "name": "stdout",
     "output_type": "stream",
     "text": [
      "1543/1543 [==============================] - 2s 756us/step - loss: 30943.8340\n"
     ]
    },
    {
     "name": "stderr",
     "output_type": "stream",
     "text": [
      "\u001b[32m[I 2021-09-28 17:54:01,743]\u001b[0m Trial 11 finished with value: 5721.640498166707 and parameters: {'units': 109, 'kernel_initializer': 'normal', 'activation': 'leaky_relu'}. Best is trial 9 with value: 5143.597371840069.\u001b[0m\n"
     ]
    },
    {
     "name": "stdout",
     "output_type": "stream",
     "text": [
      "1543/1543 [==============================] - 2s 764us/step - loss: 36068.6914\n"
     ]
    },
    {
     "name": "stderr",
     "output_type": "stream",
     "text": [
      "\u001b[32m[I 2021-09-28 17:54:04,035]\u001b[0m Trial 12 finished with value: 54769.80959808292 and parameters: {'units': 109, 'kernel_initializer': 'normal', 'activation': 'leaky_relu'}. Best is trial 9 with value: 5143.597371840069.\u001b[0m\n"
     ]
    },
    {
     "name": "stdout",
     "output_type": "stream",
     "text": [
      "1543/1543 [==============================] - 2s 757us/step - loss: 27747.5215\n"
     ]
    },
    {
     "name": "stderr",
     "output_type": "stream",
     "text": [
      "\u001b[32m[I 2021-09-28 17:54:05,980]\u001b[0m Trial 13 finished with value: 17666.23294827709 and parameters: {'units': 114, 'kernel_initializer': 'normal', 'activation': 'leaky_relu'}. Best is trial 9 with value: 5143.597371840069.\u001b[0m\n"
     ]
    },
    {
     "name": "stdout",
     "output_type": "stream",
     "text": [
      "1543/1543 [==============================] - 2s 769us/step - loss: 16912.9648\n"
     ]
    },
    {
     "name": "stderr",
     "output_type": "stream",
     "text": [
      "\u001b[32m[I 2021-09-28 17:54:07,933]\u001b[0m Trial 14 finished with value: 18301.660984604212 and parameters: {'units': 70, 'kernel_initializer': 'normal', 'activation': 'relu'}. Best is trial 9 with value: 5143.597371840069.\u001b[0m\n"
     ]
    },
    {
     "name": "stdout",
     "output_type": "stream",
     "text": [
      "1543/1543 [==============================] - 2s 756us/step - loss: 15365.1514\n"
     ]
    },
    {
     "name": "stderr",
     "output_type": "stream",
     "text": [
      "\u001b[32m[I 2021-09-28 17:54:09,873]\u001b[0m Trial 15 finished with value: 26945.909688945576 and parameters: {'units': 33, 'kernel_initializer': 'normal', 'activation': 'leaky_relu'}. Best is trial 9 with value: 5143.597371840069.\u001b[0m\n"
     ]
    },
    {
     "name": "stdout",
     "output_type": "stream",
     "text": [
      "1543/1543 [==============================] - 2s 763us/step - loss: 32037.3457\n"
     ]
    },
    {
     "name": "stderr",
     "output_type": "stream",
     "text": [
      "\u001b[32m[I 2021-09-28 17:54:11,832]\u001b[0m Trial 16 finished with value: 40552.65903491385 and parameters: {'units': 114, 'kernel_initializer': 'normal', 'activation': 'leaky_relu'}. Best is trial 9 with value: 5143.597371840069.\u001b[0m\n"
     ]
    },
    {
     "name": "stdout",
     "output_type": "stream",
     "text": [
      "1543/1543 [==============================] - 2s 795us/step - loss: 35930.0859\n"
     ]
    },
    {
     "name": "stderr",
     "output_type": "stream",
     "text": [
      "\u001b[32m[I 2021-09-28 17:54:13,855]\u001b[0m Trial 17 finished with value: 10569.08211923935 and parameters: {'units': 149, 'kernel_initializer': 'normal', 'activation': 'leaky_relu'}. Best is trial 9 with value: 5143.597371840069.\u001b[0m\n"
     ]
    },
    {
     "name": "stdout",
     "output_type": "stream",
     "text": [
      "1543/1543 [==============================] - 2s 764us/step - loss: 24883.5723\n"
     ]
    },
    {
     "name": "stderr",
     "output_type": "stream",
     "text": [
      "\u001b[32m[I 2021-09-28 17:54:15,812]\u001b[0m Trial 18 finished with value: 11579.790785106967 and parameters: {'units': 92, 'kernel_initializer': 'normal', 'activation': 'relu'}. Best is trial 9 with value: 5143.597371840069.\u001b[0m\n"
     ]
    },
    {
     "name": "stdout",
     "output_type": "stream",
     "text": [
      "1543/1543 [==============================] - 2s 790us/step - loss: 13132.8770\n"
     ]
    },
    {
     "name": "stderr",
     "output_type": "stream",
     "text": [
      "\u001b[32m[I 2021-09-28 17:54:17,833]\u001b[0m Trial 19 finished with value: 19686.915943272368 and parameters: {'units': 53, 'kernel_initializer': 'normal', 'activation': 'silu'}. Best is trial 9 with value: 5143.597371840069.\u001b[0m\n"
     ]
    },
    {
     "name": "stdout",
     "output_type": "stream",
     "text": [
      "1543/1543 [==============================] - 2s 777us/step - loss: 36510.5312\n"
     ]
    },
    {
     "name": "stderr",
     "output_type": "stream",
     "text": [
      "\u001b[32m[I 2021-09-28 17:54:19,835]\u001b[0m Trial 20 finished with value: 47414.51819475656 and parameters: {'units': 168, 'kernel_initializer': 'normal', 'activation': 'leaky_relu'}. Best is trial 9 with value: 5143.597371840069.\u001b[0m\n"
     ]
    },
    {
     "name": "stdout",
     "output_type": "stream",
     "text": [
      "1543/1543 [==============================] - 2s 811us/step - loss: 63960.9727\n"
     ]
    },
    {
     "name": "stderr",
     "output_type": "stream",
     "text": [
      "\u001b[32m[I 2021-09-28 17:54:21,871]\u001b[0m Trial 21 finished with value: 93590.47520912152 and parameters: {'units': 252, 'kernel_initializer': 'glorot_uniform', 'activation': 'leaky_relu'}. Best is trial 9 with value: 5143.597371840069.\u001b[0m\n"
     ]
    },
    {
     "name": "stdout",
     "output_type": "stream",
     "text": [
      "1543/1543 [==============================] - 2s 769us/step - loss: 57920.1406\n"
     ]
    },
    {
     "name": "stderr",
     "output_type": "stream",
     "text": [
      "\u001b[32m[I 2021-09-28 17:54:23,842]\u001b[0m Trial 22 finished with value: 105114.55650692731 and parameters: {'units': 127, 'kernel_initializer': 'glorot_uniform', 'activation': 'leaky_relu'}. Best is trial 9 with value: 5143.597371840069.\u001b[0m\n"
     ]
    },
    {
     "name": "stdout",
     "output_type": "stream",
     "text": [
      "1543/1543 [==============================] - 2s 795us/step - loss: 54381.1641\n"
     ]
    },
    {
     "name": "stderr",
     "output_type": "stream",
     "text": [
      "\u001b[32m[I 2021-09-28 17:54:25,853]\u001b[0m Trial 23 finished with value: 9696.88126831215 and parameters: {'units': 186, 'kernel_initializer': 'glorot_uniform', 'activation': 'leaky_relu'}. Best is trial 9 with value: 5143.597371840069.\u001b[0m\n"
     ]
    },
    {
     "name": "stdout",
     "output_type": "stream",
     "text": [
      "1543/1543 [==============================] - 2s 760us/step - loss: 31248.1992\n"
     ]
    },
    {
     "name": "stderr",
     "output_type": "stream",
     "text": [
      "\u001b[32m[I 2021-09-28 17:54:27,803]\u001b[0m Trial 24 finished with value: 19785.04346982452 and parameters: {'units': 92, 'kernel_initializer': 'normal', 'activation': 'leaky_relu'}. Best is trial 9 with value: 5143.597371840069.\u001b[0m\n"
     ]
    },
    {
     "name": "stdout",
     "output_type": "stream",
     "text": [
      "1543/1543 [==============================] - 2s 799us/step - loss: 45502.0977\n"
     ]
    },
    {
     "name": "stderr",
     "output_type": "stream",
     "text": [
      "\u001b[32m[I 2021-09-28 17:54:29,824]\u001b[0m Trial 25 finished with value: 41307.75690472844 and parameters: {'units': 224, 'kernel_initializer': 'normal', 'activation': 'leaky_relu'}. Best is trial 9 with value: 5143.597371840069.\u001b[0m\n"
     ]
    },
    {
     "name": "stdout",
     "output_type": "stream",
     "text": [
      "1543/1543 [==============================] - 2s 772us/step - loss: 53962.8711\n"
     ]
    },
    {
     "name": "stderr",
     "output_type": "stream",
     "text": [
      "\u001b[32m[I 2021-09-28 17:54:31,799]\u001b[0m Trial 26 finished with value: 6426.2445702727155 and parameters: {'units': 131, 'kernel_initializer': 'glorot_uniform', 'activation': 'leaky_relu'}. Best is trial 9 with value: 5143.597371840069.\u001b[0m\n"
     ]
    },
    {
     "name": "stdout",
     "output_type": "stream",
     "text": [
      "1543/1543 [==============================] - 2s 784us/step - loss: 32292.0996\n"
     ]
    },
    {
     "name": "stderr",
     "output_type": "stream",
     "text": [
      "\u001b[32m[I 2021-09-28 17:54:33,784]\u001b[0m Trial 27 finished with value: 43416.01004904071 and parameters: {'units': 127, 'kernel_initializer': 'normal', 'activation': 'leaky_relu'}. Best is trial 9 with value: 5143.597371840069.\u001b[0m\n"
     ]
    },
    {
     "name": "stdout",
     "output_type": "stream",
     "text": [
      "1543/1543 [==============================] - 2s 754us/step - loss: 46856.1289\n"
     ]
    },
    {
     "name": "stderr",
     "output_type": "stream",
     "text": [
      "\u001b[32m[I 2021-09-28 17:54:35,717]\u001b[0m Trial 28 finished with value: 61678.71735229826 and parameters: {'units': 101, 'kernel_initializer': 'glorot_uniform', 'activation': 'relu'}. Best is trial 9 with value: 5143.597371840069.\u001b[0m\n"
     ]
    },
    {
     "name": "stdout",
     "output_type": "stream",
     "text": [
      "1543/1543 [==============================] - 2s 858us/step - loss: 33009.7695\n"
     ]
    },
    {
     "name": "stderr",
     "output_type": "stream",
     "text": [
      "\u001b[32m[I 2021-09-28 17:54:37,867]\u001b[0m Trial 29 finished with value: 14453.937165137655 and parameters: {'units': 162, 'kernel_initializer': 'normal', 'activation': 'silu'}. Best is trial 9 with value: 5143.597371840069.\u001b[0m\n"
     ]
    },
    {
     "name": "stdout",
     "output_type": "stream",
     "text": [
      "1543/1543 [==============================] - 2s 866us/step - loss: 25004.6621\n"
     ]
    },
    {
     "name": "stderr",
     "output_type": "stream",
     "text": [
      "\u001b[32m[I 2021-09-28 17:54:40,029]\u001b[0m Trial 30 finished with value: 4632.522870892131 and parameters: {'units': 135, 'kernel_initializer': 'normal', 'activation': 'silu'}. Best is trial 30 with value: 4632.522870892131.\u001b[0m\n"
     ]
    },
    {
     "name": "stdout",
     "output_type": "stream",
     "text": [
      "1543/1543 [==============================] - 2s 843us/step - loss: 25181.0957\n"
     ]
    },
    {
     "name": "stderr",
     "output_type": "stream",
     "text": [
      "\u001b[32m[I 2021-09-28 17:54:42,542]\u001b[0m Trial 31 finished with value: 10980.277434570655 and parameters: {'units': 130, 'kernel_initializer': 'normal', 'activation': 'silu'}. Best is trial 30 with value: 4632.522870892131.\u001b[0m\n"
     ]
    },
    {
     "name": "stdout",
     "output_type": "stream",
     "text": [
      "1543/1543 [==============================] - 2s 793us/step - loss: 22022.1230\n"
     ]
    },
    {
     "name": "stderr",
     "output_type": "stream",
     "text": [
      "\u001b[32m[I 2021-09-28 17:54:44,574]\u001b[0m Trial 32 finished with value: 2928.144715932625 and parameters: {'units': 75, 'kernel_initializer': 'normal', 'activation': 'silu'}. Best is trial 32 with value: 2928.144715932625.\u001b[0m\n"
     ]
    },
    {
     "name": "stdout",
     "output_type": "stream",
     "text": [
      "1543/1543 [==============================] - 2s 796us/step - loss: 25327.3301\n"
     ]
    },
    {
     "name": "stderr",
     "output_type": "stream",
     "text": [
      "\u001b[32m[I 2021-09-28 17:54:46,608]\u001b[0m Trial 33 finished with value: 6419.799125528503 and parameters: {'units': 79, 'kernel_initializer': 'normal', 'activation': 'silu'}. Best is trial 32 with value: 2928.144715932625.\u001b[0m\n"
     ]
    },
    {
     "name": "stdout",
     "output_type": "stream",
     "text": [
      "1543/1543 [==============================] - 2s 775us/step - loss: 25934.7734\n"
     ]
    },
    {
     "name": "stderr",
     "output_type": "stream",
     "text": [
      "\u001b[32m[I 2021-09-28 17:54:48,616]\u001b[0m Trial 34 finished with value: 41298.14299345514 and parameters: {'units': 59, 'kernel_initializer': 'normal', 'activation': 'silu'}. Best is trial 32 with value: 2928.144715932625.\u001b[0m\n"
     ]
    },
    {
     "name": "stdout",
     "output_type": "stream",
     "text": [
      "1543/1543 [==============================] - 2s 815us/step - loss: 18252.1543\n"
     ]
    },
    {
     "name": "stderr",
     "output_type": "stream",
     "text": [
      "\u001b[32m[I 2021-09-28 17:54:50,682]\u001b[0m Trial 35 finished with value: 26940.275950269523 and parameters: {'units': 100, 'kernel_initializer': 'normal', 'activation': 'silu'}. Best is trial 32 with value: 2928.144715932625.\u001b[0m\n"
     ]
    },
    {
     "name": "stdout",
     "output_type": "stream",
     "text": [
      "1543/1543 [==============================] - 2s 912us/step - loss: 31918.0547\n"
     ]
    },
    {
     "name": "stderr",
     "output_type": "stream",
     "text": [
      "\u001b[32m[I 2021-09-28 17:54:52,916]\u001b[0m Trial 36 finished with value: 32329.118003190426 and parameters: {'units': 189, 'kernel_initializer': 'normal', 'activation': 'silu'}. Best is trial 32 with value: 2928.144715932625.\u001b[0m\n"
     ]
    },
    {
     "name": "stdout",
     "output_type": "stream",
     "text": [
      "1543/1543 [==============================] - 2s 766us/step - loss: 12480.5811\n"
     ]
    },
    {
     "name": "stderr",
     "output_type": "stream",
     "text": [
      "\u001b[32m[I 2021-09-28 17:54:54,906]\u001b[0m Trial 37 finished with value: 2051.6157451483236 and parameters: {'units': 52, 'kernel_initializer': 'normal', 'activation': 'silu'}. Best is trial 37 with value: 2051.6157451483236.\u001b[0m\n"
     ]
    },
    {
     "name": "stdout",
     "output_type": "stream",
     "text": [
      "1543/1543 [==============================] - 2s 757us/step - loss: 13681.3984\n"
     ]
    },
    {
     "name": "stderr",
     "output_type": "stream",
     "text": [
      "\u001b[32m[I 2021-09-28 17:54:56,873]\u001b[0m Trial 38 finished with value: 5329.171856996109 and parameters: {'units': 46, 'kernel_initializer': 'normal', 'activation': 'silu'}. Best is trial 37 with value: 2051.6157451483236.\u001b[0m\n"
     ]
    },
    {
     "name": "stdout",
     "output_type": "stream",
     "text": [
      "1543/1543 [==============================] - 2s 790us/step - loss: 20067.7148\n"
     ]
    },
    {
     "name": "stderr",
     "output_type": "stream",
     "text": [
      "\u001b[32m[I 2021-09-28 17:54:58,905]\u001b[0m Trial 39 finished with value: 14832.836937347824 and parameters: {'units': 83, 'kernel_initializer': 'normal', 'activation': 'silu'}. Best is trial 37 with value: 2051.6157451483236.\u001b[0m\n"
     ]
    },
    {
     "name": "stdout",
     "output_type": "stream",
     "text": [
      "1543/1543 [==============================] - 2s 794us/step - loss: 12439.1562\n"
     ]
    },
    {
     "name": "stderr",
     "output_type": "stream",
     "text": [
      "\u001b[32m[I 2021-09-28 17:55:00,956]\u001b[0m Trial 40 finished with value: 11058.084726264162 and parameters: {'units': 66, 'kernel_initializer': 'normal', 'activation': 'silu'}. Best is trial 37 with value: 2051.6157451483236.\u001b[0m\n"
     ]
    },
    {
     "name": "stdout",
     "output_type": "stream",
     "text": [
      "1543/1543 [==============================] - 2s 809us/step - loss: 17988.2188\n"
     ]
    },
    {
     "name": "stderr",
     "output_type": "stream",
     "text": [
      "\u001b[32m[I 2021-09-28 17:55:03,018]\u001b[0m Trial 41 finished with value: 5299.957124428625 and parameters: {'units': 45, 'kernel_initializer': 'normal', 'activation': 'silu'}. Best is trial 37 with value: 2051.6157451483236.\u001b[0m\n"
     ]
    },
    {
     "name": "stdout",
     "output_type": "stream",
     "text": [
      "1543/1543 [==============================] - 2s 770us/step - loss: 13752.2598\n"
     ]
    },
    {
     "name": "stderr",
     "output_type": "stream",
     "text": [
      "\u001b[32m[I 2021-09-28 17:55:05,066]\u001b[0m Trial 42 finished with value: 22548.955066453003 and parameters: {'units': 45, 'kernel_initializer': 'normal', 'activation': 'silu'}. Best is trial 37 with value: 2051.6157451483236.\u001b[0m\n"
     ]
    },
    {
     "name": "stdout",
     "output_type": "stream",
     "text": [
      "1543/1543 [==============================] - 2s 796us/step - loss: 13857.8740\n"
     ]
    },
    {
     "name": "stderr",
     "output_type": "stream",
     "text": [
      "\u001b[32m[I 2021-09-28 17:55:07,110]\u001b[0m Trial 43 finished with value: 16829.103555201757 and parameters: {'units': 59, 'kernel_initializer': 'normal', 'activation': 'silu'}. Best is trial 37 with value: 2051.6157451483236.\u001b[0m\n"
     ]
    },
    {
     "name": "stdout",
     "output_type": "stream",
     "text": [
      "1543/1543 [==============================] - 2s 787us/step - loss: 18598.0566\n"
     ]
    },
    {
     "name": "stderr",
     "output_type": "stream",
     "text": [
      "\u001b[32m[I 2021-09-28 17:55:09,142]\u001b[0m Trial 44 finished with value: 26058.72848482055 and parameters: {'units': 77, 'kernel_initializer': 'normal', 'activation': 'silu'}. Best is trial 37 with value: 2051.6157451483236.\u001b[0m\n"
     ]
    },
    {
     "name": "stdout",
     "output_type": "stream",
     "text": [
      "1543/1543 [==============================] - 2s 754us/step - loss: 21076.9492\n"
     ]
    },
    {
     "name": "stderr",
     "output_type": "stream",
     "text": [
      "\u001b[32m[I 2021-09-28 17:55:11,109]\u001b[0m Trial 45 finished with value: 4744.706757013969 and parameters: {'units': 45, 'kernel_initializer': 'normal', 'activation': 'silu'}. Best is trial 37 with value: 2051.6157451483236.\u001b[0m\n"
     ]
    },
    {
     "name": "stdout",
     "output_type": "stream",
     "text": [
      "1543/1543 [==============================] - 2s 783us/step - loss: 22372.1855\n"
     ]
    },
    {
     "name": "stderr",
     "output_type": "stream",
     "text": [
      "\u001b[32m[I 2021-09-28 17:55:13,124]\u001b[0m Trial 46 finished with value: 3023.8700002230544 and parameters: {'units': 70, 'kernel_initializer': 'normal', 'activation': 'silu'}. Best is trial 37 with value: 2051.6157451483236.\u001b[0m\n"
     ]
    },
    {
     "name": "stdout",
     "output_type": "stream",
     "text": [
      "1543/1543 [==============================] - 2s 766us/step - loss: 9951.4502\n"
     ]
    },
    {
     "name": "stderr",
     "output_type": "stream",
     "text": [
      "\u001b[32m[I 2021-09-28 17:55:15,105]\u001b[0m Trial 47 finished with value: 1082.722668145338 and parameters: {'units': 37, 'kernel_initializer': 'normal', 'activation': 'silu'}. Best is trial 47 with value: 1082.722668145338.\u001b[0m\n"
     ]
    },
    {
     "name": "stdout",
     "output_type": "stream",
     "text": [
      "1543/1543 [==============================] - 2s 741us/step - loss: 10979.1729\n"
     ]
    },
    {
     "name": "stderr",
     "output_type": "stream",
     "text": [
      "\u001b[32m[I 2021-09-28 17:55:17,054]\u001b[0m Trial 48 finished with value: 2771.9410263718573 and parameters: {'units': 36, 'kernel_initializer': 'normal', 'activation': 'silu'}. Best is trial 47 with value: 1082.722668145338.\u001b[0m\n"
     ]
    },
    {
     "name": "stdout",
     "output_type": "stream",
     "text": [
      "1543/1543 [==============================] - 2s 752us/step - loss: 12094.3516\n"
     ]
    },
    {
     "name": "stderr",
     "output_type": "stream",
     "text": [
      "\u001b[32m[I 2021-09-28 17:55:19,426]\u001b[0m Trial 49 finished with value: 19559.083900413898 and parameters: {'units': 38, 'kernel_initializer': 'normal', 'activation': 'silu'}. Best is trial 47 with value: 1082.722668145338.\u001b[0m\n"
     ]
    },
    {
     "name": "stdout",
     "output_type": "stream",
     "text": [
      "1543/1543 [==============================] - 2s 779us/step - loss: 16654.5391\n"
     ]
    },
    {
     "name": "stderr",
     "output_type": "stream",
     "text": [
      "\u001b[32m[I 2021-09-28 17:55:21,439]\u001b[0m Trial 50 finished with value: 3539.899575330315 and parameters: {'units': 57, 'kernel_initializer': 'normal', 'activation': 'silu'}. Best is trial 47 with value: 1082.722668145338.\u001b[0m\n"
     ]
    },
    {
     "name": "stdout",
     "output_type": "stream",
     "text": [
      "1543/1543 [==============================] - 2s 744us/step - loss: 11831.1426\n"
     ]
    },
    {
     "name": "stderr",
     "output_type": "stream",
     "text": [
      "\u001b[32m[I 2021-09-28 17:55:23,383]\u001b[0m Trial 51 finished with value: 16250.40572353195 and parameters: {'units': 32, 'kernel_initializer': 'normal', 'activation': 'silu'}. Best is trial 47 with value: 1082.722668145338.\u001b[0m\n"
     ]
    },
    {
     "name": "stdout",
     "output_type": "stream",
     "text": [
      "1543/1543 [==============================] - 2s 764us/step - loss: 15174.0020\n"
     ]
    },
    {
     "name": "stderr",
     "output_type": "stream",
     "text": [
      "\u001b[32m[I 2021-09-28 17:55:25,354]\u001b[0m Trial 52 finished with value: 20497.44996769659 and parameters: {'units': 57, 'kernel_initializer': 'normal', 'activation': 'silu'}. Best is trial 47 with value: 1082.722668145338.\u001b[0m\n"
     ]
    },
    {
     "name": "stdout",
     "output_type": "stream",
     "text": [
      "1543/1543 [==============================] - 2s 790us/step - loss: 20755.6426\n"
     ]
    },
    {
     "name": "stderr",
     "output_type": "stream",
     "text": [
      "\u001b[32m[I 2021-09-28 17:55:27,375]\u001b[0m Trial 53 finished with value: 15371.60851471764 and parameters: {'units': 72, 'kernel_initializer': 'normal', 'activation': 'silu'}. Best is trial 47 with value: 1082.722668145338.\u001b[0m\n"
     ]
    },
    {
     "name": "stdout",
     "output_type": "stream",
     "text": [
      "1543/1543 [==============================] - 2s 774us/step - loss: 17296.2754\n"
     ]
    },
    {
     "name": "stderr",
     "output_type": "stream",
     "text": [
      "\u001b[32m[I 2021-09-28 17:55:29,379]\u001b[0m Trial 54 finished with value: 5020.3144121020405 and parameters: {'units': 52, 'kernel_initializer': 'normal', 'activation': 'silu'}. Best is trial 47 with value: 1082.722668145338.\u001b[0m\n"
     ]
    },
    {
     "name": "stdout",
     "output_type": "stream",
     "text": [
      "1543/1543 [==============================] - 2s 747us/step - loss: 15011.9199\n"
     ]
    },
    {
     "name": "stderr",
     "output_type": "stream",
     "text": [
      "\u001b[32m[I 2021-09-28 17:55:31,300]\u001b[0m Trial 55 finished with value: 22809.7591546609 and parameters: {'units': 65, 'kernel_initializer': 'normal', 'activation': 'relu'}. Best is trial 47 with value: 1082.722668145338.\u001b[0m\n"
     ]
    },
    {
     "name": "stdout",
     "output_type": "stream",
     "text": [
      "1543/1543 [==============================] - 2s 752us/step - loss: 9571.4609\n"
     ]
    },
    {
     "name": "stderr",
     "output_type": "stream",
     "text": [
      "\u001b[32m[I 2021-09-28 17:55:33,262]\u001b[0m Trial 56 finished with value: 13319.44896950012 and parameters: {'units': 40, 'kernel_initializer': 'normal', 'activation': 'silu'}. Best is trial 47 with value: 1082.722668145338.\u001b[0m\n"
     ]
    },
    {
     "name": "stdout",
     "output_type": "stream",
     "text": [
      "1543/1543 [==============================] - 2s 771us/step - loss: 15888.2334\n"
     ]
    },
    {
     "name": "stderr",
     "output_type": "stream",
     "text": [
      "\u001b[32m[I 2021-09-28 17:55:35,253]\u001b[0m Trial 57 finished with value: 7522.018213229435 and parameters: {'units': 51, 'kernel_initializer': 'normal', 'activation': 'silu'}. Best is trial 47 with value: 1082.722668145338.\u001b[0m\n"
     ]
    },
    {
     "name": "stdout",
     "output_type": "stream",
     "text": [
      "1543/1543 [==============================] - 2s 791us/step - loss: 21934.4785\n"
     ]
    },
    {
     "name": "stderr",
     "output_type": "stream",
     "text": [
      "\u001b[32m[I 2021-09-28 17:55:37,288]\u001b[0m Trial 58 finished with value: 5665.0814336141175 and parameters: {'units': 63, 'kernel_initializer': 'normal', 'activation': 'silu'}. Best is trial 47 with value: 1082.722668145338.\u001b[0m\n"
     ]
    },
    {
     "name": "stdout",
     "output_type": "stream",
     "text": [
      "1543/1543 [==============================] - 2s 790us/step - loss: 42130.3867\n"
     ]
    },
    {
     "name": "stderr",
     "output_type": "stream",
     "text": [
      "\u001b[32m[I 2021-09-28 17:55:39,323]\u001b[0m Trial 59 finished with value: 61021.58478819799 and parameters: {'units': 83, 'kernel_initializer': 'glorot_uniform', 'activation': 'silu'}. Best is trial 47 with value: 1082.722668145338.\u001b[0m\n"
     ]
    },
    {
     "name": "stdout",
     "output_type": "stream",
     "text": [
      "1543/1543 [==============================] - 2s 739us/step - loss: 10692.3438\n"
     ]
    },
    {
     "name": "stderr",
     "output_type": "stream",
     "text": [
      "\u001b[32m[I 2021-09-28 17:55:41,238]\u001b[0m Trial 60 finished with value: 4092.831026987899 and parameters: {'units': 32, 'kernel_initializer': 'normal', 'activation': 'relu'}. Best is trial 47 with value: 1082.722668145338.\u001b[0m\n"
     ]
    },
    {
     "name": "stdout",
     "output_type": "stream",
     "text": [
      "1543/1543 [==============================] - 2s 737us/step - loss: 11669.2080\n"
     ]
    },
    {
     "name": "stderr",
     "output_type": "stream",
     "text": [
      "\u001b[32m[I 2021-09-28 17:55:43,138]\u001b[0m Trial 61 finished with value: 14209.514560250278 and parameters: {'units': 32, 'kernel_initializer': 'normal', 'activation': 'relu'}. Best is trial 47 with value: 1082.722668145338.\u001b[0m\n"
     ]
    },
    {
     "name": "stdout",
     "output_type": "stream",
     "text": [
      "1543/1543 [==============================] - 2s 737us/step - loss: 21738.0938\n"
     ]
    },
    {
     "name": "stderr",
     "output_type": "stream",
     "text": [
      "\u001b[32m[I 2021-09-28 17:55:45,041]\u001b[0m Trial 62 finished with value: 5957.685105244416 and parameters: {'units': 73, 'kernel_initializer': 'normal', 'activation': 'relu'}. Best is trial 47 with value: 1082.722668145338.\u001b[0m\n"
     ]
    },
    {
     "name": "stdout",
     "output_type": "stream",
     "text": [
      "1543/1543 [==============================] - 2s 746us/step - loss: 15823.5723\n"
     ]
    },
    {
     "name": "stderr",
     "output_type": "stream",
     "text": [
      "\u001b[32m[I 2021-09-28 17:55:46,964]\u001b[0m Trial 63 finished with value: 1044.2942941830224 and parameters: {'units': 53, 'kernel_initializer': 'normal', 'activation': 'relu'}. Best is trial 63 with value: 1044.2942941830224.\u001b[0m\n"
     ]
    },
    {
     "name": "stdout",
     "output_type": "stream",
     "text": [
      "1543/1543 [==============================] - 2s 750us/step - loss: 13048.6240\n"
     ]
    },
    {
     "name": "stderr",
     "output_type": "stream",
     "text": [
      "\u001b[32m[I 2021-09-28 17:55:48,886]\u001b[0m Trial 64 finished with value: 1568.733906626859 and parameters: {'units': 56, 'kernel_initializer': 'normal', 'activation': 'relu'}. Best is trial 63 with value: 1044.2942941830224.\u001b[0m\n"
     ]
    },
    {
     "name": "stdout",
     "output_type": "stream",
     "text": [
      "1543/1543 [==============================] - 2s 743us/step - loss: 20172.3828\n"
     ]
    },
    {
     "name": "stderr",
     "output_type": "stream",
     "text": [
      "\u001b[32m[I 2021-09-28 17:55:50,803]\u001b[0m Trial 65 finished with value: 32413.610445812927 and parameters: {'units': 51, 'kernel_initializer': 'normal', 'activation': 'relu'}. Best is trial 63 with value: 1044.2942941830224.\u001b[0m\n"
     ]
    },
    {
     "name": "stdout",
     "output_type": "stream",
     "text": [
      "1543/1543 [==============================] - 2s 763us/step - loss: 17346.3145\n"
     ]
    },
    {
     "name": "stderr",
     "output_type": "stream",
     "text": [
      "\u001b[32m[I 2021-09-28 17:55:52,752]\u001b[0m Trial 66 finished with value: 25610.937852538875 and parameters: {'units': 90, 'kernel_initializer': 'normal', 'activation': 'relu'}. Best is trial 63 with value: 1044.2942941830224.\u001b[0m\n"
     ]
    },
    {
     "name": "stdout",
     "output_type": "stream",
     "text": [
      "1543/1543 [==============================] - 1s 727us/step - loss: 18835.5723\n"
     ]
    },
    {
     "name": "stderr",
     "output_type": "stream",
     "text": [
      "\u001b[32m[I 2021-09-28 17:55:54,639]\u001b[0m Trial 67 finished with value: 3410.3496567841744 and parameters: {'units': 41, 'kernel_initializer': 'glorot_uniform', 'activation': 'relu'}. Best is trial 63 with value: 1044.2942941830224.\u001b[0m\n"
     ]
    },
    {
     "name": "stdout",
     "output_type": "stream",
     "text": [
      "1543/1543 [==============================] - 2s 741us/step - loss: 20187.2324\n"
     ]
    },
    {
     "name": "stderr",
     "output_type": "stream",
     "text": [
      "\u001b[32m[I 2021-09-28 17:55:56,567]\u001b[0m Trial 68 finished with value: 4635.826816703268 and parameters: {'units': 67, 'kernel_initializer': 'normal', 'activation': 'relu'}. Best is trial 63 with value: 1044.2942941830224.\u001b[0m\n"
     ]
    },
    {
     "name": "stdout",
     "output_type": "stream",
     "text": [
      "1543/1543 [==============================] - 2s 752us/step - loss: 18388.2930\n"
     ]
    },
    {
     "name": "stderr",
     "output_type": "stream",
     "text": [
      "\u001b[32m[I 2021-09-28 17:55:58,499]\u001b[0m Trial 69 finished with value: 15543.562669573568 and parameters: {'units': 52, 'kernel_initializer': 'normal', 'activation': 'relu'}. Best is trial 63 with value: 1044.2942941830224.\u001b[0m\n"
     ]
    },
    {
     "name": "stdout",
     "output_type": "stream",
     "text": [
      "1543/1543 [==============================] - 2s 756us/step - loss: 14280.2061\n"
     ]
    },
    {
     "name": "stderr",
     "output_type": "stream",
     "text": [
      "\u001b[32m[I 2021-09-28 17:56:00,436]\u001b[0m Trial 70 finished with value: 1888.8348079191933 and parameters: {'units': 75, 'kernel_initializer': 'normal', 'activation': 'relu'}. Best is trial 63 with value: 1044.2942941830224.\u001b[0m\n"
     ]
    },
    {
     "name": "stdout",
     "output_type": "stream",
     "text": [
      "1543/1543 [==============================] - 2s 743us/step - loss: 16550.2969\n"
     ]
    },
    {
     "name": "stderr",
     "output_type": "stream",
     "text": [
      "\u001b[32m[I 2021-09-28 17:56:02,820]\u001b[0m Trial 71 finished with value: 3448.349923564614 and parameters: {'units': 63, 'kernel_initializer': 'normal', 'activation': 'relu'}. Best is trial 63 with value: 1044.2942941830224.\u001b[0m\n"
     ]
    },
    {
     "name": "stdout",
     "output_type": "stream",
     "text": [
      "1543/1543 [==============================] - 2s 732us/step - loss: 22077.0840\n"
     ]
    },
    {
     "name": "stderr",
     "output_type": "stream",
     "text": [
      "\u001b[32m[I 2021-09-28 17:56:04,717]\u001b[0m Trial 72 finished with value: 33658.23314232321 and parameters: {'units': 78, 'kernel_initializer': 'normal', 'activation': 'relu'}. Best is trial 63 with value: 1044.2942941830224.\u001b[0m\n"
     ]
    },
    {
     "name": "stdout",
     "output_type": "stream",
     "text": [
      "1543/1543 [==============================] - 2s 749us/step - loss: 19817.3340\n"
     ]
    },
    {
     "name": "stderr",
     "output_type": "stream",
     "text": [
      "\u001b[32m[I 2021-09-28 17:56:06,636]\u001b[0m Trial 73 finished with value: 5696.682805361001 and parameters: {'units': 87, 'kernel_initializer': 'normal', 'activation': 'relu'}. Best is trial 63 with value: 1044.2942941830224.\u001b[0m\n"
     ]
    },
    {
     "name": "stdout",
     "output_type": "stream",
     "text": [
      "1543/1543 [==============================] - 2s 766us/step - loss: 24858.6445\n"
     ]
    },
    {
     "name": "stderr",
     "output_type": "stream",
     "text": [
      "\u001b[32m[I 2021-09-28 17:56:08,591]\u001b[0m Trial 74 finished with value: 39163.27128353772 and parameters: {'units': 101, 'kernel_initializer': 'normal', 'activation': 'relu'}. Best is trial 63 with value: 1044.2942941830224.\u001b[0m\n"
     ]
    },
    {
     "name": "stdout",
     "output_type": "stream",
     "text": [
      "1543/1543 [==============================] - 2s 748us/step - loss: 20006.3496\n"
     ]
    },
    {
     "name": "stderr",
     "output_type": "stream",
     "text": [
      "\u001b[32m[I 2021-09-28 17:56:10,512]\u001b[0m Trial 75 finished with value: 24233.888692781005 and parameters: {'units': 71, 'kernel_initializer': 'normal', 'activation': 'relu'}. Best is trial 63 with value: 1044.2942941830224.\u001b[0m\n"
     ]
    },
    {
     "name": "stdout",
     "output_type": "stream",
     "text": [
      "1543/1543 [==============================] - 2s 744us/step - loss: 12005.3545\n"
     ]
    },
    {
     "name": "stderr",
     "output_type": "stream",
     "text": [
      "\u001b[32m[I 2021-09-28 17:56:12,427]\u001b[0m Trial 76 finished with value: 844.9858726442183 and parameters: {'units': 42, 'kernel_initializer': 'normal', 'activation': 'relu'}. Best is trial 76 with value: 844.9858726442183.\u001b[0m\n"
     ]
    },
    {
     "name": "stdout",
     "output_type": "stream",
     "text": [
      "1543/1543 [==============================] - 2s 745us/step - loss: 14307.5479\n"
     ]
    },
    {
     "name": "stderr",
     "output_type": "stream",
     "text": [
      "\u001b[32m[I 2021-09-28 17:56:14,340]\u001b[0m Trial 77 finished with value: 1541.7290582079538 and parameters: {'units': 41, 'kernel_initializer': 'normal', 'activation': 'relu'}. Best is trial 76 with value: 844.9858726442183.\u001b[0m\n"
     ]
    },
    {
     "name": "stdout",
     "output_type": "stream",
     "text": [
      "1543/1543 [==============================] - 2s 744us/step - loss: 31815.1172\n"
     ]
    },
    {
     "name": "stderr",
     "output_type": "stream",
     "text": [
      "\u001b[32m[I 2021-09-28 17:56:16,277]\u001b[0m Trial 78 finished with value: 8483.10794473189 and parameters: {'units': 44, 'kernel_initializer': 'glorot_uniform', 'activation': 'relu'}. Best is trial 76 with value: 844.9858726442183.\u001b[0m\n"
     ]
    },
    {
     "name": "stdout",
     "output_type": "stream",
     "text": [
      "1543/1543 [==============================] - 2s 774us/step - loss: 20267.0996\n"
     ]
    },
    {
     "name": "stderr",
     "output_type": "stream",
     "text": [
      "\u001b[32m[I 2021-09-28 17:56:18,271]\u001b[0m Trial 79 finished with value: 1540.1521487327038 and parameters: {'units': 36, 'kernel_initializer': 'normal', 'activation': 'relu'}. Best is trial 76 with value: 844.9858726442183.\u001b[0m\n"
     ]
    },
    {
     "name": "stdout",
     "output_type": "stream",
     "text": [
      "1543/1543 [==============================] - 2s 753us/step - loss: 11604.5742\n"
     ]
    },
    {
     "name": "stderr",
     "output_type": "stream",
     "text": [
      "\u001b[32m[I 2021-09-28 17:56:20,212]\u001b[0m Trial 80 finished with value: 16019.953358552064 and parameters: {'units': 49, 'kernel_initializer': 'normal', 'activation': 'relu'}. Best is trial 76 with value: 844.9858726442183.\u001b[0m\n"
     ]
    },
    {
     "name": "stdout",
     "output_type": "stream",
     "text": [
      "1543/1543 [==============================] - 2s 743us/step - loss: 18130.2988\n"
     ]
    },
    {
     "name": "stderr",
     "output_type": "stream",
     "text": [
      "\u001b[32m[I 2021-09-28 17:56:22,122]\u001b[0m Trial 81 finished with value: 9527.928814822539 and parameters: {'units': 39, 'kernel_initializer': 'normal', 'activation': 'relu'}. Best is trial 76 with value: 844.9858726442183.\u001b[0m\n"
     ]
    },
    {
     "name": "stdout",
     "output_type": "stream",
     "text": [
      "1543/1543 [==============================] - 2s 738us/step - loss: 22253.5820\n"
     ]
    },
    {
     "name": "stderr",
     "output_type": "stream",
     "text": [
      "\u001b[32m[I 2021-09-28 17:56:24,035]\u001b[0m Trial 82 finished with value: 35620.44610788046 and parameters: {'units': 58, 'kernel_initializer': 'normal', 'activation': 'relu'}. Best is trial 76 with value: 844.9858726442183.\u001b[0m\n"
     ]
    },
    {
     "name": "stdout",
     "output_type": "stream",
     "text": [
      "1543/1543 [==============================] - 2s 735us/step - loss: 13405.9648\n"
     ]
    },
    {
     "name": "stderr",
     "output_type": "stream",
     "text": [
      "\u001b[32m[I 2021-09-28 17:56:25,934]\u001b[0m Trial 83 finished with value: 21660.368629915865 and parameters: {'units': 37, 'kernel_initializer': 'normal', 'activation': 'relu'}. Best is trial 76 with value: 844.9858726442183.\u001b[0m\n"
     ]
    },
    {
     "name": "stdout",
     "output_type": "stream",
     "text": [
      "1543/1543 [==============================] - 2s 738us/step - loss: 14583.1973\n"
     ]
    },
    {
     "name": "stderr",
     "output_type": "stream",
     "text": [
      "\u001b[32m[I 2021-09-28 17:56:27,850]\u001b[0m Trial 84 finished with value: 8098.180757526298 and parameters: {'units': 37, 'kernel_initializer': 'normal', 'activation': 'relu'}. Best is trial 76 with value: 844.9858726442183.\u001b[0m\n"
     ]
    },
    {
     "name": "stdout",
     "output_type": "stream",
     "text": [
      "1543/1543 [==============================] - 2s 737us/step - loss: 14404.0742\n"
     ]
    },
    {
     "name": "stderr",
     "output_type": "stream",
     "text": [
      "\u001b[32m[I 2021-09-28 17:56:29,757]\u001b[0m Trial 85 finished with value: 5172.574298725549 and parameters: {'units': 47, 'kernel_initializer': 'normal', 'activation': 'relu'}. Best is trial 76 with value: 844.9858726442183.\u001b[0m\n"
     ]
    },
    {
     "name": "stdout",
     "output_type": "stream",
     "text": [
      "1543/1543 [==============================] - 2s 753us/step - loss: 20487.5156\n"
     ]
    },
    {
     "name": "stderr",
     "output_type": "stream",
     "text": [
      "\u001b[32m[I 2021-09-28 17:56:31,691]\u001b[0m Trial 86 finished with value: 23359.957063373593 and parameters: {'units': 57, 'kernel_initializer': 'normal', 'activation': 'relu'}. Best is trial 76 with value: 844.9858726442183.\u001b[0m\n"
     ]
    },
    {
     "name": "stdout",
     "output_type": "stream",
     "text": [
      "1543/1543 [==============================] - 2s 736us/step - loss: 12311.6748\n"
     ]
    },
    {
     "name": "stderr",
     "output_type": "stream",
     "text": [
      "\u001b[32m[I 2021-09-28 17:56:33,604]\u001b[0m Trial 87 finished with value: 16033.852183286865 and parameters: {'units': 39, 'kernel_initializer': 'normal', 'activation': 'relu'}. Best is trial 76 with value: 844.9858726442183.\u001b[0m\n"
     ]
    },
    {
     "name": "stdout",
     "output_type": "stream",
     "text": [
      "1543/1543 [==============================] - 1s 728us/step - loss: 13892.3652\n"
     ]
    },
    {
     "name": "stderr",
     "output_type": "stream",
     "text": [
      "\u001b[32m[I 2021-09-28 17:56:35,502]\u001b[0m Trial 88 finished with value: 12312.979130937416 and parameters: {'units': 44, 'kernel_initializer': 'normal', 'activation': 'relu'}. Best is trial 76 with value: 844.9858726442183.\u001b[0m\n"
     ]
    },
    {
     "name": "stdout",
     "output_type": "stream",
     "text": [
      "1543/1543 [==============================] - 2s 751us/step - loss: 21866.1875\n"
     ]
    },
    {
     "name": "stderr",
     "output_type": "stream",
     "text": [
      "\u001b[32m[I 2021-09-28 17:56:37,442]\u001b[0m Trial 89 finished with value: 4568.773469425719 and parameters: {'units': 54, 'kernel_initializer': 'normal', 'activation': 'relu'}. Best is trial 76 with value: 844.9858726442183.\u001b[0m\n"
     ]
    },
    {
     "name": "stdout",
     "output_type": "stream",
     "text": [
      "1543/1543 [==============================] - 2s 745us/step - loss: 15327.4785\n"
     ]
    },
    {
     "name": "stderr",
     "output_type": "stream",
     "text": [
      "\u001b[32m[I 2021-09-28 17:56:39,367]\u001b[0m Trial 90 finished with value: 23936.22120631501 and parameters: {'units': 61, 'kernel_initializer': 'normal', 'activation': 'relu'}. Best is trial 76 with value: 844.9858726442183.\u001b[0m\n"
     ]
    },
    {
     "name": "stdout",
     "output_type": "stream",
     "text": [
      "1543/1543 [==============================] - 1s 727us/step - loss: 10934.7031\n"
     ]
    },
    {
     "name": "stderr",
     "output_type": "stream",
     "text": [
      "\u001b[32m[I 2021-09-28 17:56:41,263]\u001b[0m Trial 91 finished with value: 7921.239030455557 and parameters: {'units': 36, 'kernel_initializer': 'normal', 'activation': 'relu'}. Best is trial 76 with value: 844.9858726442183.\u001b[0m\n"
     ]
    },
    {
     "name": "stdout",
     "output_type": "stream",
     "text": [
      "1543/1543 [==============================] - 2s 770us/step - loss: 12418.1328\n"
     ]
    },
    {
     "name": "stderr",
     "output_type": "stream",
     "text": [
      "\u001b[32m[I 2021-09-28 17:56:43,687]\u001b[0m Trial 92 finished with value: 8220.341535484136 and parameters: {'units': 47, 'kernel_initializer': 'normal', 'activation': 'silu'}. Best is trial 76 with value: 844.9858726442183.\u001b[0m\n"
     ]
    },
    {
     "name": "stdout",
     "output_type": "stream",
     "text": [
      "1543/1543 [==============================] - 2s 734us/step - loss: 10737.2812\n"
     ]
    },
    {
     "name": "stderr",
     "output_type": "stream",
     "text": [
      "\u001b[32m[I 2021-09-28 17:56:45,584]\u001b[0m Trial 93 finished with value: 5019.033403170801 and parameters: {'units': 53, 'kernel_initializer': 'normal', 'activation': 'relu'}. Best is trial 76 with value: 844.9858726442183.\u001b[0m\n"
     ]
    },
    {
     "name": "stdout",
     "output_type": "stream",
     "text": [
      "1543/1543 [==============================] - 2s 764us/step - loss: 15400.4824\n"
     ]
    },
    {
     "name": "stderr",
     "output_type": "stream",
     "text": [
      "\u001b[32m[I 2021-09-28 17:56:47,556]\u001b[0m Trial 94 finished with value: 2125.3077831993783 and parameters: {'units': 43, 'kernel_initializer': 'normal', 'activation': 'silu'}. Best is trial 76 with value: 844.9858726442183.\u001b[0m\n"
     ]
    },
    {
     "name": "stdout",
     "output_type": "stream",
     "text": [
      "1543/1543 [==============================] - 2s 732us/step - loss: 15003.5859\n"
     ]
    },
    {
     "name": "stderr",
     "output_type": "stream",
     "text": [
      "\u001b[32m[I 2021-09-28 17:56:49,454]\u001b[0m Trial 95 finished with value: 17891.298006097823 and parameters: {'units': 43, 'kernel_initializer': 'normal', 'activation': 'relu'}. Best is trial 76 with value: 844.9858726442183.\u001b[0m\n"
     ]
    },
    {
     "name": "stdout",
     "output_type": "stream",
     "text": [
      "1543/1543 [==============================] - 2s 750us/step - loss: 21143.8711\n"
     ]
    },
    {
     "name": "stderr",
     "output_type": "stream",
     "text": [
      "\u001b[32m[I 2021-09-28 17:56:51,410]\u001b[0m Trial 96 finished with value: 9571.66137961033 and parameters: {'units': 35, 'kernel_initializer': 'glorot_uniform', 'activation': 'silu'}. Best is trial 76 with value: 844.9858726442183.\u001b[0m\n"
     ]
    },
    {
     "name": "stdout",
     "output_type": "stream",
     "text": [
      "1543/1543 [==============================] - 2s 980us/step - loss: 31723.8496\n"
     ]
    },
    {
     "name": "stderr",
     "output_type": "stream",
     "text": [
      "\u001b[32m[I 2021-09-28 17:56:53,769]\u001b[0m Trial 97 finished with value: 30763.805999193533 and parameters: {'units': 225, 'kernel_initializer': 'normal', 'activation': 'silu'}. Best is trial 76 with value: 844.9858726442183.\u001b[0m\n"
     ]
    },
    {
     "name": "stdout",
     "output_type": "stream",
     "text": [
      "1543/1543 [==============================] - 2s 744us/step - loss: 17194.4453\n"
     ]
    },
    {
     "name": "stderr",
     "output_type": "stream",
     "text": [
      "\u001b[32m[I 2021-09-28 17:56:55,723]\u001b[0m Trial 98 finished with value: 14620.5028092472 and parameters: {'units': 41, 'kernel_initializer': 'normal', 'activation': 'relu'}. Best is trial 76 with value: 844.9858726442183.\u001b[0m\n"
     ]
    },
    {
     "name": "stdout",
     "output_type": "stream",
     "text": [
      "1543/1543 [==============================] - 2s 799us/step - loss: 20250.0156\n"
     ]
    },
    {
     "name": "stderr",
     "output_type": "stream",
     "text": [
      "\u001b[32m[I 2021-09-28 17:56:57,790]\u001b[0m Trial 99 finished with value: 20931.296469822406 and parameters: {'units': 49, 'kernel_initializer': 'normal', 'activation': 'silu'}. Best is trial 76 with value: 844.9858726442183.\u001b[0m\n"
     ]
    },
    {
     "name": "stdout",
     "output_type": "stream",
     "text": [
      "Number of finished trials:  100\n",
      "Best trial:\n",
      "  Value: 844.9858726442183\n",
      "  Params: \n",
      "    units: 42\n",
      "    kernel_initializer: normal\n",
      "    activation: relu\n"
     ]
    }
   ],
   "source": [
    "from keras.layers import Dense\n",
    "from keras.models import Sequential\n",
    "\n",
    "def create_model(trial):\n",
    "    model = Sequential()\n",
    "    model.add(Dense\n",
    "                 (\n",
    "                    units = trial.suggest_int(\"units\", 32, 256),\n",
    "                    kernel_initializer=trial.suggest_categorical(\"kernel_initializer\", [\"glorot_uniform\", \"normal\"]),\n",
    "                    input_dim = X.shape[1], \n",
    "                    activation= trial.suggest_categorical(\"activation\", [\"relu\", \"silu\", \"leaky_relu\"])\n",
    "                 )\n",
    "             )\n",
    "    model.add(Dense(1))\n",
    "    model.compile(\n",
    "        loss=\"mean_absolute_error\"\n",
    "    )\n",
    "    return model\n",
    "\n",
    "optimizer = Optimizer('mae')\n",
    "keras_study = optimizer.optimize()\n",
    "\n",
    "print(\"Number of finished trials: \", len(keras_study.trials))\n",
    "print(\"Best trial:\")\n",
    "keras_trial = keras_study.best_trial\n",
    "\n",
    "print(\"  Value: {}\".format(keras_trial.value))\n",
    "print(\"  Params: \")\n",
    "for key, value in keras_trial.params.items():\n",
    "    print(\"    {}: {}\".format(key, value))\n"
   ]
  },
  {
   "cell_type": "code",
   "execution_count": 13,
   "id": "developing-racing",
   "metadata": {},
   "outputs": [
    {
     "name": "stdout",
     "output_type": "stream",
     "text": [
      "Epoch 1/100\n",
      "3455/3455 [==============================] - 4s 1ms/step - loss: 9.4946 - val_loss: 3.5171\n",
      "Epoch 2/100\n",
      "3455/3455 [==============================] - 4s 1ms/step - loss: 3.5175 - val_loss: 3.5171\n",
      "Epoch 3/100\n",
      "3455/3455 [==============================] - 4s 1ms/step - loss: 3.5175 - val_loss: 3.5171\n",
      "Epoch 4/100\n",
      "3455/3455 [==============================] - 4s 1ms/step - loss: 3.5175 - val_loss: 3.5171\n",
      "Epoch 5/100\n",
      "3455/3455 [==============================] - 4s 1ms/step - loss: 3.5175 - val_loss: 3.5171\n",
      "Epoch 6/100\n",
      "3455/3455 [==============================] - 3s 1ms/step - loss: 3.5175 - val_loss: 3.5171\n",
      "Epoch 7/100\n",
      "3455/3455 [==============================] - 4s 1ms/step - loss: 3.5175 - val_loss: 3.5171\n",
      "Epoch 8/100\n",
      "3455/3455 [==============================] - 4s 1ms/step - loss: 3.5175 - val_loss: 3.5171\n",
      "Epoch 9/100\n",
      "3455/3455 [==============================] - 4s 1ms/step - loss: 3.5175 - val_loss: 3.5171\n",
      "Epoch 10/100\n",
      "3455/3455 [==============================] - 4s 1ms/step - loss: 3.5175 - val_loss: 3.5171\n",
      "Epoch 11/100\n",
      "3455/3455 [==============================] - 4s 1ms/step - loss: 3.5175 - val_loss: 3.5171\n",
      "Epoch 12/100\n",
      "3455/3455 [==============================] - 4s 1ms/step - loss: 3.5175 - val_loss: 3.5171\n",
      "Epoch 13/100\n",
      "3455/3455 [==============================] - 4s 1ms/step - loss: 3.5175 - val_loss: 3.5171\n",
      "Epoch 14/100\n",
      "3455/3455 [==============================] - 4s 1ms/step - loss: 3.5175 - val_loss: 3.5171\n",
      "Epoch 15/100\n",
      "3455/3455 [==============================] - 4s 1ms/step - loss: 3.5175 - val_loss: 3.5171\n",
      "Epoch 16/100\n",
      "3455/3455 [==============================] - 3s 1ms/step - loss: 3.5175 - val_loss: 3.5171\n"
     ]
    },
    {
     "data": {
      "text/plain": [
       "<keras.callbacks.History at 0x270b0629fd0>"
      ]
     },
     "execution_count": 13,
     "metadata": {},
     "output_type": "execute_result"
    }
   ],
   "source": [
    "keras_params = keras_study.best_params\n",
    "\n",
    "model2 = Sequential()\n",
    "model2.add(Dense(**keras_params))\n",
    "model2.add(Dense(**keras_params))\n",
    "model2.add(Dense(**keras_params))\n",
    "model2.add(Dense(1, activation= keras_params['activation']))\n",
    "\n",
    "model2.compile(loss=\"mean_absolute_error\")\n",
    "earlystopping = callbacks.EarlyStopping(monitor =\"loss\", \n",
    "                                        mode =\"min\", patience = 10, \n",
    "                                        restore_best_weights = True)\n",
    "model2.fit(X_train, y_train, validation_data = (X_test, y_test), epochs=100, batch_size=10, callbacks =[earlystopping])\n"
   ]
  },
  {
   "cell_type": "code",
   "execution_count": 14,
   "id": "beautiful-console",
   "metadata": {},
   "outputs": [
    {
     "name": "stdout",
     "output_type": "stream",
     "text": [
      "{'name': 'sequential_100', 'layers': [{'class_name': 'InputLayer', 'config': {'batch_input_shape': (None, 25), 'dtype': 'float64', 'sparse': False, 'ragged': False, 'name': 'dense_200_input'}}, {'class_name': 'Dense', 'config': {'name': 'dense_200', 'trainable': True, 'dtype': 'float32', 'units': 42, 'activation': 'relu', 'use_bias': True, 'kernel_initializer': {'class_name': 'RandomNormal', 'config': {'mean': 0.0, 'stddev': 0.05, 'seed': None}}, 'bias_initializer': {'class_name': 'Zeros', 'config': {}}, 'kernel_regularizer': None, 'bias_regularizer': None, 'activity_regularizer': None, 'kernel_constraint': None, 'bias_constraint': None}}, {'class_name': 'Dense', 'config': {'name': 'dense_201', 'trainable': True, 'dtype': 'float32', 'units': 42, 'activation': 'relu', 'use_bias': True, 'kernel_initializer': {'class_name': 'RandomNormal', 'config': {'mean': 0.0, 'stddev': 0.05, 'seed': None}}, 'bias_initializer': {'class_name': 'Zeros', 'config': {}}, 'kernel_regularizer': None, 'bias_regularizer': None, 'activity_regularizer': None, 'kernel_constraint': None, 'bias_constraint': None}}, {'class_name': 'Dense', 'config': {'name': 'dense_202', 'trainable': True, 'dtype': 'float32', 'units': 42, 'activation': 'relu', 'use_bias': True, 'kernel_initializer': {'class_name': 'RandomNormal', 'config': {'mean': 0.0, 'stddev': 0.05, 'seed': None}}, 'bias_initializer': {'class_name': 'Zeros', 'config': {}}, 'kernel_regularizer': None, 'bias_regularizer': None, 'activity_regularizer': None, 'kernel_constraint': None, 'bias_constraint': None}}, {'class_name': 'Dense', 'config': {'name': 'dense_203', 'trainable': True, 'dtype': 'float32', 'units': 1, 'activation': 'relu', 'use_bias': True, 'kernel_initializer': {'class_name': 'GlorotUniform', 'config': {'seed': None}}, 'bias_initializer': {'class_name': 'Zeros', 'config': {}}, 'kernel_regularizer': None, 'bias_regularizer': None, 'activity_regularizer': None, 'kernel_constraint': None, 'bias_constraint': None}}]}\n"
     ]
    }
   ],
   "source": [
    "print(model2.get_config())"
   ]
  },
  {
   "cell_type": "markdown",
   "id": "final-stationery",
   "metadata": {},
   "source": [
    "* BEFORE PREDICTION INVERSE LOG10"
   ]
  },
  {
   "cell_type": "code",
   "execution_count": 15,
   "id": "integral-brick",
   "metadata": {},
   "outputs": [],
   "source": [
    "train_df['price'] = 10 ** train_df['price']\n",
    "test_df['price'] = 10 ** test_df['price']"
   ]
  },
  {
   "cell_type": "code",
   "execution_count": 16,
   "id": "explicit-baking",
   "metadata": {},
   "outputs": [
    {
     "data": {
      "text/plain": [
       "4         2400.0\n",
       "6         3800.0\n",
       "9         3495.0\n",
       "10        3000.0\n",
       "15        2795.0\n",
       "           ...  \n",
       "124000    2800.0\n",
       "124002    2395.0\n",
       "124004    1850.0\n",
       "124008    4195.0\n",
       "124009    4280.0\n",
       "Name: price, Length: 49352, dtype: float64"
      ]
     },
     "execution_count": 16,
     "metadata": {},
     "output_type": "execute_result"
    }
   ],
   "source": [
    "train_df['price']"
   ]
  },
  {
   "cell_type": "code",
   "execution_count": 17,
   "id": "mounted-commission",
   "metadata": {},
   "outputs": [],
   "source": [
    "y_test = 10 ** y_test"
   ]
  },
  {
   "cell_type": "code",
   "execution_count": 18,
   "id": "exotic-emergency",
   "metadata": {},
   "outputs": [
    {
     "name": "stdout",
     "output_type": "stream",
     "text": [
      "3963.275390625\n"
     ]
    }
   ],
   "source": [
    "score = model2.evaluate(X_test, y_test, verbose=0)\n",
    "print(score)"
   ]
  }
 ],
 "metadata": {
  "kernelspec": {
   "display_name": "Python 3",
   "language": "python",
   "name": "python3"
  },
  "language_info": {
   "codemirror_mode": {
    "name": "ipython",
    "version": 3
   },
   "file_extension": ".py",
   "mimetype": "text/x-python",
   "name": "python",
   "nbconvert_exporter": "python",
   "pygments_lexer": "ipython3",
   "version": "3.9.2"
  }
 },
 "nbformat": 4,
 "nbformat_minor": 5
}
