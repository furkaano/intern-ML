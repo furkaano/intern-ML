{
 "cells": [
  {
   "cell_type": "code",
   "execution_count": 1,
   "id": "aging-independence",
   "metadata": {},
   "outputs": [],
   "source": [
    "import numpy as np\n",
    "import pandas as pd\n",
    "import seaborn as sns\n",
    "import itertools\n",
    "import matplotlib.pyplot as plt\n",
    "import string\n",
    "import re\n",
    "import collections\n",
    "from sklearn import preprocessing\n",
    "\n",
    "%matplotlib inline"
   ]
  },
  {
   "cell_type": "code",
   "execution_count": 2,
   "id": "interpreted-demonstration",
   "metadata": {},
   "outputs": [],
   "source": [
    "# READ DATA \n",
    "train_df = pd.read_json('train.json.zip')\n",
    "test_df = pd.read_json('test.json.zip')"
   ]
  },
  {
   "cell_type": "markdown",
   "id": "celtic-vatican",
   "metadata": {},
   "source": [
    "## TRAIN DATA FEATURE ENGINEERING"
   ]
  },
  {
   "cell_type": "code",
   "execution_count": 3,
   "id": "tested-permission",
   "metadata": {},
   "outputs": [],
   "source": [
    "# convert TARGET to the numeric\n",
    "train_df['interest_level'] = train_df['interest_level'].apply(lambda x: 0 if x=='low' \n",
    "                                                      else 1 if x=='medium' \n",
    "                                                      else 2) \n",
    "# REMOVE UNNECESSARY WORDS FROM DESCRIPTION\n",
    "train_df['description'] = train_df['description'].apply(lambda x: x.replace(\"<br />\", \"\"))\n",
    "train_df['description'] = train_df['description'].apply(lambda x: x.replace(\"br\", \"\"))\n",
    "train_df['description'] = train_df['description'].apply(lambda x: x.replace(\"<p><a\", \"\"))\n",
    "\n",
    "#basic features\n",
    "train_df['rooms'] = train_df['bedrooms'] + train_df['bathrooms'] \n",
    "\n",
    "# count of photos #\n",
    "train_df[\"num_photos\"] = train_df[\"photos\"].apply(len)\n",
    "\n",
    "# count of \"features\" #\n",
    "train_df[\"num_features\"] = train_df[\"features\"].apply(len)\n",
    "\n",
    "# count of words present in description column #\n",
    "train_df[\"num_description_words\"] = train_df[\"description\"].apply(lambda x: len(x.split(\" \")))\n",
    "\n",
    "# description contains email\n",
    "regex = r'[\\w\\.-]+@[\\w\\.-]+'\n",
    "train_df['has_email'] = train_df['description'].apply(lambda x: 1 if re.findall(regex, x) else 0)\n",
    "\n",
    "# description contains phone\n",
    "train_df['has_phone'] = train_df['description'].apply(lambda x:re.sub('['+string.punctuation+']', '', x).split())\\\n",
    "        .apply(lambda x: [s for s in x if s.isdigit()])\\\n",
    "        .apply(lambda x: len([s for s in x if len(str(s))==10]))\\\n",
    "        .apply(lambda x: 1 if x>0 else 0)\n",
    "\n",
    "# CONVERT LOWER ALL OF WORDS\n",
    "train_df[[\"features\"]] = train_df[[\"features\"]].apply(\n",
    "    lambda _: [list(map(str.strip, map(str.lower, x))) for x in _])"
   ]
  },
  {
   "cell_type": "markdown",
   "id": "beautiful-report",
   "metadata": {},
   "source": [
    "## TEST DATA FEATURE ENGINEERING"
   ]
  },
  {
   "cell_type": "code",
   "execution_count": 4,
   "id": "coupled-employee",
   "metadata": {},
   "outputs": [],
   "source": [
    "# REMOVE UNNECESSARY WORDS FROM DESCRIPTION\n",
    "test_df['description'] = test_df['description'].apply(lambda x: x.replace(\"<br />\", \"\"))\n",
    "test_df['description'] = test_df['description'].apply(lambda x: x.replace(\"br\", \"\"))\n",
    "test_df['description'] = test_df['description'].apply(lambda x: x.replace(\"<p><a\", \"\"))\n",
    "\n",
    "#basic features\n",
    "test_df['rooms'] = test_df['bedrooms'] + test_df['bathrooms'] \n",
    "\n",
    "# count of photos #\n",
    "test_df[\"num_photos\"] = test_df[\"photos\"].apply(len)\n",
    "\n",
    "# count of \"features\" #\n",
    "test_df[\"num_features\"] = test_df[\"features\"].apply(len)\n",
    "\n",
    "# count of words present in description column #\n",
    "test_df[\"num_description_words\"] = test_df[\"description\"].apply(lambda x: len(x.split(\" \")))\n",
    "\n",
    "# description contains email\n",
    "regex = r'[\\w\\.-]+@[\\w\\.-]+'\n",
    "test_df['has_email'] = test_df['description'].apply(lambda x: 1 if re.findall(regex, x) else 0)\n",
    "\n",
    "# description contains phone\n",
    "test_df['has_phone'] = test_df['description'].apply(lambda x:re.sub('['+string.punctuation+']', '', x).split())\\\n",
    "        .apply(lambda x: [s for s in x if s.isdigit()])\\\n",
    "        .apply(lambda x: len([s for s in x if len(str(s))==10]))\\\n",
    "        .apply(lambda x: 1 if x>0 else 0)\n",
    "\n",
    "# CONVERT LOWER ALL OF WORDS\n",
    "test_df[[\"features\"]] = test_df[[\"features\"]].apply(\n",
    "    lambda _: [list(map(str.strip, map(str.lower, x))) for x in _])"
   ]
  },
  {
   "cell_type": "markdown",
   "id": "figured-format",
   "metadata": {},
   "source": [
    "## MOST FREQUENT FEATURES EXTRACTION"
   ]
  },
  {
   "cell_type": "code",
   "execution_count": 5,
   "id": "affected-serial",
   "metadata": {},
   "outputs": [],
   "source": [
    "feature_value_train = train_df['features'].tolist()\n",
    "feature_value_test = test_df['features'].tolist()\n",
    "\n",
    "feature_value_train\n",
    "feature_value_test\n",
    "\n",
    "feature_lst_train = []\n",
    "feature_lst_test = []\n",
    "\n",
    "for i in range(len(feature_value_train)):\n",
    "    feature_lst_train += feature_value_train[i]\n",
    "    \n",
    "for i in range(len(feature_value_test)):\n",
    "    feature_lst_test += feature_value_test[i]\n",
    "\n",
    "uniq_feature_train = list(set(feature_lst_train))\n",
    "uniq_feature_test = list(set(feature_lst_test))\n",
    "\n",
    "\n",
    "# see the frequency of each feature\n",
    "def most_common(lst):\n",
    "    features = collections.Counter(lst)\n",
    "    feature_value = features.keys()\n",
    "    frequency = features.values()\n",
    "    data = [('feature_value', feature_value),\n",
    "            ('frequency', frequency),]    \n",
    "    df = pd.DataFrame.from_dict(dict(data))\n",
    "    return df.sort_values(by = 'frequency', ascending = False)\n",
    "\n",
    "df_features_train = most_common(feature_lst_train)\n",
    "df_features_test = most_common(feature_lst_test)\n",
    "\n",
    "\n",
    "def newColumn(name, df, series):\n",
    "    feature = pd.Series(0,df.index,name = name)# data : 0\n",
    "    for row,word in enumerate(series):\n",
    "        if name in word:\n",
    "            feature.iloc[row] = 1\n",
    "    df[name] = feature # feature : series ; value in series : 1 or 0\n",
    "    return df\n",
    "\n",
    "# select features based on frequency\n",
    "facilities = ['elevator', 'cats allowed', 'hardwood floors', 'dogs allowed', 'doorman', 'dishwasher', 'no fee', 'laundry in building', 'fitness center']\n",
    "for name in facilities:\n",
    "    train_df = newColumn(name, train_df, train_df['features'])\n",
    "    test_df = newColumn(name, test_df, test_df['features'])"
   ]
  },
  {
   "cell_type": "markdown",
   "id": "animal-payment",
   "metadata": {},
   "source": [
    "## LABEL ENCODING"
   ]
  },
  {
   "cell_type": "code",
   "execution_count": 6,
   "id": "dimensional-reader",
   "metadata": {},
   "outputs": [],
   "source": [
    "categorical = [\"display_address\", \"manager_id\", \"building_id\", \"street_address\"]\n",
    "for f in categorical:\n",
    "        if train_df[f].dtype=='object':\n",
    "            #print(f)\n",
    "            lbl = preprocessing.LabelEncoder()\n",
    "            lbl.fit(list(train_df[f].values) + list(test_df[f].values))\n",
    "            train_df[f] = lbl.transform(list(train_df[f].values))\n",
    "            test_df[f] = lbl.transform(list(test_df[f].values))"
   ]
  },
  {
   "cell_type": "code",
   "execution_count": 7,
   "id": "deluxe-saskatchewan",
   "metadata": {},
   "outputs": [],
   "source": [
    "train_df['price'] = np.log10(train_df['price'])\n",
    "test_df['price'] = np.log10(test_df['price'])"
   ]
  },
  {
   "cell_type": "code",
   "execution_count": 8,
   "id": "european-editor",
   "metadata": {},
   "outputs": [
    {
     "data": {
      "text/plain": [
       "4         3.380211\n",
       "6         3.579784\n",
       "9         3.543447\n",
       "10        3.477121\n",
       "15        3.446382\n",
       "            ...   \n",
       "124000    3.447158\n",
       "124002    3.379306\n",
       "124004    3.267172\n",
       "124008    3.622732\n",
       "124009    3.631444\n",
       "Name: price, Length: 49352, dtype: float64"
      ]
     },
     "execution_count": 8,
     "metadata": {},
     "output_type": "execute_result"
    }
   ],
   "source": [
    "train_df['price']"
   ]
  },
  {
   "cell_type": "markdown",
   "id": "fixed-nomination",
   "metadata": {},
   "source": [
    "## DROP UNNECESSARY COLUMNS"
   ]
  },
  {
   "cell_type": "code",
   "execution_count": 9,
   "id": "interim-remainder",
   "metadata": {},
   "outputs": [],
   "source": [
    "# TRAINING DATASET\n",
    "train_df.drop('created', axis=1, inplace=True)\n",
    "train_df.drop('description', axis=1, inplace=True)\n",
    "train_df.drop('features', axis=1, inplace=True)\n",
    "train_df.drop('photos', axis=1, inplace=True)\n",
    "\n",
    "\n",
    "# TEST DATASET\n",
    "test_df.drop('created', axis=1, inplace=True)\n",
    "test_df.drop('description', axis=1, inplace=True)\n",
    "test_df.drop('features', axis=1, inplace=True)\n",
    "test_df.drop('photos', axis=1, inplace=True)"
   ]
  },
  {
   "cell_type": "markdown",
   "id": "abroad-bloom",
   "metadata": {},
   "source": [
    "# REGRESSION FOR PRICE"
   ]
  },
  {
   "cell_type": "code",
   "execution_count": 10,
   "id": "reserved-african",
   "metadata": {},
   "outputs": [],
   "source": [
    "from sklearn.model_selection import train_test_split\n",
    "from sklearn.metrics import make_scorer, mean_absolute_error, mean_squared_error\n",
    "from sklearn.preprocessing import StandardScaler\n",
    "from sklearn.pipeline import Pipeline\n",
    "import xgboost as xgb\n",
    "from sklearn.linear_model import LinearRegression\n",
    "from sklearn.ensemble import RandomForestRegressor\n",
    "from sklearn.svm import SVR\n",
    "import optuna\n",
    "import math\n",
    "from keras import callbacks\n",
    "\n",
    "X = train_df.drop(['price'], axis = 1)\n",
    "y = train_df.price\n",
    "X_train, X_test, y_train, y_test = train_test_split(X, y, \n",
    "                                                    test_size = .3,\n",
    "                                                    random_state = 5)"
   ]
  },
  {
   "cell_type": "code",
   "execution_count": 42,
   "id": "front-reader",
   "metadata": {},
   "outputs": [],
   "source": [
    "class Optimizer:\n",
    "    def __init__(self, metric, trials=100):\n",
    "        self.metric = metric\n",
    "        self.trials = trials\n",
    "        \n",
    "    def objective(self, trial):\n",
    "        model = create_model(trial)\n",
    "        model.fit(X, y)\n",
    "        preds = model.predict(X_test)\n",
    "        return mean_absolute_error(y_test, preds)\n",
    "            \n",
    "    def optimize(self):\n",
    "        study = optuna.create_study(direction=\"minimize\")\n",
    "        study.optimize(self.objective, n_trials=self.trials)\n",
    "        return study"
   ]
  },
  {
   "cell_type": "code",
   "execution_count": 44,
   "id": "sharing-marriage",
   "metadata": {},
   "outputs": [
    {
     "name": "stderr",
     "output_type": "stream",
     "text": [
      "\u001b[32m[I 2021-09-26 23:01:54,119]\u001b[0m A new study created in memory with name: no-name-d757bb40-b1de-49ef-a61d-711f48f79137\u001b[0m\n"
     ]
    },
    {
     "name": "stdout",
     "output_type": "stream",
     "text": [
      "1543/1543 [==============================] - 2s 865us/step - loss: 70054.0312\n"
     ]
    },
    {
     "name": "stderr",
     "output_type": "stream",
     "text": [
      "\u001b[32m[I 2021-09-26 23:01:56,242]\u001b[0m Trial 0 finished with value: 109892.2112862182 and parameters: {'units': 244, 'kernel_initializer': 'glorot_uniform', 'activation': 'leaky_relu'}. Best is trial 0 with value: 109892.2112862182.\u001b[0m\n"
     ]
    },
    {
     "name": "stdout",
     "output_type": "stream",
     "text": [
      "1543/1543 [==============================] - 2s 784us/step - loss: 34164.1875\n"
     ]
    },
    {
     "name": "stderr",
     "output_type": "stream",
     "text": [
      "\u001b[32m[I 2021-09-26 23:01:58,223]\u001b[0m Trial 1 finished with value: 47298.854153235814 and parameters: {'units': 60, 'kernel_initializer': 'glorot_uniform', 'activation': 'relu'}. Best is trial 1 with value: 47298.854153235814.\u001b[0m\n"
     ]
    },
    {
     "name": "stdout",
     "output_type": "stream",
     "text": [
      "1543/1543 [==============================] - 2s 989us/step - loss: 37408.0977\n"
     ]
    },
    {
     "name": "stderr",
     "output_type": "stream",
     "text": [
      "\u001b[32m[I 2021-09-26 23:02:00,553]\u001b[0m Trial 2 finished with value: 28083.607334083517 and parameters: {'units': 205, 'kernel_initializer': 'normal', 'activation': 'relu'}. Best is trial 2 with value: 28083.607334083517.\u001b[0m\n"
     ]
    },
    {
     "name": "stdout",
     "output_type": "stream",
     "text": [
      "1543/1543 [==============================] - 2s 778us/step - loss: 46099.2930\n"
     ]
    },
    {
     "name": "stderr",
     "output_type": "stream",
     "text": [
      "\u001b[32m[I 2021-09-26 23:02:02,527]\u001b[0m Trial 3 finished with value: 27677.069129818778 and parameters: {'units': 113, 'kernel_initializer': 'glorot_uniform', 'activation': 'relu'}. Best is trial 3 with value: 27677.069129818778.\u001b[0m\n"
     ]
    },
    {
     "name": "stdout",
     "output_type": "stream",
     "text": [
      "1543/1543 [==============================] - 2s 857us/step - loss: 33184.0273\n"
     ]
    },
    {
     "name": "stderr",
     "output_type": "stream",
     "text": [
      "\u001b[32m[I 2021-09-26 23:02:04,632]\u001b[0m Trial 4 finished with value: 10620.214864392181 and parameters: {'units': 235, 'kernel_initializer': 'normal', 'activation': 'relu'}. Best is trial 4 with value: 10620.214864392181.\u001b[0m\n"
     ]
    },
    {
     "name": "stdout",
     "output_type": "stream",
     "text": [
      "1543/1543 [==============================] - 2s 760us/step - loss: 20507.4336\n"
     ]
    },
    {
     "name": "stderr",
     "output_type": "stream",
     "text": [
      "\u001b[32m[I 2021-09-26 23:02:06,568]\u001b[0m Trial 5 finished with value: 26777.459983294564 and parameters: {'units': 79, 'kernel_initializer': 'normal', 'activation': 'relu'}. Best is trial 4 with value: 10620.214864392181.\u001b[0m\n"
     ]
    },
    {
     "name": "stdout",
     "output_type": "stream",
     "text": [
      "1543/1543 [==============================] - 2s 823us/step - loss: 43260.8320\n"
     ]
    },
    {
     "name": "stderr",
     "output_type": "stream",
     "text": [
      "\u001b[32m[I 2021-09-26 23:02:08,618]\u001b[0m Trial 6 finished with value: 66183.90256279147 and parameters: {'units': 165, 'kernel_initializer': 'glorot_uniform', 'activation': 'relu'}. Best is trial 4 with value: 10620.214864392181.\u001b[0m\n"
     ]
    },
    {
     "name": "stdout",
     "output_type": "stream",
     "text": [
      "1543/1543 [==============================] - 2s 871us/step - loss: 15536.3916\n"
     ]
    },
    {
     "name": "stderr",
     "output_type": "stream",
     "text": [
      "\u001b[32m[I 2021-09-26 23:02:10,801]\u001b[0m Trial 7 finished with value: 23048.96007853678 and parameters: {'units': 36, 'kernel_initializer': 'glorot_uniform', 'activation': 'silu'}. Best is trial 4 with value: 10620.214864392181.\u001b[0m\n"
     ]
    },
    {
     "name": "stdout",
     "output_type": "stream",
     "text": [
      "1543/1543 [==============================] - 2s 907us/step - loss: 36609.9258\n"
     ]
    },
    {
     "name": "stderr",
     "output_type": "stream",
     "text": [
      "\u001b[32m[I 2021-09-26 23:02:13,007]\u001b[0m Trial 8 finished with value: 50274.90584323944 and parameters: {'units': 222, 'kernel_initializer': 'normal', 'activation': 'relu'}. Best is trial 4 with value: 10620.214864392181.\u001b[0m\n"
     ]
    },
    {
     "name": "stdout",
     "output_type": "stream",
     "text": [
      "1543/1543 [==============================] - 2s 802us/step - loss: 29068.4199\n"
     ]
    },
    {
     "name": "stderr",
     "output_type": "stream",
     "text": [
      "\u001b[32m[I 2021-09-26 23:02:15,019]\u001b[0m Trial 9 finished with value: 1620.1521040673035 and parameters: {'units': 126, 'kernel_initializer': 'normal', 'activation': 'leaky_relu'}. Best is trial 9 with value: 1620.1521040673035.\u001b[0m\n"
     ]
    },
    {
     "name": "stdout",
     "output_type": "stream",
     "text": [
      "1543/1543 [==============================] - 2s 783us/step - loss: 36060.2188\n"
     ]
    },
    {
     "name": "stderr",
     "output_type": "stream",
     "text": [
      "\u001b[32m[I 2021-09-26 23:02:17,009]\u001b[0m Trial 10 finished with value: 3196.915696922174 and parameters: {'units': 149, 'kernel_initializer': 'normal', 'activation': 'leaky_relu'}. Best is trial 9 with value: 1620.1521040673035.\u001b[0m\n"
     ]
    },
    {
     "name": "stdout",
     "output_type": "stream",
     "text": [
      "1543/1543 [==============================] - 2s 781us/step - loss: 35249.7266\n"
     ]
    },
    {
     "name": "stderr",
     "output_type": "stream",
     "text": [
      "\u001b[32m[I 2021-09-26 23:02:18,989]\u001b[0m Trial 11 finished with value: 53483.02607268611 and parameters: {'units': 148, 'kernel_initializer': 'normal', 'activation': 'leaky_relu'}. Best is trial 9 with value: 1620.1521040673035.\u001b[0m\n"
     ]
    },
    {
     "name": "stdout",
     "output_type": "stream",
     "text": [
      "1543/1543 [==============================] - 2s 753us/step - loss: 32734.8066\n"
     ]
    },
    {
     "name": "stderr",
     "output_type": "stream",
     "text": [
      "\u001b[32m[I 2021-09-26 23:02:20,924]\u001b[0m Trial 12 finished with value: 42822.90947220531 and parameters: {'units': 123, 'kernel_initializer': 'normal', 'activation': 'leaky_relu'}. Best is trial 9 with value: 1620.1521040673035.\u001b[0m\n"
     ]
    },
    {
     "name": "stdout",
     "output_type": "stream",
     "text": [
      "1543/1543 [==============================] - 2s 861us/step - loss: 38408.9062\n"
     ]
    },
    {
     "name": "stderr",
     "output_type": "stream",
     "text": [
      "\u001b[32m[I 2021-09-26 23:02:23,039]\u001b[0m Trial 13 finished with value: 48771.33100185334 and parameters: {'units': 181, 'kernel_initializer': 'normal', 'activation': 'leaky_relu'}. Best is trial 9 with value: 1620.1521040673035.\u001b[0m\n"
     ]
    },
    {
     "name": "stdout",
     "output_type": "stream",
     "text": [
      "1543/1543 [==============================] - 2s 811us/step - loss: 26455.7852\n"
     ]
    },
    {
     "name": "stderr",
     "output_type": "stream",
     "text": [
      "\u001b[32m[I 2021-09-26 23:02:25,092]\u001b[0m Trial 14 finished with value: 10665.989237825037 and parameters: {'units': 108, 'kernel_initializer': 'normal', 'activation': 'leaky_relu'}. Best is trial 9 with value: 1620.1521040673035.\u001b[0m\n"
     ]
    },
    {
     "name": "stdout",
     "output_type": "stream",
     "text": [
      "1543/1543 [==============================] - 2s 984us/step - loss: 26647.9102\n"
     ]
    },
    {
     "name": "stderr",
     "output_type": "stream",
     "text": [
      "\u001b[32m[I 2021-09-26 23:02:27,461]\u001b[0m Trial 15 finished with value: 39527.51456091471 and parameters: {'units': 182, 'kernel_initializer': 'normal', 'activation': 'silu'}. Best is trial 9 with value: 1620.1521040673035.\u001b[0m\n"
     ]
    },
    {
     "name": "stdout",
     "output_type": "stream",
     "text": [
      "1543/1543 [==============================] - 2s 933us/step - loss: 37438.6953\n"
     ]
    },
    {
     "name": "stderr",
     "output_type": "stream",
     "text": [
      "\u001b[32m[I 2021-09-26 23:02:29,904]\u001b[0m Trial 16 finished with value: 37477.52734104818 and parameters: {'units': 136, 'kernel_initializer': 'normal', 'activation': 'leaky_relu'}. Best is trial 9 with value: 1620.1521040673035.\u001b[0m\n"
     ]
    },
    {
     "name": "stdout",
     "output_type": "stream",
     "text": [
      "1543/1543 [==============================] - 2s 905us/step - loss: 26560.4668\n"
     ]
    },
    {
     "name": "stderr",
     "output_type": "stream",
     "text": [
      "\u001b[32m[I 2021-09-26 23:02:32,205]\u001b[0m Trial 17 finished with value: 8717.301833797637 and parameters: {'units': 93, 'kernel_initializer': 'normal', 'activation': 'leaky_relu'}. Best is trial 9 with value: 1620.1521040673035.\u001b[0m\n"
     ]
    },
    {
     "name": "stdout",
     "output_type": "stream",
     "text": [
      "1543/1543 [==============================] - 2s 1ms/step - loss: 28224.5430\n"
     ]
    },
    {
     "name": "stderr",
     "output_type": "stream",
     "text": [
      "\u001b[32m[I 2021-09-26 23:02:34,937]\u001b[0m Trial 18 finished with value: 14572.354040707947 and parameters: {'units': 148, 'kernel_initializer': 'normal', 'activation': 'silu'}. Best is trial 9 with value: 1620.1521040673035.\u001b[0m\n"
     ]
    },
    {
     "name": "stdout",
     "output_type": "stream",
     "text": [
      "1543/1543 [==============================] - 2s 1ms/step - loss: 39867.6016\n"
     ]
    },
    {
     "name": "stderr",
     "output_type": "stream",
     "text": [
      "\u001b[32m[I 2021-09-26 23:02:37,438]\u001b[0m Trial 19 finished with value: 10990.262234598938 and parameters: {'units': 194, 'kernel_initializer': 'normal', 'activation': 'leaky_relu'}. Best is trial 9 with value: 1620.1521040673035.\u001b[0m\n"
     ]
    },
    {
     "name": "stdout",
     "output_type": "stream",
     "text": [
      "1543/1543 [==============================] - 2s 923us/step - loss: 24026.8066\n"
     ]
    },
    {
     "name": "stderr",
     "output_type": "stream",
     "text": [
      "\u001b[32m[I 2021-09-26 23:02:40,153]\u001b[0m Trial 20 finished with value: 37174.136983170036 and parameters: {'units': 78, 'kernel_initializer': 'normal', 'activation': 'leaky_relu'}. Best is trial 9 with value: 1620.1521040673035.\u001b[0m\n"
     ]
    },
    {
     "name": "stdout",
     "output_type": "stream",
     "text": [
      "1543/1543 [==============================] - 2s 783us/step - loss: 27744.0625\n"
     ]
    },
    {
     "name": "stderr",
     "output_type": "stream",
     "text": [
      "\u001b[32m[I 2021-09-26 23:02:42,132]\u001b[0m Trial 21 finished with value: 34194.260730114904 and parameters: {'units': 95, 'kernel_initializer': 'normal', 'activation': 'leaky_relu'}. Best is trial 9 with value: 1620.1521040673035.\u001b[0m\n"
     ]
    },
    {
     "name": "stdout",
     "output_type": "stream",
     "text": [
      "1543/1543 [==============================] - 2s 808us/step - loss: 35120.6602\n"
     ]
    },
    {
     "name": "stderr",
     "output_type": "stream",
     "text": [
      "\u001b[32m[I 2021-09-26 23:02:44,167]\u001b[0m Trial 22 finished with value: 40155.98934348849 and parameters: {'units': 129, 'kernel_initializer': 'normal', 'activation': 'leaky_relu'}. Best is trial 9 with value: 1620.1521040673035.\u001b[0m\n"
     ]
    },
    {
     "name": "stdout",
     "output_type": "stream",
     "text": [
      "1543/1543 [==============================] - 2s 860us/step - loss: 32898.0547\n"
     ]
    },
    {
     "name": "stderr",
     "output_type": "stream",
     "text": [
      "\u001b[32m[I 2021-09-26 23:02:46,285]\u001b[0m Trial 23 finished with value: 11618.102280441839 and parameters: {'units': 162, 'kernel_initializer': 'normal', 'activation': 'leaky_relu'}. Best is trial 9 with value: 1620.1521040673035.\u001b[0m\n"
     ]
    },
    {
     "name": "stdout",
     "output_type": "stream",
     "text": [
      "1543/1543 [==============================] - 2s 778us/step - loss: 27870.9316 0s - loss: 3\n"
     ]
    },
    {
     "name": "stderr",
     "output_type": "stream",
     "text": [
      "\u001b[32m[I 2021-09-26 23:02:48,254]\u001b[0m Trial 24 finished with value: 32052.81245217859 and parameters: {'units': 95, 'kernel_initializer': 'normal', 'activation': 'leaky_relu'}. Best is trial 9 with value: 1620.1521040673035.\u001b[0m\n"
     ]
    },
    {
     "name": "stdout",
     "output_type": "stream",
     "text": [
      "1543/1543 [==============================] - 2s 812us/step - loss: 15008.8330\n"
     ]
    },
    {
     "name": "stderr",
     "output_type": "stream",
     "text": [
      "\u001b[32m[I 2021-09-26 23:02:50,269]\u001b[0m Trial 25 finished with value: 20646.31365603451 and parameters: {'units': 45, 'kernel_initializer': 'normal', 'activation': 'leaky_relu'}. Best is trial 9 with value: 1620.1521040673035.\u001b[0m\n"
     ]
    },
    {
     "name": "stdout",
     "output_type": "stream",
     "text": [
      "1543/1543 [==============================] - 2s 902us/step - loss: 28318.2305\n"
     ]
    },
    {
     "name": "stderr",
     "output_type": "stream",
     "text": [
      "\u001b[32m[I 2021-09-26 23:02:52,462]\u001b[0m Trial 26 finished with value: 47159.47937550676 and parameters: {'units': 74, 'kernel_initializer': 'glorot_uniform', 'activation': 'silu'}. Best is trial 9 with value: 1620.1521040673035.\u001b[0m\n"
     ]
    },
    {
     "name": "stdout",
     "output_type": "stream",
     "text": [
      "1543/1543 [==============================] - 2s 830us/step - loss: 33030.9062\n"
     ]
    },
    {
     "name": "stderr",
     "output_type": "stream",
     "text": [
      "\u001b[32m[I 2021-09-26 23:02:54,571]\u001b[0m Trial 27 finished with value: 2677.7883754591157 and parameters: {'units': 101, 'kernel_initializer': 'normal', 'activation': 'leaky_relu'}. Best is trial 9 with value: 1620.1521040673035.\u001b[0m\n"
     ]
    },
    {
     "name": "stdout",
     "output_type": "stream",
     "text": [
      "1543/1543 [==============================] - 2s 860us/step - loss: 33718.4492\n"
     ]
    },
    {
     "name": "stderr",
     "output_type": "stream",
     "text": [
      "\u001b[32m[I 2021-09-26 23:02:56,707]\u001b[0m Trial 28 finished with value: 53233.63019525425 and parameters: {'units': 159, 'kernel_initializer': 'normal', 'activation': 'leaky_relu'}. Best is trial 9 with value: 1620.1521040673035.\u001b[0m\n"
     ]
    },
    {
     "name": "stdout",
     "output_type": "stream",
     "text": [
      "1543/1543 [==============================] - 2s 823us/step - loss: 57693.5156\n"
     ]
    },
    {
     "name": "stderr",
     "output_type": "stream",
     "text": [
      "\u001b[32m[I 2021-09-26 23:02:58,764]\u001b[0m Trial 29 finished with value: 2832.147012829713 and parameters: {'units': 121, 'kernel_initializer': 'glorot_uniform', 'activation': 'leaky_relu'}. Best is trial 9 with value: 1620.1521040673035.\u001b[0m\n"
     ]
    },
    {
     "name": "stdout",
     "output_type": "stream",
     "text": [
      "1543/1543 [==============================] - 2s 792us/step - loss: 51572.8008\n"
     ]
    },
    {
     "name": "stderr",
     "output_type": "stream",
     "text": [
      "\u001b[32m[I 2021-09-26 23:03:00,750]\u001b[0m Trial 30 finished with value: 77824.61144704827 and parameters: {'units': 114, 'kernel_initializer': 'glorot_uniform', 'activation': 'leaky_relu'}. Best is trial 9 with value: 1620.1521040673035.\u001b[0m\n"
     ]
    },
    {
     "name": "stdout",
     "output_type": "stream",
     "text": [
      "1543/1543 [==============================] - 2s 828us/step - loss: 49384.7148\n"
     ]
    },
    {
     "name": "stderr",
     "output_type": "stream",
     "text": [
      "\u001b[32m[I 2021-09-26 23:03:02,838]\u001b[0m Trial 31 finished with value: 60302.82085446799 and parameters: {'units': 138, 'kernel_initializer': 'glorot_uniform', 'activation': 'leaky_relu'}. Best is trial 9 with value: 1620.1521040673035.\u001b[0m\n"
     ]
    },
    {
     "name": "stdout",
     "output_type": "stream",
     "text": [
      "1543/1543 [==============================] - 2s 790us/step - loss: 47778.2773\n"
     ]
    },
    {
     "name": "stderr",
     "output_type": "stream",
     "text": [
      "\u001b[32m[I 2021-09-26 23:03:05,005]\u001b[0m Trial 32 finished with value: 36505.39875825236 and parameters: {'units': 124, 'kernel_initializer': 'glorot_uniform', 'activation': 'leaky_relu'}. Best is trial 9 with value: 1620.1521040673035.\u001b[0m\n"
     ]
    },
    {
     "name": "stdout",
     "output_type": "stream",
     "text": [
      "1543/1543 [==============================] - 2s 797us/step - loss: 51485.1719\n"
     ]
    },
    {
     "name": "stderr",
     "output_type": "stream",
     "text": [
      "\u001b[32m[I 2021-09-26 23:03:07,076]\u001b[0m Trial 33 finished with value: 8200.379273568149 and parameters: {'units': 103, 'kernel_initializer': 'glorot_uniform', 'activation': 'leaky_relu'}. Best is trial 9 with value: 1620.1521040673035.\u001b[0m\n"
     ]
    },
    {
     "name": "stdout",
     "output_type": "stream",
     "text": [
      "1543/1543 [==============================] - 2s 779us/step - loss: 38121.9961\n"
     ]
    },
    {
     "name": "stderr",
     "output_type": "stream",
     "text": [
      "\u001b[32m[I 2021-09-26 23:03:09,038]\u001b[0m Trial 34 finished with value: 64715.699028856754 and parameters: {'units': 64, 'kernel_initializer': 'glorot_uniform', 'activation': 'leaky_relu'}. Best is trial 9 with value: 1620.1521040673035.\u001b[0m\n"
     ]
    },
    {
     "name": "stdout",
     "output_type": "stream",
     "text": [
      "1543/1543 [==============================] - 2s 878us/step - loss: 68810.7266\n"
     ]
    },
    {
     "name": "stderr",
     "output_type": "stream",
     "text": [
      "\u001b[32m[I 2021-09-26 23:03:11,189]\u001b[0m Trial 35 finished with value: 7785.245067161382 and parameters: {'units': 255, 'kernel_initializer': 'glorot_uniform', 'activation': 'leaky_relu'}. Best is trial 9 with value: 1620.1521040673035.\u001b[0m\n"
     ]
    },
    {
     "name": "stdout",
     "output_type": "stream",
     "text": [
      "1543/1543 [==============================] - 2s 816us/step - loss: 39394.6602\n"
     ]
    },
    {
     "name": "stderr",
     "output_type": "stream",
     "text": [
      "\u001b[32m[I 2021-09-26 23:03:13,281]\u001b[0m Trial 36 finished with value: 5805.4039184760395 and parameters: {'units': 121, 'kernel_initializer': 'glorot_uniform', 'activation': 'silu'}. Best is trial 9 with value: 1620.1521040673035.\u001b[0m\n"
     ]
    },
    {
     "name": "stdout",
     "output_type": "stream",
     "text": [
      "1543/1543 [==============================] - 2s 901us/step - loss: 34969.0273\n"
     ]
    },
    {
     "name": "stderr",
     "output_type": "stream",
     "text": [
      "\u001b[32m[I 2021-09-26 23:03:15,482]\u001b[0m Trial 37 finished with value: 55738.50027022427 and parameters: {'units': 176, 'kernel_initializer': 'normal', 'activation': 'relu'}. Best is trial 9 with value: 1620.1521040673035.\u001b[0m\n"
     ]
    },
    {
     "name": "stdout",
     "output_type": "stream",
     "text": [
      "1543/1543 [==============================] - 2s 795us/step - loss: 38178.2266\n"
     ]
    },
    {
     "name": "stderr",
     "output_type": "stream",
     "text": [
      "\u001b[32m[I 2021-09-26 23:03:17,533]\u001b[0m Trial 38 finished with value: 13545.8156703678 and parameters: {'units': 148, 'kernel_initializer': 'normal', 'activation': 'leaky_relu'}. Best is trial 9 with value: 1620.1521040673035.\u001b[0m\n"
     ]
    },
    {
     "name": "stdout",
     "output_type": "stream",
     "text": [
      "1543/1543 [==============================] - 2s 734us/step - loss: 39213.1328\n"
     ]
    },
    {
     "name": "stderr",
     "output_type": "stream",
     "text": [
      "\u001b[32m[I 2021-09-26 23:03:19,431]\u001b[0m Trial 39 finished with value: 15801.18075488801 and parameters: {'units': 88, 'kernel_initializer': 'glorot_uniform', 'activation': 'relu'}. Best is trial 9 with value: 1620.1521040673035.\u001b[0m\n"
     ]
    },
    {
     "name": "stdout",
     "output_type": "stream",
     "text": [
      "1543/1543 [==============================] - 2s 914us/step - loss: 39751.6328\n"
     ]
    },
    {
     "name": "stderr",
     "output_type": "stream",
     "text": [
      "\u001b[32m[I 2021-09-26 23:03:21,650]\u001b[0m Trial 40 finished with value: 38002.23222367601 and parameters: {'units': 208, 'kernel_initializer': 'normal', 'activation': 'leaky_relu'}. Best is trial 9 with value: 1620.1521040673035.\u001b[0m\n"
     ]
    },
    {
     "name": "stdout",
     "output_type": "stream",
     "text": [
      "1543/1543 [==============================] - 2s 834us/step - loss: 46009.8047\n"
     ]
    },
    {
     "name": "stderr",
     "output_type": "stream",
     "text": [
      "\u001b[32m[I 2021-09-26 23:03:23,737]\u001b[0m Trial 41 finished with value: 23429.404030207555 and parameters: {'units': 116, 'kernel_initializer': 'glorot_uniform', 'activation': 'silu'}. Best is trial 9 with value: 1620.1521040673035.\u001b[0m\n"
     ]
    },
    {
     "name": "stdout",
     "output_type": "stream",
     "text": [
      "1543/1543 [==============================] - 2s 964us/step - loss: 44936.9062\n"
     ]
    },
    {
     "name": "stderr",
     "output_type": "stream",
     "text": [
      "\u001b[32m[I 2021-09-26 23:03:26,510]\u001b[0m Trial 42 finished with value: 29510.08943382835 and parameters: {'units': 132, 'kernel_initializer': 'glorot_uniform', 'activation': 'silu'}. Best is trial 9 with value: 1620.1521040673035.\u001b[0m\n"
     ]
    },
    {
     "name": "stdout",
     "output_type": "stream",
     "text": [
      "1543/1543 [==============================] - 2s 816us/step - loss: 36760.6914\n"
     ]
    },
    {
     "name": "stderr",
     "output_type": "stream",
     "text": [
      "\u001b[32m[I 2021-09-26 23:03:28,564]\u001b[0m Trial 43 finished with value: 43936.109306468024 and parameters: {'units': 104, 'kernel_initializer': 'glorot_uniform', 'activation': 'silu'}. Best is trial 9 with value: 1620.1521040673035.\u001b[0m\n"
     ]
    },
    {
     "name": "stdout",
     "output_type": "stream",
     "text": [
      "1543/1543 [==============================] - 2s 927us/step - loss: 39506.8750\n"
     ]
    },
    {
     "name": "stderr",
     "output_type": "stream",
     "text": [
      "\u001b[32m[I 2021-09-26 23:03:30,853]\u001b[0m Trial 44 finished with value: 3366.293300924587 and parameters: {'units': 118, 'kernel_initializer': 'glorot_uniform', 'activation': 'silu'}. Best is trial 9 with value: 1620.1521040673035.\u001b[0m\n"
     ]
    },
    {
     "name": "stdout",
     "output_type": "stream",
     "text": [
      "1543/1543 [==============================] - 2s 1ms/step - loss: 54918.3242\n"
     ]
    },
    {
     "name": "stderr",
     "output_type": "stream",
     "text": [
      "\u001b[32m[I 2021-09-26 23:03:33,499]\u001b[0m Trial 45 finished with value: 30212.56328244799 and parameters: {'units': 157, 'kernel_initializer': 'glorot_uniform', 'activation': 'silu'}. Best is trial 9 with value: 1620.1521040673035.\u001b[0m\n"
     ]
    },
    {
     "name": "stdout",
     "output_type": "stream",
     "text": [
      "1543/1543 [==============================] - 2s 998us/step - loss: 49939.4297\n"
     ]
    },
    {
     "name": "stderr",
     "output_type": "stream",
     "text": [
      "\u001b[32m[I 2021-09-26 23:03:35,925]\u001b[0m Trial 46 finished with value: 26345.440928255644 and parameters: {'units': 139, 'kernel_initializer': 'glorot_uniform', 'activation': 'relu'}. Best is trial 9 with value: 1620.1521040673035.\u001b[0m\n"
     ]
    },
    {
     "name": "stdout",
     "output_type": "stream",
     "text": [
      "1543/1543 [==============================] - 2s 1ms/step - loss: 36469.5977\n"
     ]
    },
    {
     "name": "stderr",
     "output_type": "stream",
     "text": [
      "\u001b[32m[I 2021-09-26 23:03:38,623]\u001b[0m Trial 47 finished with value: 49785.82880099305 and parameters: {'units': 173, 'kernel_initializer': 'normal', 'activation': 'silu'}. Best is trial 9 with value: 1620.1521040673035.\u001b[0m\n"
     ]
    },
    {
     "name": "stdout",
     "output_type": "stream",
     "text": [
      "1543/1543 [==============================] - 2s 954us/step - loss: 28970.0840\n"
     ]
    },
    {
     "name": "stderr",
     "output_type": "stream",
     "text": [
      "\u001b[32m[I 2021-09-26 23:03:40,983]\u001b[0m Trial 48 finished with value: 40335.25894136014 and parameters: {'units': 111, 'kernel_initializer': 'normal', 'activation': 'leaky_relu'}. Best is trial 9 with value: 1620.1521040673035.\u001b[0m\n"
     ]
    },
    {
     "name": "stdout",
     "output_type": "stream",
     "text": [
      "1543/1543 [==============================] - 2s 806us/step - loss: 32782.8711\n"
     ]
    },
    {
     "name": "stderr",
     "output_type": "stream",
     "text": [
      "\u001b[32m[I 2021-09-26 23:03:43,019]\u001b[0m Trial 49 finished with value: 26824.80601554606 and parameters: {'units': 145, 'kernel_initializer': 'normal', 'activation': 'leaky_relu'}. Best is trial 9 with value: 1620.1521040673035.\u001b[0m\n"
     ]
    },
    {
     "name": "stdout",
     "output_type": "stream",
     "text": [
      "1543/1543 [==============================] - 2s 751us/step - loss: 43521.7188\n"
     ]
    },
    {
     "name": "stderr",
     "output_type": "stream",
     "text": [
      "\u001b[32m[I 2021-09-26 23:03:44,948]\u001b[0m Trial 50 finished with value: 21601.06762402046 and parameters: {'units': 89, 'kernel_initializer': 'glorot_uniform', 'activation': 'leaky_relu'}. Best is trial 9 with value: 1620.1521040673035.\u001b[0m\n"
     ]
    },
    {
     "name": "stdout",
     "output_type": "stream",
     "text": [
      "1543/1543 [==============================] - 2s 837us/step - loss: 41542.5391\n"
     ]
    },
    {
     "name": "stderr",
     "output_type": "stream",
     "text": [
      "\u001b[32m[I 2021-09-26 23:03:47,051]\u001b[0m Trial 51 finished with value: 5833.862995323053 and parameters: {'units': 121, 'kernel_initializer': 'glorot_uniform', 'activation': 'silu'}. Best is trial 9 with value: 1620.1521040673035.\u001b[0m\n"
     ]
    },
    {
     "name": "stdout",
     "output_type": "stream",
     "text": [
      "1543/1543 [==============================] - 2s 835us/step - loss: 44207.4961\n"
     ]
    },
    {
     "name": "stderr",
     "output_type": "stream",
     "text": [
      "\u001b[32m[I 2021-09-26 23:03:49,150]\u001b[0m Trial 52 finished with value: 14646.127188589824 and parameters: {'units': 127, 'kernel_initializer': 'glorot_uniform', 'activation': 'silu'}. Best is trial 9 with value: 1620.1521040673035.\u001b[0m\n"
     ]
    },
    {
     "name": "stdout",
     "output_type": "stream",
     "text": [
      "1543/1543 [==============================] - 2s 832us/step - loss: 35528.0586\n"
     ]
    },
    {
     "name": "stderr",
     "output_type": "stream",
     "text": [
      "\u001b[32m[I 2021-09-26 23:03:51,239]\u001b[0m Trial 53 finished with value: 13985.934113424457 and parameters: {'units': 103, 'kernel_initializer': 'glorot_uniform', 'activation': 'silu'}. Best is trial 9 with value: 1620.1521040673035.\u001b[0m\n"
     ]
    },
    {
     "name": "stdout",
     "output_type": "stream",
     "text": [
      "1543/1543 [==============================] - 2s 825us/step - loss: 49135.4062\n"
     ]
    },
    {
     "name": "stderr",
     "output_type": "stream",
     "text": [
      "\u001b[32m[I 2021-09-26 23:03:53,326]\u001b[0m Trial 54 finished with value: 37623.9025405028 and parameters: {'units': 119, 'kernel_initializer': 'glorot_uniform', 'activation': 'silu'}. Best is trial 9 with value: 1620.1521040673035.\u001b[0m\n"
     ]
    },
    {
     "name": "stdout",
     "output_type": "stream",
     "text": [
      "1543/1543 [==============================] - 2s 867us/step - loss: 28097.2988\n"
     ]
    },
    {
     "name": "stderr",
     "output_type": "stream",
     "text": [
      "\u001b[32m[I 2021-09-26 23:03:55,483]\u001b[0m Trial 55 finished with value: 2140.598466449491 and parameters: {'units': 153, 'kernel_initializer': 'normal', 'activation': 'silu'}. Best is trial 9 with value: 1620.1521040673035.\u001b[0m\n"
     ]
    },
    {
     "name": "stdout",
     "output_type": "stream",
     "text": [
      "1543/1543 [==============================] - 2s 785us/step - loss: 25701.2363\n"
     ]
    },
    {
     "name": "stderr",
     "output_type": "stream",
     "text": [
      "\u001b[32m[I 2021-09-26 23:03:57,464]\u001b[0m Trial 56 finished with value: 23388.74108264829 and parameters: {'units': 153, 'kernel_initializer': 'normal', 'activation': 'relu'}. Best is trial 9 with value: 1620.1521040673035.\u001b[0m\n"
     ]
    },
    {
     "name": "stdout",
     "output_type": "stream",
     "text": [
      "1543/1543 [==============================] - 2s 901us/step - loss: 31819.4355\n"
     ]
    },
    {
     "name": "stderr",
     "output_type": "stream",
     "text": [
      "\u001b[32m[I 2021-09-26 23:03:59,672]\u001b[0m Trial 57 finished with value: 42531.7659826884 and parameters: {'units': 170, 'kernel_initializer': 'normal', 'activation': 'silu'}. Best is trial 9 with value: 1620.1521040673035.\u001b[0m\n"
     ]
    },
    {
     "name": "stdout",
     "output_type": "stream",
     "text": [
      "1543/1543 [==============================] - 2s 820us/step - loss: 39147.0273\n"
     ]
    },
    {
     "name": "stderr",
     "output_type": "stream",
     "text": [
      "\u001b[32m[I 2021-09-26 23:04:01,720]\u001b[0m Trial 58 finished with value: 24092.31928324012 and parameters: {'units': 193, 'kernel_initializer': 'normal', 'activation': 'leaky_relu'}. Best is trial 9 with value: 1620.1521040673035.\u001b[0m\n"
     ]
    },
    {
     "name": "stdout",
     "output_type": "stream",
     "text": [
      "1543/1543 [==============================] - 2s 781us/step - loss: 32092.1641\n"
     ]
    },
    {
     "name": "stderr",
     "output_type": "stream",
     "text": [
      "\u001b[32m[I 2021-09-26 23:04:03,700]\u001b[0m Trial 59 finished with value: 13943.976285015577 and parameters: {'units': 140, 'kernel_initializer': 'normal', 'activation': 'leaky_relu'}. Best is trial 9 with value: 1620.1521040673035.\u001b[0m\n"
     ]
    },
    {
     "name": "stdout",
     "output_type": "stream",
     "text": [
      "1543/1543 [==============================] - 2s 771us/step - loss: 32012.8340\n"
     ]
    },
    {
     "name": "stderr",
     "output_type": "stream",
     "text": [
      "\u001b[32m[I 2021-09-26 23:04:05,665]\u001b[0m Trial 60 finished with value: 30550.45984306953 and parameters: {'units': 134, 'kernel_initializer': 'normal', 'activation': 'leaky_relu'}. Best is trial 9 with value: 1620.1521040673035.\u001b[0m\n"
     ]
    },
    {
     "name": "stdout",
     "output_type": "stream",
     "text": [
      "1543/1543 [==============================] - 2s 826us/step - loss: 26820.5625\n"
     ]
    },
    {
     "name": "stderr",
     "output_type": "stream",
     "text": [
      "\u001b[32m[I 2021-09-26 23:04:07,749]\u001b[0m Trial 61 finished with value: 2125.3120416031843 and parameters: {'units': 109, 'kernel_initializer': 'normal', 'activation': 'silu'}. Best is trial 9 with value: 1620.1521040673035.\u001b[0m\n"
     ]
    },
    {
     "name": "stdout",
     "output_type": "stream",
     "text": [
      "1543/1543 [==============================] - 2s 820us/step - loss: 22341.0723\n"
     ]
    },
    {
     "name": "stderr",
     "output_type": "stream",
     "text": [
      "\u001b[32m[I 2021-09-26 23:04:10,272]\u001b[0m Trial 62 finished with value: 21559.032786739543 and parameters: {'units': 107, 'kernel_initializer': 'normal', 'activation': 'silu'}. Best is trial 9 with value: 1620.1521040673035.\u001b[0m\n"
     ]
    },
    {
     "name": "stdout",
     "output_type": "stream",
     "text": [
      "1543/1543 [==============================] - 2s 808us/step - loss: 21484.6582\n"
     ]
    },
    {
     "name": "stderr",
     "output_type": "stream",
     "text": [
      "\u001b[32m[I 2021-09-26 23:04:12,328]\u001b[0m Trial 63 finished with value: 24135.07238124556 and parameters: {'units': 84, 'kernel_initializer': 'normal', 'activation': 'silu'}. Best is trial 9 with value: 1620.1521040673035.\u001b[0m\n"
     ]
    },
    {
     "name": "stdout",
     "output_type": "stream",
     "text": [
      "1543/1543 [==============================] - 2s 810us/step - loss: 18866.6113\n"
     ]
    },
    {
     "name": "stderr",
     "output_type": "stream",
     "text": [
      "\u001b[32m[I 2021-09-26 23:04:14,392]\u001b[0m Trial 64 finished with value: 29054.636414491808 and parameters: {'units': 99, 'kernel_initializer': 'normal', 'activation': 'silu'}. Best is trial 9 with value: 1620.1521040673035.\u001b[0m\n"
     ]
    },
    {
     "name": "stdout",
     "output_type": "stream",
     "text": [
      "1543/1543 [==============================] - 2s 861us/step - loss: 26112.7441\n"
     ]
    },
    {
     "name": "stderr",
     "output_type": "stream",
     "text": [
      "\u001b[32m[I 2021-09-26 23:04:16,528]\u001b[0m Trial 65 finished with value: 35650.25176600681 and parameters: {'units': 129, 'kernel_initializer': 'normal', 'activation': 'silu'}. Best is trial 9 with value: 1620.1521040673035.\u001b[0m\n"
     ]
    },
    {
     "name": "stdout",
     "output_type": "stream",
     "text": [
      "1543/1543 [==============================] - 2s 836us/step - loss: 39574.8867\n"
     ]
    },
    {
     "name": "stderr",
     "output_type": "stream",
     "text": [
      "\u001b[32m[I 2021-09-26 23:04:18,599]\u001b[0m Trial 66 finished with value: 61081.06148129327 and parameters: {'units': 165, 'kernel_initializer': 'normal', 'activation': 'leaky_relu'}. Best is trial 9 with value: 1620.1521040673035.\u001b[0m\n"
     ]
    },
    {
     "name": "stdout",
     "output_type": "stream",
     "text": [
      "1543/1543 [==============================] - 2s 776us/step - loss: 20142.4316\n"
     ]
    },
    {
     "name": "stderr",
     "output_type": "stream",
     "text": [
      "\u001b[32m[I 2021-09-26 23:04:20,602]\u001b[0m Trial 67 finished with value: 3594.7975325298867 and parameters: {'units': 70, 'kernel_initializer': 'normal', 'activation': 'silu'}. Best is trial 9 with value: 1620.1521040673035.\u001b[0m\n"
     ]
    },
    {
     "name": "stdout",
     "output_type": "stream",
     "text": [
      "1543/1543 [==============================] - 2s 803us/step - loss: 34586.0898\n"
     ]
    },
    {
     "name": "stderr",
     "output_type": "stream",
     "text": [
      "\u001b[32m[I 2021-09-26 23:04:22,623]\u001b[0m Trial 68 finished with value: 24242.230586749887 and parameters: {'units': 153, 'kernel_initializer': 'normal', 'activation': 'leaky_relu'}. Best is trial 9 with value: 1620.1521040673035.\u001b[0m\n"
     ]
    },
    {
     "name": "stdout",
     "output_type": "stream",
     "text": [
      "1543/1543 [==============================] - 2s 756us/step - loss: 16725.2852\n"
     ]
    },
    {
     "name": "stderr",
     "output_type": "stream",
     "text": [
      "\u001b[32m[I 2021-09-26 23:04:24,564]\u001b[0m Trial 69 finished with value: 16374.110236003035 and parameters: {'units': 53, 'kernel_initializer': 'normal', 'activation': 'leaky_relu'}. Best is trial 9 with value: 1620.1521040673035.\u001b[0m\n"
     ]
    },
    {
     "name": "stdout",
     "output_type": "stream",
     "text": [
      "1543/1543 [==============================] - 2s 824us/step - loss: 25883.6797\n"
     ]
    },
    {
     "name": "stderr",
     "output_type": "stream",
     "text": [
      "\u001b[32m[I 2021-09-26 23:04:26,644]\u001b[0m Trial 70 finished with value: 1745.5875914571418 and parameters: {'units': 111, 'kernel_initializer': 'normal', 'activation': 'silu'}. Best is trial 9 with value: 1620.1521040673035.\u001b[0m\n"
     ]
    },
    {
     "name": "stdout",
     "output_type": "stream",
     "text": [
      "1543/1543 [==============================] - 2s 818us/step - loss: 19159.9590\n"
     ]
    },
    {
     "name": "stderr",
     "output_type": "stream",
     "text": [
      "\u001b[32m[I 2021-09-26 23:04:28,715]\u001b[0m Trial 71 finished with value: 6270.111524938897 and parameters: {'units': 112, 'kernel_initializer': 'normal', 'activation': 'silu'}. Best is trial 9 with value: 1620.1521040673035.\u001b[0m\n"
     ]
    },
    {
     "name": "stdout",
     "output_type": "stream",
     "text": [
      "1543/1543 [==============================] - 2s 812us/step - loss: 23739.0254\n"
     ]
    },
    {
     "name": "stderr",
     "output_type": "stream",
     "text": [
      "\u001b[32m[I 2021-09-26 23:04:30,779]\u001b[0m Trial 72 finished with value: 32806.205725888365 and parameters: {'units': 97, 'kernel_initializer': 'normal', 'activation': 'silu'}. Best is trial 9 with value: 1620.1521040673035.\u001b[0m\n"
     ]
    },
    {
     "name": "stdout",
     "output_type": "stream",
     "text": [
      "1543/1543 [==============================] - 2s 824us/step - loss: 25599.5957\n"
     ]
    },
    {
     "name": "stderr",
     "output_type": "stream",
     "text": [
      "\u001b[32m[I 2021-09-26 23:04:32,863]\u001b[0m Trial 73 finished with value: 25799.028310091562 and parameters: {'units': 116, 'kernel_initializer': 'normal', 'activation': 'silu'}. Best is trial 9 with value: 1620.1521040673035.\u001b[0m\n"
     ]
    },
    {
     "name": "stdout",
     "output_type": "stream",
     "text": [
      "1543/1543 [==============================] - 2s 839us/step - loss: 32436.6133\n"
     ]
    },
    {
     "name": "stderr",
     "output_type": "stream",
     "text": [
      "\u001b[32m[I 2021-09-26 23:04:34,977]\u001b[0m Trial 74 finished with value: 45375.703764057005 and parameters: {'units': 125, 'kernel_initializer': 'normal', 'activation': 'silu'}. Best is trial 9 with value: 1620.1521040673035.\u001b[0m\n"
     ]
    },
    {
     "name": "stdout",
     "output_type": "stream",
     "text": [
      "1543/1543 [==============================] - 2s 756us/step - loss: 22143.9434\n"
     ]
    },
    {
     "name": "stderr",
     "output_type": "stream",
     "text": [
      "\u001b[32m[I 2021-09-26 23:04:36,921]\u001b[0m Trial 75 finished with value: 2254.9123505499783 and parameters: {'units': 81, 'kernel_initializer': 'normal', 'activation': 'leaky_relu'}. Best is trial 9 with value: 1620.1521040673035.\u001b[0m\n"
     ]
    },
    {
     "name": "stdout",
     "output_type": "stream",
     "text": [
      "1543/1543 [==============================] - 2s 765us/step - loss: 26767.3594\n"
     ]
    },
    {
     "name": "stderr",
     "output_type": "stream",
     "text": [
      "\u001b[32m[I 2021-09-26 23:04:38,869]\u001b[0m Trial 76 finished with value: 8942.651455044936 and parameters: {'units': 73, 'kernel_initializer': 'normal', 'activation': 'leaky_relu'}. Best is trial 9 with value: 1620.1521040673035.\u001b[0m\n"
     ]
    },
    {
     "name": "stdout",
     "output_type": "stream",
     "text": [
      "1543/1543 [==============================] - 2s 753us/step - loss: 26257.4805\n"
     ]
    },
    {
     "name": "stderr",
     "output_type": "stream",
     "text": [
      "\u001b[32m[I 2021-09-26 23:04:40,807]\u001b[0m Trial 77 finished with value: 32843.1154902206 and parameters: {'units': 83, 'kernel_initializer': 'normal', 'activation': 'leaky_relu'}. Best is trial 9 with value: 1620.1521040673035.\u001b[0m\n"
     ]
    },
    {
     "name": "stdout",
     "output_type": "stream",
     "text": [
      "1543/1543 [==============================] - 2s 749us/step - loss: 29639.7363\n"
     ]
    },
    {
     "name": "stderr",
     "output_type": "stream",
     "text": [
      "\u001b[32m[I 2021-09-26 23:04:42,731]\u001b[0m Trial 78 finished with value: 2419.5355976587107 and parameters: {'units': 92, 'kernel_initializer': 'normal', 'activation': 'leaky_relu'}. Best is trial 9 with value: 1620.1521040673035.\u001b[0m\n"
     ]
    },
    {
     "name": "stdout",
     "output_type": "stream",
     "text": [
      "1543/1543 [==============================] - 2s 755us/step - loss: 25984.3008\n"
     ]
    },
    {
     "name": "stderr",
     "output_type": "stream",
     "text": [
      "\u001b[32m[I 2021-09-26 23:04:44,671]\u001b[0m Trial 79 finished with value: 21979.64445480802 and parameters: {'units': 65, 'kernel_initializer': 'normal', 'activation': 'leaky_relu'}. Best is trial 9 with value: 1620.1521040673035.\u001b[0m\n"
     ]
    },
    {
     "name": "stdout",
     "output_type": "stream",
     "text": [
      "1543/1543 [==============================] - 2s 754us/step - loss: 25766.7637\n"
     ]
    },
    {
     "name": "stderr",
     "output_type": "stream",
     "text": [
      "\u001b[32m[I 2021-09-26 23:04:46,597]\u001b[0m Trial 80 finished with value: 6223.2640693685735 and parameters: {'units': 78, 'kernel_initializer': 'normal', 'activation': 'leaky_relu'}. Best is trial 9 with value: 1620.1521040673035.\u001b[0m\n"
     ]
    },
    {
     "name": "stdout",
     "output_type": "stream",
     "text": [
      "1543/1543 [==============================] - 2s 750us/step - loss: 27635.7988\n"
     ]
    },
    {
     "name": "stderr",
     "output_type": "stream",
     "text": [
      "\u001b[32m[I 2021-09-26 23:04:48,516]\u001b[0m Trial 81 finished with value: 11266.196008280216 and parameters: {'units': 91, 'kernel_initializer': 'normal', 'activation': 'leaky_relu'}. Best is trial 9 with value: 1620.1521040673035.\u001b[0m\n"
     ]
    },
    {
     "name": "stdout",
     "output_type": "stream",
     "text": [
      "1543/1543 [==============================] - 2s 762us/step - loss: 32015.6465\n"
     ]
    },
    {
     "name": "stderr",
     "output_type": "stream",
     "text": [
      "\u001b[32m[I 2021-09-26 23:04:50,465]\u001b[0m Trial 82 finished with value: 2925.924254244004 and parameters: {'units': 109, 'kernel_initializer': 'normal', 'activation': 'leaky_relu'}. Best is trial 9 with value: 1620.1521040673035.\u001b[0m\n"
     ]
    },
    {
     "name": "stdout",
     "output_type": "stream",
     "text": [
      "1543/1543 [==============================] - 2s 763us/step - loss: 27923.9785\n"
     ]
    },
    {
     "name": "stderr",
     "output_type": "stream",
     "text": [
      "\u001b[32m[I 2021-09-26 23:04:52,408]\u001b[0m Trial 83 finished with value: 20103.410048016645 and parameters: {'units': 100, 'kernel_initializer': 'normal', 'activation': 'leaky_relu'}. Best is trial 9 with value: 1620.1521040673035.\u001b[0m\n"
     ]
    },
    {
     "name": "stdout",
     "output_type": "stream",
     "text": [
      "1543/1543 [==============================] - 2s 763us/step - loss: 34942.6914\n"
     ]
    },
    {
     "name": "stderr",
     "output_type": "stream",
     "text": [
      "\u001b[32m[I 2021-09-26 23:04:54,826]\u001b[0m Trial 84 finished with value: 14185.210070358089 and parameters: {'units': 108, 'kernel_initializer': 'normal', 'activation': 'leaky_relu'}. Best is trial 9 with value: 1620.1521040673035.\u001b[0m\n"
     ]
    },
    {
     "name": "stdout",
     "output_type": "stream",
     "text": [
      "1543/1543 [==============================] - 2s 752us/step - loss: 24056.1387\n"
     ]
    },
    {
     "name": "stderr",
     "output_type": "stream",
     "text": [
      "\u001b[32m[I 2021-09-26 23:04:56,765]\u001b[0m Trial 85 finished with value: 34509.46088783665 and parameters: {'units': 87, 'kernel_initializer': 'normal', 'activation': 'leaky_relu'}. Best is trial 9 with value: 1620.1521040673035.\u001b[0m\n"
     ]
    },
    {
     "name": "stdout",
     "output_type": "stream",
     "text": [
      "1543/1543 [==============================] - 2s 750us/step - loss: 24130.5312\n"
     ]
    },
    {
     "name": "stderr",
     "output_type": "stream",
     "text": [
      "\u001b[32m[I 2021-09-26 23:04:58,693]\u001b[0m Trial 86 finished with value: 7997.3665749577885 and parameters: {'units': 95, 'kernel_initializer': 'normal', 'activation': 'relu'}. Best is trial 9 with value: 1620.1521040673035.\u001b[0m\n"
     ]
    },
    {
     "name": "stdout",
     "output_type": "stream",
     "text": [
      "1543/1543 [==============================] - 2s 763us/step - loss: 29756.5059\n"
     ]
    },
    {
     "name": "stderr",
     "output_type": "stream",
     "text": [
      "\u001b[32m[I 2021-09-26 23:05:00,646]\u001b[0m Trial 87 finished with value: 7887.7335690993605 and parameters: {'units': 109, 'kernel_initializer': 'normal', 'activation': 'leaky_relu'}. Best is trial 9 with value: 1620.1521040673035.\u001b[0m\n"
     ]
    },
    {
     "name": "stdout",
     "output_type": "stream",
     "text": [
      "1543/1543 [==============================] - 2s 757us/step - loss: 30907.3887\n"
     ]
    },
    {
     "name": "stderr",
     "output_type": "stream",
     "text": [
      "\u001b[32m[I 2021-09-26 23:05:02,585]\u001b[0m Trial 88 finished with value: 3501.301207270068 and parameters: {'units': 81, 'kernel_initializer': 'normal', 'activation': 'leaky_relu'}. Best is trial 9 with value: 1620.1521040673035.\u001b[0m\n"
     ]
    },
    {
     "name": "stdout",
     "output_type": "stream",
     "text": [
      "1543/1543 [==============================] - 2s 764us/step - loss: 27016.5977\n"
     ]
    },
    {
     "name": "stderr",
     "output_type": "stream",
     "text": [
      "\u001b[32m[I 2021-09-26 23:05:04,541]\u001b[0m Trial 89 finished with value: 3202.3760511625355 and parameters: {'units': 103, 'kernel_initializer': 'normal', 'activation': 'leaky_relu'}. Best is trial 9 with value: 1620.1521040673035.\u001b[0m\n"
     ]
    },
    {
     "name": "stdout",
     "output_type": "stream",
     "text": [
      "1543/1543 [==============================] - 2s 801us/step - loss: 35715.4570\n"
     ]
    },
    {
     "name": "stderr",
     "output_type": "stream",
     "text": [
      "\u001b[32m[I 2021-09-26 23:05:06,570]\u001b[0m Trial 90 finished with value: 46923.00006615752 and parameters: {'units': 130, 'kernel_initializer': 'normal', 'activation': 'leaky_relu'}. Best is trial 9 with value: 1620.1521040673035.\u001b[0m\n"
     ]
    },
    {
     "name": "stdout",
     "output_type": "stream",
     "text": [
      "1543/1543 [==============================] - 2s 786us/step - loss: 37659.8906\n"
     ]
    },
    {
     "name": "stderr",
     "output_type": "stream",
     "text": [
      "\u001b[32m[I 2021-09-26 23:05:08,566]\u001b[0m Trial 91 finished with value: 42403.09573049968 and parameters: {'units': 143, 'kernel_initializer': 'normal', 'activation': 'leaky_relu'}. Best is trial 9 with value: 1620.1521040673035.\u001b[0m\n"
     ]
    },
    {
     "name": "stdout",
     "output_type": "stream",
     "text": [
      "1543/1543 [==============================] - 2s 764us/step - loss: 26892.0840\n"
     ]
    },
    {
     "name": "stderr",
     "output_type": "stream",
     "text": [
      "\u001b[32m[I 2021-09-26 23:05:10,526]\u001b[0m Trial 92 finished with value: 40074.057464626036 and parameters: {'units': 123, 'kernel_initializer': 'normal', 'activation': 'leaky_relu'}. Best is trial 9 with value: 1620.1521040673035.\u001b[0m\n"
     ]
    },
    {
     "name": "stdout",
     "output_type": "stream",
     "text": [
      "1543/1543 [==============================] - 2s 770us/step - loss: 27387.2148\n"
     ]
    },
    {
     "name": "stderr",
     "output_type": "stream",
     "text": [
      "\u001b[32m[I 2021-09-26 23:05:12,498]\u001b[0m Trial 93 finished with value: 27131.168302820854 and parameters: {'units': 113, 'kernel_initializer': 'normal', 'activation': 'leaky_relu'}. Best is trial 9 with value: 1620.1521040673035.\u001b[0m\n"
     ]
    },
    {
     "name": "stdout",
     "output_type": "stream",
     "text": [
      "1543/1543 [==============================] - 2s 792us/step - loss: 31105.8750\n"
     ]
    },
    {
     "name": "stderr",
     "output_type": "stream",
     "text": [
      "\u001b[32m[I 2021-09-26 23:05:14,506]\u001b[0m Trial 94 finished with value: 25488.605815748466 and parameters: {'units': 133, 'kernel_initializer': 'normal', 'activation': 'leaky_relu'}. Best is trial 9 with value: 1620.1521040673035.\u001b[0m\n"
     ]
    },
    {
     "name": "stdout",
     "output_type": "stream",
     "text": [
      "1543/1543 [==============================] - 2s 805us/step - loss: 32334.0371\n"
     ]
    },
    {
     "name": "stderr",
     "output_type": "stream",
     "text": [
      "\u001b[32m[I 2021-09-26 23:05:16,534]\u001b[0m Trial 95 finished with value: 25653.360966352117 and parameters: {'units': 150, 'kernel_initializer': 'normal', 'activation': 'leaky_relu'}. Best is trial 9 with value: 1620.1521040673035.\u001b[0m\n"
     ]
    },
    {
     "name": "stdout",
     "output_type": "stream",
     "text": [
      "1543/1543 [==============================] - 2s 748us/step - loss: 22885.7637\n"
     ]
    },
    {
     "name": "stderr",
     "output_type": "stream",
     "text": [
      "\u001b[32m[I 2021-09-26 23:05:18,458]\u001b[0m Trial 96 finished with value: 23495.465788193767 and parameters: {'units': 92, 'kernel_initializer': 'normal', 'activation': 'relu'}. Best is trial 9 with value: 1620.1521040673035.\u001b[0m\n"
     ]
    },
    {
     "name": "stdout",
     "output_type": "stream",
     "text": [
      "1543/1543 [==============================] - 2s 804us/step - loss: 29759.4219\n"
     ]
    },
    {
     "name": "stderr",
     "output_type": "stream",
     "text": [
      "\u001b[32m[I 2021-09-26 23:05:20,484]\u001b[0m Trial 97 finished with value: 22026.639798888336 and parameters: {'units': 143, 'kernel_initializer': 'normal', 'activation': 'leaky_relu'}. Best is trial 9 with value: 1620.1521040673035.\u001b[0m\n"
     ]
    },
    {
     "name": "stdout",
     "output_type": "stream",
     "text": [
      "1543/1543 [==============================] - 2s 776us/step - loss: 30221.4902\n"
     ]
    },
    {
     "name": "stderr",
     "output_type": "stream",
     "text": [
      "\u001b[32m[I 2021-09-26 23:05:22,466]\u001b[0m Trial 98 finished with value: 46455.297788575794 and parameters: {'units': 119, 'kernel_initializer': 'normal', 'activation': 'leaky_relu'}. Best is trial 9 with value: 1620.1521040673035.\u001b[0m\n"
     ]
    },
    {
     "name": "stdout",
     "output_type": "stream",
     "text": [
      "1543/1543 [==============================] - 2s 801us/step - loss: 32786.3828\n"
     ]
    },
    {
     "name": "stderr",
     "output_type": "stream",
     "text": [
      "\u001b[32m[I 2021-09-26 23:05:24,480]\u001b[0m Trial 99 finished with value: 2437.450050522355 and parameters: {'units': 136, 'kernel_initializer': 'normal', 'activation': 'leaky_relu'}. Best is trial 9 with value: 1620.1521040673035.\u001b[0m\n"
     ]
    },
    {
     "name": "stdout",
     "output_type": "stream",
     "text": [
      "Number of finished trials:  100\n",
      "Best trial:\n",
      "  Value: 1620.1521040673035\n",
      "  Params: \n",
      "    units: 126\n",
      "    kernel_initializer: normal\n",
      "    activation: leaky_relu\n"
     ]
    }
   ],
   "source": [
    "from keras.layers import Dense\n",
    "from keras.models import Sequential\n",
    "\n",
    "def create_model(trial):\n",
    "    model = Sequential()\n",
    "    model.add(Dense\n",
    "                 (\n",
    "                    units = trial.suggest_int(\"units\", 32, 256),\n",
    "                    kernel_initializer=trial.suggest_categorical(\"kernel_initializer\", [\"glorot_uniform\", \"normal\"]),\n",
    "                    input_dim = X.shape[1], \n",
    "                    activation= trial.suggest_categorical(\"activation\", [\"relu\", \"silu\", \"leaky_relu\"])\n",
    "                 )\n",
    "             )\n",
    "    model.add(Dense(1))\n",
    "    model.compile(\n",
    "        loss=\"mean_absolute_error\"\n",
    "    )\n",
    "    return model\n",
    "\n",
    "optimizer = Optimizer('mae')\n",
    "keras_study = optimizer.optimize()\n",
    "\n",
    "print(\"Number of finished trials: \", len(keras_study.trials))\n",
    "print(\"Best trial:\")\n",
    "keras_trial = keras_study.best_trial\n",
    "\n",
    "print(\"  Value: {}\".format(keras_trial.value))\n",
    "print(\"  Params: \")\n",
    "for key, value in keras_trial.params.items():\n",
    "    print(\"    {}: {}\".format(key, value))\n"
   ]
  },
  {
   "cell_type": "code",
   "execution_count": 45,
   "id": "developing-racing",
   "metadata": {},
   "outputs": [
    {
     "name": "stdout",
     "output_type": "stream",
     "text": [
      "Epoch 1/100\n",
      "3455/3455 [==============================] - 5s 1ms/step - loss: 709.2412 - val_loss: 6.4293\n",
      "Epoch 2/100\n",
      "3455/3455 [==============================] - 5s 1ms/step - loss: 14.3731 - val_loss: 3.9467\n",
      "Epoch 3/100\n",
      "3455/3455 [==============================] - 5s 2ms/step - loss: 6.4823 - val_loss: 1.8115\n",
      "Epoch 4/100\n",
      "3455/3455 [==============================] - 4s 1ms/step - loss: 4.2552 - val_loss: 44.7084\n",
      "Epoch 5/100\n",
      "3455/3455 [==============================] - 4s 1ms/step - loss: 3.2425 - val_loss: 12.0138\n",
      "Epoch 6/100\n",
      "3455/3455 [==============================] - 4s 1ms/step - loss: 2.7656 - val_loss: 5.0608\n",
      "Epoch 7/100\n",
      "3455/3455 [==============================] - 4s 1ms/step - loss: 2.7553 - val_loss: 0.3323\n",
      "Epoch 8/100\n",
      "3455/3455 [==============================] - 4s 1ms/step - loss: 2.5052 - val_loss: 0.6934\n",
      "Epoch 9/100\n",
      "3455/3455 [==============================] - 4s 1ms/step - loss: 2.5688 - val_loss: 0.7550\n",
      "Epoch 10/100\n",
      "3455/3455 [==============================] - 4s 1ms/step - loss: 2.3650 - val_loss: 0.5222\n",
      "Epoch 11/100\n",
      "3455/3455 [==============================] - 4s 1ms/step - loss: 2.3302 - val_loss: 6.8170\n",
      "Epoch 12/100\n",
      "3455/3455 [==============================] - 4s 1ms/step - loss: 2.3504 - val_loss: 0.2725\n",
      "Epoch 13/100\n",
      "3455/3455 [==============================] - 4s 1ms/step - loss: 2.4687 - val_loss: 0.2665\n",
      "Epoch 14/100\n",
      "3455/3455 [==============================] - 4s 1ms/step - loss: 2.3274 - val_loss: 0.4864\n",
      "Epoch 15/100\n",
      "3455/3455 [==============================] - 4s 1ms/step - loss: 2.4025 - val_loss: 10.8568\n",
      "Epoch 16/100\n",
      "3455/3455 [==============================] - 4s 1ms/step - loss: 2.3957 - val_loss: 0.3223\n",
      "Epoch 17/100\n",
      "3455/3455 [==============================] - 4s 1ms/step - loss: 2.5836 - val_loss: 0.3913\n",
      "Epoch 18/100\n",
      "3455/3455 [==============================] - 4s 1ms/step - loss: 2.4448 - val_loss: 25.3294\n",
      "Epoch 19/100\n",
      "3455/3455 [==============================] - 4s 1ms/step - loss: 2.3139 - val_loss: 0.6493\n",
      "Epoch 20/100\n",
      "3455/3455 [==============================] - 4s 1ms/step - loss: 2.3136 - val_loss: 0.2618\n",
      "Epoch 21/100\n",
      "3455/3455 [==============================] - 4s 1ms/step - loss: 2.2883 - val_loss: 0.4602\n",
      "Epoch 22/100\n",
      "3455/3455 [==============================] - 4s 1ms/step - loss: 2.3826 - val_loss: 0.2449\n",
      "Epoch 23/100\n",
      "3455/3455 [==============================] - 4s 1ms/step - loss: 2.4149 - val_loss: 0.4841\n",
      "Epoch 24/100\n",
      "3455/3455 [==============================] - 4s 1ms/step - loss: 2.3127 - val_loss: 6.7397\n",
      "Epoch 25/100\n",
      "3455/3455 [==============================] - 4s 1ms/step - loss: 2.3082 - val_loss: 4.1514\n",
      "Epoch 26/100\n",
      "3455/3455 [==============================] - 4s 1ms/step - loss: 2.3444 - val_loss: 0.1996\n",
      "Epoch 27/100\n",
      "3455/3455 [==============================] - 4s 1ms/step - loss: 2.3159 - val_loss: 2.7054\n",
      "Epoch 28/100\n",
      "3455/3455 [==============================] - 4s 1ms/step - loss: 2.3266 - val_loss: 0.2467\n",
      "Epoch 29/100\n",
      "3455/3455 [==============================] - 4s 1ms/step - loss: 2.2641 - val_loss: 0.2937\n",
      "Epoch 30/100\n",
      "3455/3455 [==============================] - 4s 1ms/step - loss: 2.3121 - val_loss: 0.1417\n",
      "Epoch 31/100\n",
      "3455/3455 [==============================] - 4s 1ms/step - loss: 2.4393 - val_loss: 0.4003\n",
      "Epoch 32/100\n",
      "3455/3455 [==============================] - 4s 1ms/step - loss: 2.3646 - val_loss: 0.7948\n",
      "Epoch 33/100\n",
      "3455/3455 [==============================] - 4s 1ms/step - loss: 2.3366 - val_loss: 8.1907\n",
      "Epoch 34/100\n",
      "3455/3455 [==============================] - 4s 1ms/step - loss: 2.4786 - val_loss: 0.5990\n",
      "Epoch 35/100\n",
      "3455/3455 [==============================] - 4s 1ms/step - loss: 2.5283 - val_loss: 0.2852\n",
      "Epoch 36/100\n",
      "3455/3455 [==============================] - 4s 1ms/step - loss: 2.5610 - val_loss: 0.2766\n",
      "Epoch 37/100\n",
      "3455/3455 [==============================] - 4s 1ms/step - loss: 2.4703 - val_loss: 0.2866\n",
      "Epoch 38/100\n",
      "3455/3455 [==============================] - 4s 1ms/step - loss: 2.4447 - val_loss: 0.3284\n",
      "Epoch 39/100\n",
      "3455/3455 [==============================] - 4s 1ms/step - loss: 2.5061 - val_loss: 0.2666\n"
     ]
    },
    {
     "data": {
      "text/plain": [
       "<keras.callbacks.History at 0x19997c96850>"
      ]
     },
     "execution_count": 45,
     "metadata": {},
     "output_type": "execute_result"
    }
   ],
   "source": [
    "keras_params = keras_study.best_params\n",
    "\n",
    "model2 = Sequential()\n",
    "model2.add(Dense(**keras_params))\n",
    "model2.add(Dense(**keras_params))\n",
    "model2.add(Dense(**keras_params))\n",
    "model2.add(Dense(1, activation= keras_params['activation']))\n",
    "\n",
    "model2.compile(loss=\"mean_absolute_error\")\n",
    "earlystopping = callbacks.EarlyStopping(monitor =\"loss\", \n",
    "                                        mode =\"min\", patience = 10, \n",
    "                                        restore_best_weights = True)\n",
    "model2.fit(X_train, y_train, validation_data = (X_test, y_test), epochs=100, batch_size=10, callbacks =[earlystopping])\n"
   ]
  },
  {
   "cell_type": "code",
   "execution_count": 46,
   "id": "beautiful-console",
   "metadata": {},
   "outputs": [
    {
     "name": "stdout",
     "output_type": "stream",
     "text": [
      "{'name': 'sequential_219', 'layers': [{'class_name': 'InputLayer', 'config': {'batch_input_shape': (None, 25), 'dtype': 'float64', 'sparse': False, 'ragged': False, 'name': 'dense_452_input'}}, {'class_name': 'Dense', 'config': {'name': 'dense_452', 'trainable': True, 'dtype': 'float32', 'units': 126, 'activation': 'leaky_relu', 'use_bias': True, 'kernel_initializer': {'class_name': 'RandomNormal', 'config': {'mean': 0.0, 'stddev': 0.05, 'seed': None}}, 'bias_initializer': {'class_name': 'Zeros', 'config': {}}, 'kernel_regularizer': None, 'bias_regularizer': None, 'activity_regularizer': None, 'kernel_constraint': None, 'bias_constraint': None}}, {'class_name': 'Dense', 'config': {'name': 'dense_453', 'trainable': True, 'dtype': 'float32', 'units': 126, 'activation': 'leaky_relu', 'use_bias': True, 'kernel_initializer': {'class_name': 'RandomNormal', 'config': {'mean': 0.0, 'stddev': 0.05, 'seed': None}}, 'bias_initializer': {'class_name': 'Zeros', 'config': {}}, 'kernel_regularizer': None, 'bias_regularizer': None, 'activity_regularizer': None, 'kernel_constraint': None, 'bias_constraint': None}}, {'class_name': 'Dense', 'config': {'name': 'dense_454', 'trainable': True, 'dtype': 'float32', 'units': 126, 'activation': 'leaky_relu', 'use_bias': True, 'kernel_initializer': {'class_name': 'RandomNormal', 'config': {'mean': 0.0, 'stddev': 0.05, 'seed': None}}, 'bias_initializer': {'class_name': 'Zeros', 'config': {}}, 'kernel_regularizer': None, 'bias_regularizer': None, 'activity_regularizer': None, 'kernel_constraint': None, 'bias_constraint': None}}, {'class_name': 'Dense', 'config': {'name': 'dense_455', 'trainable': True, 'dtype': 'float32', 'units': 1, 'activation': 'leaky_relu', 'use_bias': True, 'kernel_initializer': {'class_name': 'GlorotUniform', 'config': {'seed': None}}, 'bias_initializer': {'class_name': 'Zeros', 'config': {}}, 'kernel_regularizer': None, 'bias_regularizer': None, 'activity_regularizer': None, 'kernel_constraint': None, 'bias_constraint': None}}]}\n"
     ]
    }
   ],
   "source": [
    "print(model2.get_config())"
   ]
  },
  {
   "cell_type": "code",
   "execution_count": null,
   "id": "printable-times",
   "metadata": {},
   "outputs": [],
   "source": []
  }
 ],
 "metadata": {
  "kernelspec": {
   "display_name": "Python 3",
   "language": "python",
   "name": "python3"
  },
  "language_info": {
   "codemirror_mode": {
    "name": "ipython",
    "version": 3
   },
   "file_extension": ".py",
   "mimetype": "text/x-python",
   "name": "python",
   "nbconvert_exporter": "python",
   "pygments_lexer": "ipython3",
   "version": "3.9.2"
  }
 },
 "nbformat": 4,
 "nbformat_minor": 5
}
