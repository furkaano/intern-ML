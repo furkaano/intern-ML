{
 "cells": [
  {
   "cell_type": "code",
   "execution_count": 1,
   "id": "advised-perth",
   "metadata": {},
   "outputs": [],
   "source": [
    "import numpy as np\n",
    "import pandas as pd\n",
    "import seaborn as sns\n",
    "import itertools\n",
    "import matplotlib.pyplot as plt\n",
    "import string\n",
    "import re\n",
    "import collections\n",
    "from sklearn import preprocessing\n",
    "\n",
    "%matplotlib inline"
   ]
  },
  {
   "cell_type": "code",
   "execution_count": 2,
   "id": "bulgarian-allergy",
   "metadata": {},
   "outputs": [
    {
     "name": "stdout",
     "output_type": "stream",
     "text": [
      "Defaulting to user installation because normal site-packages is not writeable\n",
      "Requirement already satisfied: keras in c:\\users\\burak\\appdata\\roaming\\python\\python39\\site-packages (2.6.0)\n"
     ]
    }
   ],
   "source": [
    "!pip install keras"
   ]
  },
  {
   "cell_type": "code",
   "execution_count": 3,
   "id": "vertical-shoulder",
   "metadata": {},
   "outputs": [],
   "source": [
    "# READ DATA \n",
    "train_df = pd.read_json('train.json.zip')\n",
    "test_df = pd.read_json('test.json.zip')"
   ]
  },
  {
   "cell_type": "markdown",
   "id": "protected-minutes",
   "metadata": {},
   "source": [
    "# TRAIN DATA FEATURE ENGINEERING"
   ]
  },
  {
   "cell_type": "code",
   "execution_count": 4,
   "id": "eleven-allah",
   "metadata": {},
   "outputs": [],
   "source": [
    "# convert TARGET to the numeric\n",
    "train_df['interest_level'] = train_df['interest_level'].apply(lambda x: 0 if x=='low' \n",
    "                                                      else 1 if x=='medium' \n",
    "                                                      else 2) \n",
    "# REMOVE UNNECESSARY WORDS FROM DESCRIPTION\n",
    "train_df['description'] = train_df['description'].apply(lambda x: x.replace(\"<br />\", \"\"))\n",
    "train_df['description'] = train_df['description'].apply(lambda x: x.replace(\"br\", \"\"))\n",
    "train_df['description'] = train_df['description'].apply(lambda x: x.replace(\"<p><a\", \"\"))\n",
    "\n",
    "#basic features\n",
    "train_df['rooms'] = train_df['bedrooms'] + train_df['bathrooms'] \n",
    "\n",
    "# count of photos #\n",
    "train_df[\"num_photos\"] = train_df[\"photos\"].apply(len)\n",
    "\n",
    "# count of \"features\" #\n",
    "train_df[\"num_features\"] = train_df[\"features\"].apply(len)\n",
    "\n",
    "# count of words present in description column #\n",
    "train_df[\"num_description_words\"] = train_df[\"description\"].apply(lambda x: len(x.split(\" \")))\n",
    "\n",
    "# description contains email\n",
    "regex = r'[\\w\\.-]+@[\\w\\.-]+'\n",
    "train_df['has_email'] = train_df['description'].apply(lambda x: 1 if re.findall(regex, x) else 0)\n",
    "\n",
    "# description contains phone\n",
    "train_df['has_phone'] = train_df['description'].apply(lambda x:re.sub('['+string.punctuation+']', '', x).split())\\\n",
    "        .apply(lambda x: [s for s in x if s.isdigit()])\\\n",
    "        .apply(lambda x: len([s for s in x if len(str(s))==10]))\\\n",
    "        .apply(lambda x: 1 if x>0 else 0)\n",
    "\n",
    "# CONVERT LOWER ALL OF WORDS\n",
    "train_df[[\"features\"]] = train_df[[\"features\"]].apply(\n",
    "    lambda _: [list(map(str.strip, map(str.lower, x))) for x in _])"
   ]
  },
  {
   "cell_type": "markdown",
   "id": "secondary-variable",
   "metadata": {},
   "source": [
    "# TEST DATA FEATURE ENGINEERING"
   ]
  },
  {
   "cell_type": "code",
   "execution_count": 5,
   "id": "flying-essex",
   "metadata": {},
   "outputs": [],
   "source": [
    "# REMOVE UNNECESSARY WORDS FROM DESCRIPTION\n",
    "test_df['description'] = test_df['description'].apply(lambda x: x.replace(\"<br />\", \"\"))\n",
    "test_df['description'] = test_df['description'].apply(lambda x: x.replace(\"br\", \"\"))\n",
    "test_df['description'] = test_df['description'].apply(lambda x: x.replace(\"<p><a\", \"\"))\n",
    "\n",
    "#basic features\n",
    "test_df['rooms'] = test_df['bedrooms'] + test_df['bathrooms'] \n",
    "\n",
    "# count of photos #\n",
    "test_df[\"num_photos\"] = test_df[\"photos\"].apply(len)\n",
    "\n",
    "# count of \"features\" #\n",
    "test_df[\"num_features\"] = test_df[\"features\"].apply(len)\n",
    "\n",
    "# count of words present in description column #\n",
    "test_df[\"num_description_words\"] = test_df[\"description\"].apply(lambda x: len(x.split(\" \")))\n",
    "\n",
    "# description contains email\n",
    "regex = r'[\\w\\.-]+@[\\w\\.-]+'\n",
    "test_df['has_email'] = test_df['description'].apply(lambda x: 1 if re.findall(regex, x) else 0)\n",
    "\n",
    "# description contains phone\n",
    "test_df['has_phone'] = test_df['description'].apply(lambda x:re.sub('['+string.punctuation+']', '', x).split())\\\n",
    "        .apply(lambda x: [s for s in x if s.isdigit()])\\\n",
    "        .apply(lambda x: len([s for s in x if len(str(s))==10]))\\\n",
    "        .apply(lambda x: 1 if x>0 else 0)\n",
    "\n",
    "# CONVERT LOWER ALL OF WORDS\n",
    "test_df[[\"features\"]] = test_df[[\"features\"]].apply(\n",
    "    lambda _: [list(map(str.strip, map(str.lower, x))) for x in _])"
   ]
  },
  {
   "cell_type": "markdown",
   "id": "varied-spank",
   "metadata": {},
   "source": [
    "# MOST FREQUENT FEATURES EXTRACTION"
   ]
  },
  {
   "cell_type": "code",
   "execution_count": 6,
   "id": "major-stomach",
   "metadata": {},
   "outputs": [],
   "source": [
    "feature_value_train = train_df['features'].tolist()\n",
    "feature_value_test = test_df['features'].tolist()\n",
    "\n",
    "feature_value_train\n",
    "feature_value_test\n",
    "\n",
    "feature_lst_train = []\n",
    "feature_lst_test = []\n",
    "\n",
    "for i in range(len(feature_value_train)):\n",
    "    feature_lst_train += feature_value_train[i]\n",
    "    \n",
    "for i in range(len(feature_value_test)):\n",
    "    feature_lst_test += feature_value_test[i]\n",
    "\n",
    "uniq_feature_train = list(set(feature_lst_train))\n",
    "uniq_feature_test = list(set(feature_lst_test))\n",
    "\n",
    "\n",
    "# see the frequency of each feature\n",
    "def most_common(lst):\n",
    "    features = collections.Counter(lst)\n",
    "    feature_value = features.keys()\n",
    "    frequency = features.values()\n",
    "    data = [('feature_value', feature_value),\n",
    "            ('frequency', frequency),]    \n",
    "    df = pd.DataFrame.from_dict(dict(data))\n",
    "    return df.sort_values(by = 'frequency', ascending = False)\n",
    "\n",
    "df_features_train = most_common(feature_lst_train)\n",
    "df_features_test = most_common(feature_lst_test)\n",
    "\n",
    "\n",
    "def newColumn(name, df, series):\n",
    "    feature = pd.Series(0,df.index,name = name)# data : 0\n",
    "    for row,word in enumerate(series):\n",
    "        if name in word:\n",
    "            feature.iloc[row] = 1\n",
    "    df[name] = feature # feature : series ; value in series : 1 or 0\n",
    "    return df\n",
    "\n",
    "# select features based on frequency\n",
    "facilities = ['elevator', 'cats allowed', 'hardwood floors', 'dogs allowed', 'doorman', 'dishwasher', 'no fee', 'laundry in building', 'fitness center']\n",
    "for name in facilities:\n",
    "    train_df = newColumn(name, train_df, train_df['features'])\n",
    "    test_df = newColumn(name, test_df, test_df['features'])"
   ]
  },
  {
   "cell_type": "markdown",
   "id": "controlled-frank",
   "metadata": {},
   "source": [
    "# LABEL ECONDING FOR CATEGORICAL VARIABLES"
   ]
  },
  {
   "cell_type": "code",
   "execution_count": 7,
   "id": "finished-responsibility",
   "metadata": {},
   "outputs": [],
   "source": [
    "categorical = [\"display_address\", \"manager_id\", \"building_id\", \"street_address\"]\n",
    "for f in categorical:\n",
    "        if train_df[f].dtype=='object':\n",
    "            #print(f)\n",
    "            lbl = preprocessing.LabelEncoder()\n",
    "            lbl.fit(list(train_df[f].values) + list(test_df[f].values))\n",
    "            train_df[f] = lbl.transform(list(train_df[f].values))\n",
    "            test_df[f] = lbl.transform(list(test_df[f].values))"
   ]
  },
  {
   "cell_type": "markdown",
   "id": "invalid-winner",
   "metadata": {},
   "source": [
    "### LOGARITHMIC EXPRESSION TO THE PRICE COLUMN"
   ]
  },
  {
   "cell_type": "code",
   "execution_count": 8,
   "id": "distinguished-margin",
   "metadata": {},
   "outputs": [],
   "source": [
    "train_df['price'] = np.log10(train_df['price'])\n",
    "test_df['price'] = np.log10(test_df['price'])"
   ]
  },
  {
   "cell_type": "markdown",
   "id": "immediate-advisory",
   "metadata": {},
   "source": [
    "# DROP UNNECESSARY COLUMNS"
   ]
  },
  {
   "cell_type": "code",
   "execution_count": 9,
   "id": "laughing-edgar",
   "metadata": {},
   "outputs": [],
   "source": [
    "# TRAINING DATASET\n",
    "train_df.drop('created', axis=1, inplace=True)\n",
    "train_df.drop('description', axis=1, inplace=True)\n",
    "train_df.drop('features', axis=1, inplace=True)\n",
    "train_df.drop('photos', axis=1, inplace=True)\n",
    "\n",
    "\n",
    "# TEST DATASET\n",
    "test_df.drop('created', axis=1, inplace=True)\n",
    "test_df.drop('description', axis=1, inplace=True)\n",
    "test_df.drop('features', axis=1, inplace=True)\n",
    "test_df.drop('photos', axis=1, inplace=True)"
   ]
  },
  {
   "cell_type": "markdown",
   "id": "challenging-distribution",
   "metadata": {},
   "source": [
    "# REGRESSION FOR PRICE"
   ]
  },
  {
   "cell_type": "code",
   "execution_count": 10,
   "id": "surprised-willow",
   "metadata": {},
   "outputs": [],
   "source": [
    "from sklearn.model_selection import train_test_split\n",
    "from sklearn.metrics import make_scorer, mean_absolute_error, mean_squared_error\n",
    "from sklearn.preprocessing import StandardScaler\n",
    "from sklearn.pipeline import Pipeline\n",
    "import xgboost as xgb\n",
    "from sklearn.linear_model import LinearRegression\n",
    "from sklearn.ensemble import RandomForestRegressor\n",
    "from sklearn.svm import SVR\n",
    "import optuna\n",
    "import math\n",
    "\n",
    "X = train_df.drop(['price'], axis = 1)\n",
    "y = train_df.price\n",
    "X_train, X_test, y_train, y_test = train_test_split(X, y, \n",
    "                                                    test_size = .3,\n",
    "                                                    random_state = 5)"
   ]
  },
  {
   "cell_type": "code",
   "execution_count": 11,
   "id": "limited-elder",
   "metadata": {},
   "outputs": [],
   "source": [
    "class Optimizer:\n",
    "    def __init__(self, metric, trials=30):\n",
    "        self.metric = metric\n",
    "        self.trials = trials\n",
    "        \n",
    "    def objective(self, trial):\n",
    "        model = create_model(trial)\n",
    "        model.fit(X, y)\n",
    "        preds = model.predict(X_test)\n",
    "        return mean_absolute_error(y_test, preds)\n",
    "            \n",
    "    def optimize(self):\n",
    "        study = optuna.create_study(direction=\"minimize\")\n",
    "        study.optimize(self.objective, n_trials=self.trials)\n",
    "        return study"
   ]
  },
  {
   "cell_type": "markdown",
   "id": "prostate-tumor",
   "metadata": {},
   "source": [
    "- XGB REGRESSOR OPTUNA PREDICTION"
   ]
  },
  {
   "cell_type": "code",
   "execution_count": 12,
   "id": "european-perspective",
   "metadata": {},
   "outputs": [
    {
     "name": "stderr",
     "output_type": "stream",
     "text": [
      "\u001b[32m[I 2021-09-28 18:16:31,160]\u001b[0m A new study created in memory with name: no-name-4e4d1acb-627a-4a26-a46f-efe213208e3d\u001b[0m\n"
     ]
    },
    {
     "name": "stdout",
     "output_type": "stream",
     "text": [
      "[18:16:32] WARNING: C:/Users/Administrator/workspace/xgboost-win64_release_1.4.0/src/learner.cc:573: \n",
      "Parameters: { \"colsample_bytree\", \"max_depth\", \"subsample\" } might not be used.\n",
      "\n",
      "  This may not be accurate due to some parameters are only used in language bindings but\n",
      "  passed down to XGBoost core.  Or some parameters are not used but slip through this\n",
      "  verification. Please open an issue if you find above cases.\n",
      "\n",
      "\n"
     ]
    },
    {
     "name": "stderr",
     "output_type": "stream",
     "text": [
      "\u001b[32m[I 2021-09-28 18:16:33,597]\u001b[0m Trial 0 finished with value: 0.20134641659672164 and parameters: {'n_estimators': 278, 'booster': 'gblinear', 'learning_rate': 0.010850385435729906, 'max_depth': 16, 'subsample': 0.5602141623432176, 'colsample_bytree': 0.3550977713232587}. Best is trial 0 with value: 0.20134641659672164.\u001b[0m\n",
      "\u001b[32m[I 2021-09-28 18:16:35,576]\u001b[0m Trial 1 finished with value: 2.2956628268885737 and parameters: {'n_estimators': 155, 'booster': 'gbtree', 'learning_rate': 0.0017626258456947554, 'max_depth': 13, 'subsample': 0.12389182216881356, 'colsample_bytree': 0.9802211044683887}. Best is trial 0 with value: 0.20134641659672164.\u001b[0m\n"
     ]
    },
    {
     "name": "stdout",
     "output_type": "stream",
     "text": [
      "[18:16:35] WARNING: C:/Users/Administrator/workspace/xgboost-win64_release_1.4.0/src/learner.cc:573: \n",
      "Parameters: { \"colsample_bytree\", \"max_depth\", \"subsample\" } might not be used.\n",
      "\n",
      "  This may not be accurate due to some parameters are only used in language bindings but\n",
      "  passed down to XGBoost core.  Or some parameters are not used but slip through this\n",
      "  verification. Please open an issue if you find above cases.\n",
      "\n",
      "\n"
     ]
    },
    {
     "name": "stderr",
     "output_type": "stream",
     "text": [
      "\u001b[32m[I 2021-09-28 18:16:35,872]\u001b[0m Trial 2 finished with value: 0.15561609354979272 and parameters: {'n_estimators': 57, 'booster': 'gblinear', 'learning_rate': 0.09090937355395878, 'max_depth': 16, 'subsample': 0.08121130392713005, 'colsample_bytree': 0.14918326225588963}. Best is trial 2 with value: 0.15561609354979272.\u001b[0m\n",
      "\u001b[32m[I 2021-09-28 18:18:00,390]\u001b[0m Trial 3 finished with value: 0.3052427650754199 and parameters: {'n_estimators': 287, 'booster': 'dart', 'learning_rate': 0.007958719630581626, 'max_depth': 18, 'subsample': 0.8765308177857986, 'colsample_bytree': 0.9317730625597962}. Best is trial 2 with value: 0.15561609354979272.\u001b[0m\n"
     ]
    },
    {
     "name": "stdout",
     "output_type": "stream",
     "text": [
      "[18:18:00] WARNING: C:/Users/Administrator/workspace/xgboost-win64_release_1.4.0/src/learner.cc:573: \n",
      "Parameters: { \"colsample_bytree\", \"max_depth\", \"subsample\" } might not be used.\n",
      "\n",
      "  This may not be accurate due to some parameters are only used in language bindings but\n",
      "  passed down to XGBoost core.  Or some parameters are not used but slip through this\n",
      "  verification. Please open an issue if you find above cases.\n",
      "\n",
      "\n"
     ]
    },
    {
     "name": "stderr",
     "output_type": "stream",
     "text": [
      "\u001b[32m[I 2021-09-28 18:18:01,239]\u001b[0m Trial 4 finished with value: 0.40488819871813514 and parameters: {'n_estimators': 178, 'booster': 'gblinear', 'learning_rate': 0.0026085547937412775, 'max_depth': 14, 'subsample': 0.49805551421137795, 'colsample_bytree': 0.17339968259869198}. Best is trial 2 with value: 0.15561609354979272.\u001b[0m\n"
     ]
    },
    {
     "name": "stdout",
     "output_type": "stream",
     "text": [
      "[18:18:01] WARNING: C:/Users/Administrator/workspace/xgboost-win64_release_1.4.0/src/learner.cc:573: \n",
      "Parameters: { \"colsample_bytree\", \"max_depth\", \"subsample\" } might not be used.\n",
      "\n",
      "  This may not be accurate due to some parameters are only used in language bindings but\n",
      "  passed down to XGBoost core.  Or some parameters are not used but slip through this\n",
      "  verification. Please open an issue if you find above cases.\n",
      "\n",
      "\n"
     ]
    },
    {
     "name": "stderr",
     "output_type": "stream",
     "text": [
      "\u001b[32m[I 2021-09-28 18:18:02,139]\u001b[0m Trial 5 finished with value: 0.13816810202554713 and parameters: {'n_estimators': 201, 'booster': 'gblinear', 'learning_rate': 0.038794947732943376, 'max_depth': 8, 'subsample': 0.35475333088057637, 'colsample_bytree': 0.2565025039121238}. Best is trial 5 with value: 0.13816810202554713.\u001b[0m\n"
     ]
    },
    {
     "name": "stdout",
     "output_type": "stream",
     "text": [
      "[18:18:02] WARNING: C:/Users/Administrator/workspace/xgboost-win64_release_1.4.0/src/learner.cc:573: \n",
      "Parameters: { \"colsample_bytree\", \"max_depth\", \"subsample\" } might not be used.\n",
      "\n",
      "  This may not be accurate due to some parameters are only used in language bindings but\n",
      "  passed down to XGBoost core.  Or some parameters are not used but slip through this\n",
      "  verification. Please open an issue if you find above cases.\n",
      "\n",
      "\n"
     ]
    },
    {
     "name": "stderr",
     "output_type": "stream",
     "text": [
      "\u001b[32m[I 2021-09-28 18:18:02,490]\u001b[0m Trial 6 finished with value: 0.4834928994833425 and parameters: {'n_estimators': 62, 'booster': 'gblinear', 'learning_rate': 0.004220197733275148, 'max_depth': 11, 'subsample': 0.6216350798688095, 'colsample_bytree': 0.9984109085549255}. Best is trial 5 with value: 0.13816810202554713.\u001b[0m\n",
      "\u001b[32m[I 2021-09-28 18:18:43,808]\u001b[0m Trial 7 finished with value: 0.11297685221950249 and parameters: {'n_estimators': 217, 'booster': 'dart', 'learning_rate': 0.015151791535627462, 'max_depth': 5, 'subsample': 0.5160642108567114, 'colsample_bytree': 0.8630406604673362}. Best is trial 7 with value: 0.11297685221950249.\u001b[0m\n",
      "\u001b[32m[I 2021-09-28 18:19:36,483]\u001b[0m Trial 8 finished with value: 0.587421074343272 and parameters: {'n_estimators': 283, 'booster': 'dart', 'learning_rate': 0.00576649424669692, 'max_depth': 10, 'subsample': 0.22941534976802191, 'colsample_bytree': 0.039485032651099816}. Best is trial 7 with value: 0.11297685221950249.\u001b[0m\n",
      "\u001b[32m[I 2021-09-28 18:19:59,349]\u001b[0m Trial 9 finished with value: 0.3752740532354861 and parameters: {'n_estimators': 177, 'booster': 'dart', 'learning_rate': 0.011708049095398024, 'max_depth': 8, 'subsample': 0.6508432364626597, 'colsample_bytree': 0.1441577754608615}. Best is trial 7 with value: 0.11297685221950249.\u001b[0m\n",
      "\u001b[32m[I 2021-09-28 18:20:03,548]\u001b[0m Trial 10 finished with value: 0.05846550366026192 and parameters: {'n_estimators': 220, 'booster': 'gbtree', 'learning_rate': 0.031072838638982535, 'max_depth': 3, 'subsample': 0.9739075319493142, 'colsample_bytree': 0.7316750435989867}. Best is trial 10 with value: 0.05846550366026192.\u001b[0m\n",
      "\u001b[32m[I 2021-09-28 18:20:07,604]\u001b[0m Trial 11 finished with value: 0.05961254492565995 and parameters: {'n_estimators': 222, 'booster': 'gbtree', 'learning_rate': 0.02615403917983725, 'max_depth': 3, 'subsample': 0.8837444104425657, 'colsample_bytree': 0.6959916409461873}. Best is trial 10 with value: 0.05846550366026192.\u001b[0m\n",
      "\u001b[32m[I 2021-09-28 18:20:12,953]\u001b[0m Trial 12 finished with value: 0.05440713988499602 and parameters: {'n_estimators': 235, 'booster': 'gbtree', 'learning_rate': 0.02958435775160548, 'max_depth': 4, 'subsample': 0.9907991054391596, 'colsample_bytree': 0.6671132017849196}. Best is trial 12 with value: 0.05440713988499602.\u001b[0m\n",
      "\u001b[32m[I 2021-09-28 18:20:17,407]\u001b[0m Trial 13 finished with value: 0.05589097448741416 and parameters: {'n_estimators': 248, 'booster': 'gbtree', 'learning_rate': 0.04437382526274447, 'max_depth': 3, 'subsample': 0.9618254747270856, 'colsample_bytree': 0.6344916812214643}. Best is trial 12 with value: 0.05440713988499602.\u001b[0m\n",
      "\u001b[32m[I 2021-09-28 18:20:24,430]\u001b[0m Trial 14 finished with value: 0.04022213537566826 and parameters: {'n_estimators': 253, 'booster': 'gbtree', 'learning_rate': 0.08978590366110982, 'max_depth': 6, 'subsample': 0.7716875269000669, 'colsample_bytree': 0.5436037326637597}. Best is trial 14 with value: 0.04022213537566826.\u001b[0m\n",
      "\u001b[32m[I 2021-09-28 18:20:28,015]\u001b[0m Trial 15 finished with value: 0.0449710808895469 and parameters: {'n_estimators': 127, 'booster': 'gbtree', 'learning_rate': 0.09850523941616411, 'max_depth': 6, 'subsample': 0.7599080218866521, 'colsample_bytree': 0.5108174045821224}. Best is trial 14 with value: 0.04022213537566826.\u001b[0m\n",
      "\u001b[32m[I 2021-09-28 18:20:31,786]\u001b[0m Trial 16 finished with value: 0.04196246933119493 and parameters: {'n_estimators': 120, 'booster': 'gbtree', 'learning_rate': 0.09730999682930463, 'max_depth': 7, 'subsample': 0.7654431080408227, 'colsample_bytree': 0.4508266581809238}. Best is trial 14 with value: 0.04022213537566826.\u001b[0m\n",
      "\u001b[32m[I 2021-09-28 18:20:34,724]\u001b[0m Trial 17 finished with value: 0.04783377273787802 and parameters: {'n_estimators': 97, 'booster': 'gbtree', 'learning_rate': 0.06164718326869186, 'max_depth': 7, 'subsample': 0.7562047614354799, 'colsample_bytree': 0.42800634464333054}. Best is trial 14 with value: 0.04022213537566826.\u001b[0m\n",
      "\u001b[32m[I 2021-09-28 18:20:39,299]\u001b[0m Trial 18 finished with value: 0.2573179828551095 and parameters: {'n_estimators': 125, 'booster': 'gbtree', 'learning_rate': 0.019521005922904056, 'max_depth': 10, 'subsample': 0.738950164845094, 'colsample_bytree': 0.5615313311039767}. Best is trial 14 with value: 0.04022213537566826.\u001b[0m\n",
      "\u001b[32m[I 2021-09-28 18:20:41,515]\u001b[0m Trial 19 finished with value: 0.0498002440186108 and parameters: {'n_estimators': 100, 'booster': 'gbtree', 'learning_rate': 0.07751973474030392, 'max_depth': 6, 'subsample': 0.3913503295763943, 'colsample_bytree': 0.3600833427997985}. Best is trial 14 with value: 0.04022213537566826.\u001b[0m\n",
      "\u001b[32m[I 2021-09-28 18:20:45,969]\u001b[0m Trial 20 finished with value: 2.5927745786430667 and parameters: {'n_estimators': 150, 'booster': 'gbtree', 'learning_rate': 0.0010101409088855192, 'max_depth': 9, 'subsample': 0.8366964282452021, 'colsample_bytree': 0.7738993980165132}. Best is trial 14 with value: 0.04022213537566826.\u001b[0m\n",
      "\u001b[32m[I 2021-09-28 18:20:49,537]\u001b[0m Trial 21 finished with value: 0.04504765923783559 and parameters: {'n_estimators': 122, 'booster': 'gbtree', 'learning_rate': 0.09825715093841987, 'max_depth': 6, 'subsample': 0.7665183954252648, 'colsample_bytree': 0.48858583926791616}. Best is trial 14 with value: 0.04022213537566826.\u001b[0m\n",
      "\u001b[32m[I 2021-09-28 18:20:51,712]\u001b[0m Trial 22 finished with value: 0.05496122255004031 and parameters: {'n_estimators': 89, 'booster': 'gbtree', 'learning_rate': 0.05597090645630203, 'max_depth': 5, 'subsample': 0.6845158499401646, 'colsample_bytree': 0.5407083206683605}. Best is trial 14 with value: 0.04022213537566826.\u001b[0m\n",
      "\u001b[32m[I 2021-09-28 18:20:56,024]\u001b[0m Trial 23 finished with value: 0.044778300574801345 and parameters: {'n_estimators': 137, 'booster': 'gbtree', 'learning_rate': 0.05609235140891544, 'max_depth': 7, 'subsample': 0.8146225026290295, 'colsample_bytree': 0.45498724489223946}. Best is trial 14 with value: 0.04022213537566826.\u001b[0m\n",
      "\u001b[32m[I 2021-09-28 18:21:01,272]\u001b[0m Trial 24 finished with value: 0.041108460163965924 and parameters: {'n_estimators': 153, 'booster': 'gbtree', 'learning_rate': 0.056856213060306075, 'max_depth': 8, 'subsample': 0.8414360426972909, 'colsample_bytree': 0.39318736502790197}. Best is trial 14 with value: 0.04022213537566826.\u001b[0m\n",
      "\u001b[32m[I 2021-09-28 18:21:10,635]\u001b[0m Trial 25 finished with value: 0.024229346488486608 and parameters: {'n_estimators': 160, 'booster': 'gbtree', 'learning_rate': 0.06583246456067667, 'max_depth': 12, 'subsample': 0.8801614460408014, 'colsample_bytree': 0.33119447295024507}. Best is trial 25 with value: 0.024229346488486608.\u001b[0m\n",
      "\u001b[32m[I 2021-09-28 18:21:18,351]\u001b[0m Trial 26 finished with value: 0.05687636824942095 and parameters: {'n_estimators': 189, 'booster': 'gbtree', 'learning_rate': 0.021762146750683796, 'max_depth': 12, 'subsample': 0.8828824994281316, 'colsample_bytree': 0.3025267796350044}. Best is trial 25 with value: 0.024229346488486608.\u001b[0m\n",
      "\u001b[32m[I 2021-09-28 18:21:30,871]\u001b[0m Trial 27 finished with value: 0.024906468124432417 and parameters: {'n_estimators': 159, 'booster': 'gbtree', 'learning_rate': 0.038328002016806466, 'max_depth': 14, 'subsample': 0.9169339786465963, 'colsample_bytree': 0.6008439542939819}. Best is trial 25 with value: 0.024229346488486608.\u001b[0m\n",
      "\u001b[32m[I 2021-09-28 18:21:59,196]\u001b[0m Trial 28 finished with value: 0.011530626244851312 and parameters: {'n_estimators': 258, 'booster': 'gbtree', 'learning_rate': 0.04059823671520865, 'max_depth': 15, 'subsample': 0.917745748048933, 'colsample_bytree': 0.804284637877227}. Best is trial 28 with value: 0.011530626244851312.\u001b[0m\n",
      "\u001b[32m[I 2021-09-28 18:23:14,494]\u001b[0m Trial 29 finished with value: 0.052272952032318465 and parameters: {'n_estimators': 266, 'booster': 'dart', 'learning_rate': 0.015486064871688618, 'max_depth': 15, 'subsample': 0.9106236541450503, 'colsample_bytree': 0.8697394147238559}. Best is trial 28 with value: 0.011530626244851312.\u001b[0m\n"
     ]
    },
    {
     "name": "stdout",
     "output_type": "stream",
     "text": [
      "Number of finished trials:  30\n",
      "Best trial:\n",
      "  Value: 0.011530626244851312\n",
      "  Params: \n",
      "    n_estimators: 258\n",
      "    booster: gbtree\n",
      "    learning_rate: 0.04059823671520865\n",
      "    max_depth: 15\n",
      "    subsample: 0.917745748048933\n",
      "    colsample_bytree: 0.804284637877227\n"
     ]
    }
   ],
   "source": [
    "def create_model(trial):\n",
    "    params = {\n",
    "         'n_estimators': trial.suggest_int('n_estimators', 50, 300),\n",
    "         'booster':trial.suggest_categorical('booster', ['gbtree', 'dart', 'gblinear']),\n",
    "         'learning_rate':trial.suggest_loguniform(\"learning_rate\", 0.001, 0.1),\n",
    "         'max_depth':trial.suggest_int(\"max_depth\", 3, 19),\n",
    "         'subsample':trial.suggest_uniform(\"subsample\", 0.0, 1.0),\n",
    "         'colsample_bytree':trial.suggest_uniform(\"colsample_bytree\", 0.0, 1.0),\n",
    "    }\n",
    "    model = xgb.XGBRegressor(**params)\n",
    "    return model\n",
    "\n",
    "optimizer = Optimizer('mae')\n",
    "xgb_opt_study = optimizer.optimize()\n",
    "xgb_opt_params = xgb_opt_study.best_params\n",
    "xgb_opt = xgb.XGBRegressor(**xgb_opt_params)   # Model\n",
    "xgb_opt.fit(X, y)\n",
    "preds = xgb_opt.predict(X_test)\n",
    "\n",
    "print(\"Number of finished trials: \", len(xgb_opt_study.trials))\n",
    "print(\"Best trial:\")\n",
    "xgb_trial = xgb_opt_study.best_trial\n",
    "\n",
    "print(\"  Value: {}\".format(xgb_trial.value))\n",
    "print(\"  Params: \")\n",
    "for key, value in xgb_trial.params.items():\n",
    "    print(\"    {}: {}\".format(key, value))"
   ]
  },
  {
   "cell_type": "markdown",
   "id": "based-prevention",
   "metadata": {},
   "source": [
    "- RANDOM FOREST OPTUNA PREDICTION"
   ]
  },
  {
   "cell_type": "code",
   "execution_count": 13,
   "id": "gentle-ladder",
   "metadata": {},
   "outputs": [
    {
     "name": "stderr",
     "output_type": "stream",
     "text": [
      "\u001b[32m[I 2021-09-28 18:23:43,132]\u001b[0m A new study created in memory with name: no-name-725abcb7-f8b2-48e1-9cfd-a4a151f1f2fb\u001b[0m\n",
      "\u001b[32m[I 2021-09-28 18:24:03,182]\u001b[0m Trial 0 finished with value: 0.04507073876475043 and parameters: {'n_estimators': 225, 'max_depth': 16, 'min_samples_leaf': 8, 'max_features': 'log2'}. Best is trial 0 with value: 0.04507073876475043.\u001b[0m\n",
      "\u001b[32m[I 2021-09-28 18:24:09,884]\u001b[0m Trial 1 finished with value: 0.06796315399765382 and parameters: {'n_estimators': 137, 'max_depth': 7, 'min_samples_leaf': 10, 'max_features': 'log2'}. Best is trial 0 with value: 0.04507073876475043.\u001b[0m\n",
      "\u001b[32m[I 2021-09-28 18:24:21,458]\u001b[0m Trial 2 finished with value: 0.0451363711803877 and parameters: {'n_estimators': 129, 'max_depth': 16, 'min_samples_leaf': 8, 'max_features': 'log2'}. Best is trial 0 with value: 0.04507073876475043.\u001b[0m\n",
      "\u001b[32m[I 2021-09-28 18:24:28,186]\u001b[0m Trial 3 finished with value: 0.04327169272641093 and parameters: {'n_estimators': 74, 'max_depth': 16, 'min_samples_leaf': 6, 'max_features': 'log2'}. Best is trial 3 with value: 0.04327169272641093.\u001b[0m\n",
      "\u001b[32m[I 2021-09-28 18:24:57,681]\u001b[0m Trial 4 finished with value: 0.08651551967499212 and parameters: {'n_estimators': 259, 'max_depth': 3, 'min_samples_leaf': 8, 'max_features': 'auto'}. Best is trial 3 with value: 0.04327169272641093.\u001b[0m\n",
      "\u001b[32m[I 2021-09-28 18:25:07,537]\u001b[0m Trial 5 finished with value: 0.07975035863039677 and parameters: {'n_estimators': 281, 'max_depth': 4, 'min_samples_leaf': 3, 'max_features': 'sqrt'}. Best is trial 3 with value: 0.04327169272641093.\u001b[0m\n",
      "\u001b[32m[I 2021-09-28 18:25:14,439]\u001b[0m Trial 6 finished with value: 0.06897011075236997 and parameters: {'n_estimators': 139, 'max_depth': 6, 'min_samples_leaf': 7, 'max_features': 'sqrt'}. Best is trial 3 with value: 0.04327169272641093.\u001b[0m\n",
      "\u001b[32m[I 2021-09-28 18:25:29,941]\u001b[0m Trial 7 finished with value: 0.04940570513981448 and parameters: {'n_estimators': 193, 'max_depth': 13, 'min_samples_leaf': 7, 'max_features': 'log2'}. Best is trial 3 with value: 0.04327169272641093.\u001b[0m\n",
      "\u001b[32m[I 2021-09-28 18:25:35,167]\u001b[0m Trial 8 finished with value: 0.04462446110000857 and parameters: {'n_estimators': 58, 'max_depth': 18, 'min_samples_leaf': 9, 'max_features': 'log2'}. Best is trial 3 with value: 0.04327169272641093.\u001b[0m\n",
      "\u001b[32m[I 2021-09-28 18:25:41,766]\u001b[0m Trial 9 finished with value: 0.05594679041460658 and parameters: {'n_estimators': 83, 'max_depth': 10, 'min_samples_leaf': 8, 'max_features': 'sqrt'}. Best is trial 3 with value: 0.04327169272641093.\u001b[0m\n",
      "\u001b[32m[I 2021-09-28 18:26:20,345]\u001b[0m Trial 10 finished with value: 0.044146380202439994 and parameters: {'n_estimators': 95, 'max_depth': 12, 'min_samples_leaf': 4, 'max_features': 'auto'}. Best is trial 3 with value: 0.04327169272641093.\u001b[0m\n",
      "\u001b[32m[I 2021-09-28 18:26:56,809]\u001b[0m Trial 11 finished with value: 0.04078416046650607 and parameters: {'n_estimators': 82, 'max_depth': 13, 'min_samples_leaf': 4, 'max_features': 'auto'}. Best is trial 11 with value: 0.04078416046650607.\u001b[0m\n",
      "\u001b[32m[I 2021-09-28 18:27:28,580]\u001b[0m Trial 12 finished with value: 0.036379234566074246 and parameters: {'n_estimators': 66, 'max_depth': 14, 'min_samples_leaf': 1, 'max_features': 'auto'}. Best is trial 12 with value: 0.036379234566074246.\u001b[0m\n",
      "\u001b[32m[I 2021-09-28 18:27:45,231]\u001b[0m Trial 13 finished with value: 0.05566574766605242 and parameters: {'n_estimators': 50, 'max_depth': 9, 'min_samples_leaf': 1, 'max_features': 'auto'}. Best is trial 12 with value: 0.036379234566074246.\u001b[0m\n",
      "\u001b[32m[I 2021-09-28 18:28:39,872]\u001b[0m Trial 14 finished with value: 0.036337307732971565 and parameters: {'n_estimators': 115, 'max_depth': 14, 'min_samples_leaf': 1, 'max_features': 'auto'}. Best is trial 14 with value: 0.036337307732971565.\u001b[0m\n",
      "\u001b[32m[I 2021-09-28 18:29:48,939]\u001b[0m Trial 15 finished with value: 0.02183871966090859 and parameters: {'n_estimators': 116, 'max_depth': 19, 'min_samples_leaf': 1, 'max_features': 'auto'}. Best is trial 15 with value: 0.02183871966090859.\u001b[0m\n",
      "\u001b[32m[I 2021-09-28 18:31:24,434]\u001b[0m Trial 16 finished with value: 0.023103929565742993 and parameters: {'n_estimators': 169, 'max_depth': 19, 'min_samples_leaf': 2, 'max_features': 'auto'}. Best is trial 15 with value: 0.02183871966090859.\u001b[0m\n",
      "\u001b[32m[I 2021-09-28 18:33:00,742]\u001b[0m Trial 17 finished with value: 0.02494869709816693 and parameters: {'n_estimators': 176, 'max_depth': 19, 'min_samples_leaf': 3, 'max_features': 'auto'}. Best is trial 15 with value: 0.02183871966090859.\u001b[0m\n",
      "\u001b[32m[I 2021-09-28 18:34:32,957]\u001b[0m Trial 18 finished with value: 0.023097918001432672 and parameters: {'n_estimators': 163, 'max_depth': 19, 'min_samples_leaf': 2, 'max_features': 'auto'}. Best is trial 15 with value: 0.02183871966090859.\u001b[0m\n",
      "\u001b[32m[I 2021-09-28 18:36:20,203]\u001b[0m Trial 19 finished with value: 0.031340922033522706 and parameters: {'n_estimators': 214, 'max_depth': 17, 'min_samples_leaf': 5, 'max_features': 'auto'}. Best is trial 15 with value: 0.02183871966090859.\u001b[0m\n",
      "\u001b[32m[I 2021-09-28 18:37:49,175]\u001b[0m Trial 20 finished with value: 0.023120239448811534 and parameters: {'n_estimators': 158, 'max_depth': 19, 'min_samples_leaf': 2, 'max_features': 'auto'}. Best is trial 15 with value: 0.02183871966090859.\u001b[0m\n",
      "\u001b[32m[I 2021-09-28 18:39:30,687]\u001b[0m Trial 21 finished with value: 0.023046318103145377 and parameters: {'n_estimators': 179, 'max_depth': 19, 'min_samples_leaf': 2, 'max_features': 'auto'}. Best is trial 15 with value: 0.02183871966090859.\u001b[0m\n",
      "\u001b[32m[I 2021-09-28 18:41:17,787]\u001b[0m Trial 22 finished with value: 0.027433104456267298 and parameters: {'n_estimators': 198, 'max_depth': 17, 'min_samples_leaf': 2, 'max_features': 'auto'}. Best is trial 15 with value: 0.02183871966090859.\u001b[0m\n",
      "\u001b[32m[I 2021-09-28 18:42:10,916]\u001b[0m Trial 23 finished with value: 0.03384885198319794 and parameters: {'n_estimators': 110, 'max_depth': 15, 'min_samples_leaf': 3, 'max_features': 'auto'}. Best is trial 15 with value: 0.02183871966090859.\u001b[0m\n",
      "\u001b[32m[I 2021-09-28 18:43:35,370]\u001b[0m Trial 24 finished with value: 0.024997969528377007 and parameters: {'n_estimators': 149, 'max_depth': 18, 'min_samples_leaf': 2, 'max_features': 'auto'}. Best is trial 15 with value: 0.02183871966090859.\u001b[0m\n",
      "\u001b[32m[I 2021-09-28 18:43:58,333]\u001b[0m Trial 25 finished with value: 0.03533720374958584 and parameters: {'n_estimators': 182, 'max_depth': 18, 'min_samples_leaf': 4, 'max_features': 'sqrt'}. Best is trial 15 with value: 0.02183871966090859.\u001b[0m\n",
      "\u001b[32m[I 2021-09-28 18:46:18,894]\u001b[0m Trial 26 finished with value: 0.026565067187329847 and parameters: {'n_estimators': 247, 'max_depth': 17, 'min_samples_leaf': 1, 'max_features': 'auto'}. Best is trial 15 with value: 0.02183871966090859.\u001b[0m\n",
      "\u001b[32m[I 2021-09-28 18:47:21,714]\u001b[0m Trial 27 finished with value: 0.02876393371673733 and parameters: {'n_estimators': 114, 'max_depth': 19, 'min_samples_leaf': 5, 'max_features': 'auto'}. Best is trial 15 with value: 0.02183871966090859.\u001b[0m\n",
      "\u001b[32m[I 2021-09-28 18:49:09,639]\u001b[0m Trial 28 finished with value: 0.03381863915618033 and parameters: {'n_estimators': 213, 'max_depth': 15, 'min_samples_leaf': 3, 'max_features': 'auto'}. Best is trial 15 with value: 0.02183871966090859.\u001b[0m\n",
      "\u001b[32m[I 2021-09-28 18:49:39,772]\u001b[0m Trial 29 finished with value: 0.035166408223321344 and parameters: {'n_estimators': 237, 'max_depth': 16, 'min_samples_leaf': 2, 'max_features': 'sqrt'}. Best is trial 15 with value: 0.02183871966090859.\u001b[0m\n"
     ]
    },
    {
     "name": "stdout",
     "output_type": "stream",
     "text": [
      "Number of finished trials:  30\n",
      "Best trial:\n",
      "  Value: 0.02183871966090859\n",
      "  Params: \n",
      "    n_estimators: 116\n",
      "    max_depth: 19\n",
      "    min_samples_leaf: 1\n",
      "    max_features: auto\n"
     ]
    }
   ],
   "source": [
    "def create_model(trial):\n",
    "    params = {\n",
    "        'n_estimators': trial.suggest_int('n_estimators', 50, 300),\n",
    "        'max_depth': trial.suggest_int('max_depth',3 ,19),\n",
    "        'min_samples_leaf': trial.suggest_int('min_samples_leaf', 1, 10),\n",
    "        'max_features': trial.suggest_categorical(\"max_features\", [\"auto\", \"sqrt\", \"log2\"])\n",
    "    }\n",
    "    model = RandomForestRegressor(**params)\n",
    "    return model\n",
    "\n",
    "optimizer = Optimizer('mae')\n",
    "rf_opt_study = optimizer.optimize()\n",
    "rf_opt_params = rf_opt_study.best_params\n",
    "rf_opt = RandomForestRegressor(**rf_opt_params)\n",
    "rf_opt.fit(X, y)\n",
    "preds = rf_opt.predict(X_test)\n",
    "\n",
    "print(\"Number of finished trials: \", len(rf_opt_study.trials))\n",
    "print(\"Best trial:\")\n",
    "rf_trial = rf_opt_study.best_trial\n",
    "\n",
    "print(\"  Value: {}\".format(rf_trial.value))\n",
    "print(\"  Params: \")\n",
    "for key, value in rf_trial.params.items():\n",
    "    print(\"    {}: {}\".format(key, value))"
   ]
  },
  {
   "cell_type": "markdown",
   "id": "broke-affairs",
   "metadata": {},
   "source": [
    "- LINEAR REGRESSION OPTUNA PREDICTION"
   ]
  },
  {
   "cell_type": "code",
   "execution_count": 15,
   "id": "reported-discussion",
   "metadata": {},
   "outputs": [
    {
     "name": "stderr",
     "output_type": "stream",
     "text": [
      "\u001b[32m[I 2021-09-28 18:51:22,470]\u001b[0m A new study created in memory with name: no-name-c274156e-4c6c-4aa0-8a81-782de0c30417\u001b[0m\n",
      "\u001b[32m[I 2021-09-28 18:51:22,532]\u001b[0m Trial 0 finished with value: 0.08446668127102264 and parameters: {'copy_X': 'False', 'fit_intercept': 'True', 'n_jobs': 2}. Best is trial 0 with value: 0.08446668127102264.\u001b[0m\n",
      "\u001b[32m[I 2021-09-28 18:51:22,580]\u001b[0m Trial 1 finished with value: 0.08446668127102264 and parameters: {'copy_X': 'True', 'fit_intercept': 'False', 'n_jobs': 2}. Best is trial 0 with value: 0.08446668127102264.\u001b[0m\n",
      "\u001b[32m[I 2021-09-28 18:51:22,629]\u001b[0m Trial 2 finished with value: 0.08446668127102264 and parameters: {'copy_X': 'True', 'fit_intercept': 'False', 'n_jobs': -1}. Best is trial 0 with value: 0.08446668127102264.\u001b[0m\n",
      "\u001b[32m[I 2021-09-28 18:51:22,679]\u001b[0m Trial 3 finished with value: 0.08446668127102264 and parameters: {'copy_X': 'True', 'fit_intercept': 'False', 'n_jobs': 1}. Best is trial 0 with value: 0.08446668127102264.\u001b[0m\n",
      "\u001b[32m[I 2021-09-28 18:51:22,727]\u001b[0m Trial 4 finished with value: 0.08446668127102264 and parameters: {'copy_X': 'False', 'fit_intercept': 'True', 'n_jobs': -1}. Best is trial 0 with value: 0.08446668127102264.\u001b[0m\n",
      "\u001b[32m[I 2021-09-28 18:51:22,774]\u001b[0m Trial 5 finished with value: 0.08446668127102264 and parameters: {'copy_X': 'False', 'fit_intercept': 'False', 'n_jobs': 0}. Best is trial 0 with value: 0.08446668127102264.\u001b[0m\n",
      "\u001b[32m[I 2021-09-28 18:51:22,822]\u001b[0m Trial 6 finished with value: 0.08446668127102264 and parameters: {'copy_X': 'False', 'fit_intercept': 'False', 'n_jobs': 1}. Best is trial 0 with value: 0.08446668127102264.\u001b[0m\n",
      "\u001b[32m[I 2021-09-28 18:51:22,871]\u001b[0m Trial 7 finished with value: 0.08446668127102264 and parameters: {'copy_X': 'False', 'fit_intercept': 'True', 'n_jobs': 3}. Best is trial 0 with value: 0.08446668127102264.\u001b[0m\n",
      "\u001b[32m[I 2021-09-28 18:51:22,923]\u001b[0m Trial 8 finished with value: 0.08446668127102264 and parameters: {'copy_X': 'True', 'fit_intercept': 'True', 'n_jobs': 1}. Best is trial 0 with value: 0.08446668127102264.\u001b[0m\n",
      "\u001b[32m[I 2021-09-28 18:51:22,972]\u001b[0m Trial 9 finished with value: 0.08446668127102264 and parameters: {'copy_X': 'True', 'fit_intercept': 'False', 'n_jobs': 2}. Best is trial 0 with value: 0.08446668127102264.\u001b[0m\n",
      "\u001b[32m[I 2021-09-28 18:51:23,024]\u001b[0m Trial 10 finished with value: 0.08446668127102264 and parameters: {'copy_X': 'False', 'fit_intercept': 'True', 'n_jobs': 3}. Best is trial 0 with value: 0.08446668127102264.\u001b[0m\n",
      "\u001b[32m[I 2021-09-28 18:51:23,078]\u001b[0m Trial 11 finished with value: 0.08446668127102264 and parameters: {'copy_X': 'True', 'fit_intercept': 'True', 'n_jobs': 2}. Best is trial 0 with value: 0.08446668127102264.\u001b[0m\n",
      "\u001b[32m[I 2021-09-28 18:51:23,138]\u001b[0m Trial 12 finished with value: 0.08446668127102264 and parameters: {'copy_X': 'False', 'fit_intercept': 'False', 'n_jobs': 2}. Best is trial 0 with value: 0.08446668127102264.\u001b[0m\n",
      "\u001b[32m[I 2021-09-28 18:51:23,202]\u001b[0m Trial 13 finished with value: 0.08446668127102264 and parameters: {'copy_X': 'True', 'fit_intercept': 'True', 'n_jobs': 2}. Best is trial 0 with value: 0.08446668127102264.\u001b[0m\n",
      "\u001b[32m[I 2021-09-28 18:51:23,255]\u001b[0m Trial 14 finished with value: 0.08446668127102264 and parameters: {'copy_X': 'True', 'fit_intercept': 'True', 'n_jobs': 3}. Best is trial 0 with value: 0.08446668127102264.\u001b[0m\n",
      "\u001b[32m[I 2021-09-28 18:51:23,314]\u001b[0m Trial 15 finished with value: 0.08446668127102264 and parameters: {'copy_X': 'False', 'fit_intercept': 'False', 'n_jobs': 0}. Best is trial 0 with value: 0.08446668127102264.\u001b[0m\n",
      "\u001b[32m[I 2021-09-28 18:51:23,369]\u001b[0m Trial 16 finished with value: 0.08446668127102264 and parameters: {'copy_X': 'False', 'fit_intercept': 'False', 'n_jobs': 2}. Best is trial 0 with value: 0.08446668127102264.\u001b[0m\n",
      "\u001b[32m[I 2021-09-28 18:51:23,431]\u001b[0m Trial 17 finished with value: 0.08446668127102264 and parameters: {'copy_X': 'True', 'fit_intercept': 'True', 'n_jobs': 3}. Best is trial 0 with value: 0.08446668127102264.\u001b[0m\n",
      "\u001b[32m[I 2021-09-28 18:51:23,497]\u001b[0m Trial 18 finished with value: 0.08446668127102264 and parameters: {'copy_X': 'False', 'fit_intercept': 'True', 'n_jobs': 0}. Best is trial 0 with value: 0.08446668127102264.\u001b[0m\n",
      "\u001b[32m[I 2021-09-28 18:51:23,563]\u001b[0m Trial 19 finished with value: 0.08446668127102264 and parameters: {'copy_X': 'False', 'fit_intercept': 'False', 'n_jobs': 2}. Best is trial 0 with value: 0.08446668127102264.\u001b[0m\n",
      "\u001b[32m[I 2021-09-28 18:51:23,628]\u001b[0m Trial 20 finished with value: 0.08446668127102264 and parameters: {'copy_X': 'True', 'fit_intercept': 'True', 'n_jobs': 3}. Best is trial 0 with value: 0.08446668127102264.\u001b[0m\n",
      "\u001b[32m[I 2021-09-28 18:51:23,686]\u001b[0m Trial 21 finished with value: 0.08446668127102264 and parameters: {'copy_X': 'False', 'fit_intercept': 'True', 'n_jobs': 0}. Best is trial 0 with value: 0.08446668127102264.\u001b[0m\n",
      "\u001b[32m[I 2021-09-28 18:51:23,742]\u001b[0m Trial 22 finished with value: 0.08446668127102264 and parameters: {'copy_X': 'False', 'fit_intercept': 'True', 'n_jobs': 0}. Best is trial 0 with value: 0.08446668127102264.\u001b[0m\n",
      "\u001b[32m[I 2021-09-28 18:51:23,797]\u001b[0m Trial 23 finished with value: 0.08446668127102264 and parameters: {'copy_X': 'False', 'fit_intercept': 'True', 'n_jobs': 3}. Best is trial 0 with value: 0.08446668127102264.\u001b[0m\n",
      "\u001b[32m[I 2021-09-28 18:51:23,850]\u001b[0m Trial 24 finished with value: 0.08446668127102264 and parameters: {'copy_X': 'False', 'fit_intercept': 'True', 'n_jobs': 1}. Best is trial 0 with value: 0.08446668127102264.\u001b[0m\n",
      "\u001b[32m[I 2021-09-28 18:51:23,913]\u001b[0m Trial 25 finished with value: 0.08446668127102264 and parameters: {'copy_X': 'False', 'fit_intercept': 'True', 'n_jobs': 0}. Best is trial 0 with value: 0.08446668127102264.\u001b[0m\n",
      "\u001b[32m[I 2021-09-28 18:51:23,969]\u001b[0m Trial 26 finished with value: 0.08446668127102264 and parameters: {'copy_X': 'False', 'fit_intercept': 'True', 'n_jobs': -1}. Best is trial 0 with value: 0.08446668127102264.\u001b[0m\n",
      "\u001b[32m[I 2021-09-28 18:51:24,023]\u001b[0m Trial 27 finished with value: 0.08446668127102264 and parameters: {'copy_X': 'False', 'fit_intercept': 'True', 'n_jobs': 1}. Best is trial 0 with value: 0.08446668127102264.\u001b[0m\n",
      "\u001b[32m[I 2021-09-28 18:51:24,078]\u001b[0m Trial 28 finished with value: 0.08446668127102264 and parameters: {'copy_X': 'False', 'fit_intercept': 'True', 'n_jobs': 1}. Best is trial 0 with value: 0.08446668127102264.\u001b[0m\n",
      "\u001b[32m[I 2021-09-28 18:51:24,139]\u001b[0m Trial 29 finished with value: 0.08446668127102264 and parameters: {'copy_X': 'False', 'fit_intercept': 'True', 'n_jobs': -1}. Best is trial 0 with value: 0.08446668127102264.\u001b[0m\n"
     ]
    },
    {
     "name": "stdout",
     "output_type": "stream",
     "text": [
      "Number of finished trials:  30\n",
      "Best trial:\n",
      "  Value: 0.08446668127102264\n",
      "  Params: \n",
      "    copy_X: False\n",
      "    fit_intercept: True\n",
      "    n_jobs: 2\n"
     ]
    }
   ],
   "source": [
    "def create_model(trial):\n",
    "    params = {\n",
    "        'copy_X': trial.suggest_categorical(\"copy_X\", [\"True\", \"False\"]),\n",
    "        'fit_intercept': trial.suggest_categorical(\"fit_intercept\", [\"True\", \"False\"]),\n",
    "        'n_jobs': trial.suggest_int('n_jobs',-1 ,3),\n",
    "    }\n",
    "    model = LinearRegression(**params)\n",
    "    return model\n",
    "\n",
    "optimizer = Optimizer('mae')\n",
    "lr_opt_study = optimizer.optimize()\n",
    "lr_opt_params = lr_opt_study.best_params\n",
    "lr_opt = LinearRegression(**lr_opt_params)\n",
    "lr_opt.fit(X, y)\n",
    "preds = lr_opt.predict(X_test)\n",
    "\n",
    "print(\"Number of finished trials: \", len(lr_opt_study.trials))\n",
    "print(\"Best trial:\")\n",
    "lr_trial = lr_opt_study.best_trial\n",
    "\n",
    "print(\"  Value: {}\".format(lr_trial.value))\n",
    "print(\"  Params: \")\n",
    "for key, value in lr_trial.params.items():\n",
    "    print(\"    {}: {}\".format(key, value))"
   ]
  },
  {
   "cell_type": "markdown",
   "id": "facial-bleeding",
   "metadata": {},
   "source": [
    "Let me show description of price"
   ]
  },
  {
   "cell_type": "code",
   "execution_count": 16,
   "id": "prostate-conditioning",
   "metadata": {},
   "outputs": [
    {
     "data": {
      "text/plain": [
       "count    49352.000000\n",
       "mean         3.517365\n",
       "std          0.187979\n",
       "min          1.633468\n",
       "25%          3.397940\n",
       "50%          3.498311\n",
       "75%          3.612784\n",
       "max          6.652246\n",
       "Name: price, dtype: float64"
      ]
     },
     "execution_count": 16,
     "metadata": {},
     "output_type": "execute_result"
    }
   ],
   "source": [
    "train_df['price'].describe()"
   ]
  },
  {
   "cell_type": "markdown",
   "id": "minor-necessity",
   "metadata": {},
   "source": [
    "* Pipeline for storing models"
   ]
  },
  {
   "cell_type": "code",
   "execution_count": 17,
   "id": "floppy-honey",
   "metadata": {},
   "outputs": [],
   "source": [
    "pipeline_models = []\n",
    "\n",
    "xgb_default = xgb.XGBRegressor()\n",
    "rf_default = RandomForestRegressor()\n",
    "lr_default = LinearRegression()\n",
    "svm_default = SVR()\n",
    "\n",
    "models = [xgb_default, xgb_opt,\n",
    "          rf_default, rf_opt,\n",
    "          lr_default, lr_opt,\n",
    "          svm_default]\n",
    "\n",
    "model_names = ['XGB Regression (default)', 'XGB Regression (opt)', \n",
    "               'Random Forest (default)', 'Random Forest (opt)',\n",
    "               'Linear Regression (default)', 'Linear Regression (opt)',\n",
    "               'Support Vector Machine (default)']\n",
    "\n",
    "## Assign each model to a pipeline\n",
    "for name, model in zip(model_names,models):\n",
    "    pipeline = (\"Scaled_\"+ name,\n",
    "                Pipeline([(\"Scaler\",StandardScaler()),\n",
    "                          (name,model)\n",
    "                         ]))\n",
    "    pipeline_models.append(pipeline)"
   ]
  },
  {
   "cell_type": "markdown",
   "id": "injured-cycling",
   "metadata": {},
   "source": [
    "* Evaluate scores"
   ]
  },
  {
   "cell_type": "markdown",
   "id": "indirect-crossing",
   "metadata": {},
   "source": [
    "* BEFORE PREDICTION INVERSE LOG10"
   ]
  },
  {
   "cell_type": "code",
   "execution_count": 18,
   "id": "parental-thing",
   "metadata": {},
   "outputs": [],
   "source": [
    "train_df['price'] = 10 ** train_df['price']\n",
    "test_df['price'] = 10 ** test_df['price']"
   ]
  },
  {
   "cell_type": "code",
   "execution_count": 19,
   "id": "duplicate-giant",
   "metadata": {},
   "outputs": [
    {
     "data": {
      "text/plain": [
       "4         2400.0\n",
       "6         3800.0\n",
       "9         3495.0\n",
       "10        3000.0\n",
       "15        2795.0\n",
       "           ...  \n",
       "124000    2800.0\n",
       "124002    2395.0\n",
       "124004    1850.0\n",
       "124008    4195.0\n",
       "124009    4280.0\n",
       "Name: price, Length: 49352, dtype: float64"
      ]
     },
     "execution_count": 19,
     "metadata": {},
     "output_type": "execute_result"
    }
   ],
   "source": [
    "train_df['price']"
   ]
  },
  {
   "cell_type": "code",
   "execution_count": 20,
   "id": "charitable-reasoning",
   "metadata": {},
   "outputs": [],
   "source": [
    "from sklearn.model_selection import KFold\n",
    "from sklearn.model_selection import cross_val_score, cross_validate\n",
    "\n",
    "## Create a dataframe to store all the models' cross validation score\n",
    "evaluate = pd.DataFrame(columns=[\"model\",\"cv_MAE\", \"cv_RMSE\"])\n",
    "kfold = KFold(n_splits=5, shuffle=True, random_state=42)\n",
    "\n",
    "## Encoded dataset\n",
    "for name,model in pipeline_models:\n",
    "    scores = cross_validate(model, X, y, cv=kfold, n_jobs=-1,\n",
    "                         scoring=('neg_root_mean_squared_error', 'neg_mean_absolute_error'))\n",
    "    \n",
    "    row = evaluate.shape[0]\n",
    "    evaluate.loc[row,\"model\"] = name\n",
    "    evaluate.loc[row,\"cv_MAE\"] = round(abs(scores['test_neg_mean_absolute_error']).mean(), 3)\n",
    "    evaluate.loc[row,\"cv_RMSE\"] = round(abs(scores['test_neg_root_mean_squared_error']).mean(), 3)"
   ]
  },
  {
   "cell_type": "code",
   "execution_count": 21,
   "id": "sublime-numbers",
   "metadata": {},
   "outputs": [
    {
     "data": {
      "text/html": [
       "<div>\n",
       "<style scoped>\n",
       "    .dataframe tbody tr th:only-of-type {\n",
       "        vertical-align: middle;\n",
       "    }\n",
       "\n",
       "    .dataframe tbody tr th {\n",
       "        vertical-align: top;\n",
       "    }\n",
       "\n",
       "    .dataframe thead th {\n",
       "        text-align: right;\n",
       "    }\n",
       "</style>\n",
       "<table border=\"1\" class=\"dataframe\">\n",
       "  <thead>\n",
       "    <tr style=\"text-align: right;\">\n",
       "      <th></th>\n",
       "      <th>model</th>\n",
       "      <th>cv_MAE</th>\n",
       "      <th>cv_RMSE</th>\n",
       "    </tr>\n",
       "  </thead>\n",
       "  <tbody>\n",
       "    <tr>\n",
       "      <th>0</th>\n",
       "      <td>Scaled_XGB Regression (default)</td>\n",
       "      <td>746.231</td>\n",
       "      <td>17043.802</td>\n",
       "    </tr>\n",
       "    <tr>\n",
       "      <th>1</th>\n",
       "      <td>Scaled_XGB Regression (opt)</td>\n",
       "      <td>616.097</td>\n",
       "      <td>17431.662</td>\n",
       "    </tr>\n",
       "    <tr>\n",
       "      <th>2</th>\n",
       "      <td>Scaled_Random Forest (default)</td>\n",
       "      <td>683.183</td>\n",
       "      <td>17333.613</td>\n",
       "    </tr>\n",
       "    <tr>\n",
       "      <th>3</th>\n",
       "      <td>Scaled_Random Forest (opt)</td>\n",
       "      <td>698.806</td>\n",
       "      <td>17190.847</td>\n",
       "    </tr>\n",
       "    <tr>\n",
       "      <th>4</th>\n",
       "      <td>Scaled_Linear Regression (default)</td>\n",
       "      <td>1182.765</td>\n",
       "      <td>16114.983</td>\n",
       "    </tr>\n",
       "    <tr>\n",
       "      <th>5</th>\n",
       "      <td>Scaled_Linear Regression (opt)</td>\n",
       "      <td>1182.765</td>\n",
       "      <td>16114.983</td>\n",
       "    </tr>\n",
       "    <tr>\n",
       "      <th>6</th>\n",
       "      <td>Scaled_Support Vector Machine (default)</td>\n",
       "      <td>1122.515</td>\n",
       "      <td>16241.87</td>\n",
       "    </tr>\n",
       "  </tbody>\n",
       "</table>\n",
       "</div>"
      ],
      "text/plain": [
       "                                     model    cv_MAE    cv_RMSE\n",
       "0          Scaled_XGB Regression (default)   746.231  17043.802\n",
       "1              Scaled_XGB Regression (opt)   616.097  17431.662\n",
       "2           Scaled_Random Forest (default)   683.183  17333.613\n",
       "3               Scaled_Random Forest (opt)   698.806  17190.847\n",
       "4       Scaled_Linear Regression (default)  1182.765  16114.983\n",
       "5           Scaled_Linear Regression (opt)  1182.765  16114.983\n",
       "6  Scaled_Support Vector Machine (default)  1122.515   16241.87"
      ]
     },
     "execution_count": 21,
     "metadata": {},
     "output_type": "execute_result"
    }
   ],
   "source": [
    "evaluate"
   ]
  },
  {
   "cell_type": "markdown",
   "id": "asian-system",
   "metadata": {},
   "source": [
    "- MAE score visualization"
   ]
  },
  {
   "cell_type": "code",
   "execution_count": 22,
   "id": "orange-nightlife",
   "metadata": {},
   "outputs": [
    {
     "name": "stderr",
     "output_type": "stream",
     "text": [
      "C:\\Users\\burak\\AppData\\Roaming\\Python\\Python39\\site-packages\\seaborn\\_decorators.py:36: FutureWarning: Pass the following variables as keyword args: x, y. From version 0.12, the only valid positional argument will be `data`, and passing other arguments without an explicit keyword will result in an error or misinterpretation.\n",
      "  warnings.warn(\n"
     ]
    },
    {
     "data": {
      "text/plain": [
       "[Text(0, 0, 'Scaled_XGB Regression (default)'),\n",
       " Text(1, 0, 'Scaled_XGB Regression (opt)'),\n",
       " Text(2, 0, 'Scaled_Random Forest (default)'),\n",
       " Text(3, 0, 'Scaled_Random Forest (opt)'),\n",
       " Text(4, 0, 'Scaled_Linear Regression (default)'),\n",
       " Text(5, 0, 'Scaled_Linear Regression (opt)'),\n",
       " Text(6, 0, 'Scaled_Support Vector Machine (default)')]"
      ]
     },
     "execution_count": 22,
     "metadata": {},
     "output_type": "execute_result"
    },
    {
     "data": {
      "image/png": "[encoded data removed]",
      "text/plain": [
       "<Figure size 1152x648 with 1 Axes>"
      ]
     },
     "metadata": {
      "needs_background": "light"
     },
     "output_type": "display_data"
    }
   ],
   "source": [
    "## Visualization\n",
    "fig, ax = plt.subplots(figsize=(16,9))\n",
    "\n",
    "## Encoded dataset\n",
    "bar = sns.barplot(evaluate[\"model\"], evaluate[\"cv_MAE\"])\n",
    "for rec in bar.patches:\n",
    "    height = rec.get_height()\n",
    "    ax.text(rec.get_x() + rec.get_width()/2, height*1.02,height,ha=\"center\")\n",
    "ax.set_title(\"Cross Validate Score (MAE)\")\n",
    "ax.set_xticklabels(evaluate[\"model\"].to_list(),rotation =50)"
   ]
  },
  {
   "cell_type": "markdown",
   "id": "neutral-timer",
   "metadata": {},
   "source": [
    "- RMSE score visualization"
   ]
  },
  {
   "cell_type": "code",
   "execution_count": 23,
   "id": "subtle-glenn",
   "metadata": {},
   "outputs": [
    {
     "name": "stderr",
     "output_type": "stream",
     "text": [
      "C:\\Users\\burak\\AppData\\Roaming\\Python\\Python39\\site-packages\\seaborn\\_decorators.py:36: FutureWarning: Pass the following variables as keyword args: x, y. From version 0.12, the only valid positional argument will be `data`, and passing other arguments without an explicit keyword will result in an error or misinterpretation.\n",
      "  warnings.warn(\n"
     ]
    },
    {
     "data": {
      "text/plain": [
       "[Text(0, 0, 'Scaled_XGB Regression (default)'),\n",
       " Text(1, 0, 'Scaled_XGB Regression (opt)'),\n",
       " Text(2, 0, 'Scaled_Random Forest (default)'),\n",
       " Text(3, 0, 'Scaled_Random Forest (opt)'),\n",
       " Text(4, 0, 'Scaled_Linear Regression (default)'),\n",
       " Text(5, 0, 'Scaled_Linear Regression (opt)'),\n",
       " Text(6, 0, 'Scaled_Support Vector Machine (default)')]"
      ]
     },
     "execution_count": 23,
     "metadata": {},
     "output_type": "execute_result"
    },
    {
     "data": {
      "image/png": "[encoded data removed]",
      "text/plain": [
       "<Figure size 1152x648 with 1 Axes>"
      ]
     },
     "metadata": {
      "needs_background": "light"
     },
     "output_type": "display_data"
    }
   ],
   "source": [
    "## Visualization\n",
    "fig, ax = plt.subplots(figsize=(16,9))\n",
    "\n",
    "## Encoded dataset\n",
    "bar = sns.barplot(evaluate[\"model\"], evaluate[\"cv_RMSE\"])\n",
    "for rec in bar.patches:\n",
    "    height = rec.get_height()\n",
    "    ax.text(rec.get_x() + rec.get_width()/2, height*1.02,height,ha=\"center\")\n",
    "ax.set_title(\"Cross Validate Score (RMSE)\")\n",
    "ax.set_xticklabels(evaluate[\"model\"].to_list(),rotation =50)"
   ]
  }
 ],
 "metadata": {
  "kernelspec": {
   "display_name": "Python 3",
   "language": "python",
   "name": "python3"
  },
  "language_info": {
   "codemirror_mode": {
    "name": "ipython",
    "version": 3
   },
   "file_extension": ".py",
   "mimetype": "text/x-python",
   "name": "python",
   "nbconvert_exporter": "python",
   "pygments_lexer": "ipython3",
   "version": "3.9.2"
  }
 },
 "nbformat": 4,
 "nbformat_minor": 5
}
